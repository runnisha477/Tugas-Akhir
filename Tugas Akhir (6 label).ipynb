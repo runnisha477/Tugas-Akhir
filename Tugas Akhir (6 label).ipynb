{
 "cells": [
  {
   "cell_type": "code",
   "execution_count": 1,
   "id": "70f9d9bf",
   "metadata": {},
   "outputs": [
    {
     "data": {
      "text/plain": [
       "'C:\\\\Users\\\\KOMPUTER\\\\Documents\\\\Jupyter Notebooks'"
      ]
     },
     "execution_count": 1,
     "metadata": {},
     "output_type": "execute_result"
    }
   ],
   "source": [
    "# mencari directory saat ini\n",
    "import os\n",
    "os.getcwd()"
   ]
  },
  {
   "cell_type": "code",
   "execution_count": 2,
   "id": "d6b76d74",
   "metadata": {},
   "outputs": [],
   "source": [
    "# Merubah directory\n",
    "os.chdir('D:\\\\ITS\\\\Tugas Akhir\\\\Source Code')\n",
    "# Merubah directory (beneran)\n",
    "os.chdir('D:/ITS/Tugas Akhir/Source Code')"
   ]
  },
  {
   "cell_type": "code",
   "execution_count": 3,
   "id": "2937d8a2",
   "metadata": {},
   "outputs": [],
   "source": [
    "import numpy as np\n",
    "import pandas as pd\n",
    "import glob "
   ]
  },
  {
   "cell_type": "code",
   "execution_count": 4,
   "id": "9ec9ac99",
   "metadata": {},
   "outputs": [],
   "source": [
    "cur_path = \"D:/ITS/Tugas Akhir/Source Code/Dataset/\""
   ]
  },
  {
   "cell_type": "code",
   "execution_count": 5,
   "id": "a10566ef",
   "metadata": {},
   "outputs": [],
   "source": [
    "normal_file_names = glob.glob(cur_path+'/normal/*.csv')\n",
    "imnormal_horizontal_misalignment = glob.glob(cur_path+'/horizontal-misalignment/*.csv')\n",
    "imnormal_imbalance = glob.glob(cur_path+'/imbalance/*.csv')\n",
    "imnormal_overhang = glob.glob(cur_path+'/overhang/*.csv')\n",
    "imnormal_underhang = glob.glob(cur_path+'/underhang/*.csv')\n",
    "imnormal_vertical_misalignment = glob.glob(cur_path+'/vertical-misalignment/*.csv')"
   ]
  },
  {
   "cell_type": "code",
   "execution_count": 6,
   "id": "3ccb27bd",
   "metadata": {},
   "outputs": [],
   "source": [
    "def dataReader(path_names):\n",
    "    data_n = pd.DataFrame()\n",
    "    for i in path_names:\n",
    "        low_data = pd.read_csv(i,header=None)\n",
    "        data_n = pd.concat([data_n,low_data],ignore_index=True)\n",
    "    return data_n"
   ]
  },
  {
   "cell_type": "code",
   "execution_count": 7,
   "id": "9c7f250f",
   "metadata": {},
   "outputs": [],
   "source": [
    "data_normal = dataReader(normal_file_names)\n",
    "data_horizontal_misalignment = dataReader(imnormal_horizontal_misalignment)\n",
    "data_imbalance = dataReader(imnormal_imbalance)\n",
    "data_overhang = dataReader(imnormal_overhang)\n",
    "data_underhang = dataReader(imnormal_underhang)\n",
    "data_vertical_misalignment = dataReader(imnormal_vertical_misalignment)"
   ]
  },
  {
   "cell_type": "code",
   "execution_count": 8,
   "id": "62b70f12",
   "metadata": {},
   "outputs": [],
   "source": [
    "# DOWN SAMPLING\n",
    "\n",
    "def downSampler(data,a,b):\n",
    "    \"\"\"\n",
    "    data = data\n",
    "    a = start index\n",
    "    b = sampling rate\n",
    "    \"\"\"\n",
    "    data_decreased = pd.DataFrame()\n",
    "    x = b\n",
    "    for i in range(int(len(data)/x)):\n",
    "        data_decreased = data_decreased.append(data.iloc[a:b,:].sum()/x,ignore_index=True)\n",
    "        a += x\n",
    "        b += x\n",
    "    return data_decreased"
   ]
  },
  {
   "cell_type": "code",
   "execution_count": 9,
   "id": "ae0de541",
   "metadata": {},
   "outputs": [],
   "source": [
    "data_normal = downSampler(data_normal, 0, 50000)\n",
    "data_horizontal_misalignment = downSampler(data_horizontal_misalignment, 0, 50000)\n",
    "data_imbalance = downSampler(data_imbalance, 0, 50000)\n",
    "data_overhang = downSampler(data_overhang, 0, 50000)\n",
    "data_underhang = downSampler(data_underhang, 0, 50000)\n",
    "data_vertical_misalignment = downSampler(data_vertical_misalignment, 0, 50000)"
   ]
  },
  {
   "cell_type": "code",
   "execution_count": 10,
   "id": "642a1a20",
   "metadata": {},
   "outputs": [
    {
     "data": {
      "text/html": [
       "<div>\n",
       "<style scoped>\n",
       "    .dataframe tbody tr th:only-of-type {\n",
       "        vertical-align: middle;\n",
       "    }\n",
       "\n",
       "    .dataframe tbody tr th {\n",
       "        vertical-align: top;\n",
       "    }\n",
       "\n",
       "    .dataframe thead th {\n",
       "        text-align: right;\n",
       "    }\n",
       "</style>\n",
       "<table border=\"1\" class=\"dataframe\">\n",
       "  <thead>\n",
       "    <tr style=\"text-align: right;\">\n",
       "      <th></th>\n",
       "      <th>0</th>\n",
       "      <th>1</th>\n",
       "      <th>2</th>\n",
       "      <th>3</th>\n",
       "      <th>4</th>\n",
       "      <th>5</th>\n",
       "      <th>6</th>\n",
       "      <th>7</th>\n",
       "    </tr>\n",
       "  </thead>\n",
       "  <tbody>\n",
       "    <tr>\n",
       "      <th>0</th>\n",
       "      <td>0.004055</td>\n",
       "      <td>0.013189</td>\n",
       "      <td>0.003894</td>\n",
       "      <td>0.002324</td>\n",
       "      <td>-0.027389</td>\n",
       "      <td>0.000653</td>\n",
       "      <td>-0.035551</td>\n",
       "      <td>0.017286</td>\n",
       "    </tr>\n",
       "    <tr>\n",
       "      <th>1</th>\n",
       "      <td>-0.001035</td>\n",
       "      <td>0.015996</td>\n",
       "      <td>0.003567</td>\n",
       "      <td>0.002255</td>\n",
       "      <td>-0.051833</td>\n",
       "      <td>0.002957</td>\n",
       "      <td>-0.054043</td>\n",
       "      <td>0.017472</td>\n",
       "    </tr>\n",
       "    <tr>\n",
       "      <th>2</th>\n",
       "      <td>0.003208</td>\n",
       "      <td>0.006928</td>\n",
       "      <td>0.002353</td>\n",
       "      <td>0.002057</td>\n",
       "      <td>0.107578</td>\n",
       "      <td>0.000156</td>\n",
       "      <td>0.097477</td>\n",
       "      <td>0.018963</td>\n",
       "    </tr>\n",
       "    <tr>\n",
       "      <th>3</th>\n",
       "      <td>0.000746</td>\n",
       "      <td>0.025214</td>\n",
       "      <td>0.004951</td>\n",
       "      <td>0.002435</td>\n",
       "      <td>-0.032969</td>\n",
       "      <td>-0.009393</td>\n",
       "      <td>0.010228</td>\n",
       "      <td>0.016646</td>\n",
       "    </tr>\n",
       "    <tr>\n",
       "      <th>4</th>\n",
       "      <td>0.007249</td>\n",
       "      <td>-0.008664</td>\n",
       "      <td>-0.002407</td>\n",
       "      <td>0.001566</td>\n",
       "      <td>0.207741</td>\n",
       "      <td>0.026050</td>\n",
       "      <td>-0.005252</td>\n",
       "      <td>0.017316</td>\n",
       "    </tr>\n",
       "    <tr>\n",
       "      <th>...</th>\n",
       "      <td>...</td>\n",
       "      <td>...</td>\n",
       "      <td>...</td>\n",
       "      <td>...</td>\n",
       "      <td>...</td>\n",
       "      <td>...</td>\n",
       "      <td>...</td>\n",
       "      <td>...</td>\n",
       "    </tr>\n",
       "    <tr>\n",
       "      <th>245</th>\n",
       "      <td>0.000035</td>\n",
       "      <td>0.012087</td>\n",
       "      <td>0.000264</td>\n",
       "      <td>0.000707</td>\n",
       "      <td>0.247556</td>\n",
       "      <td>0.003112</td>\n",
       "      <td>0.094474</td>\n",
       "      <td>0.012970</td>\n",
       "    </tr>\n",
       "    <tr>\n",
       "      <th>246</th>\n",
       "      <td>-0.002064</td>\n",
       "      <td>0.010227</td>\n",
       "      <td>0.000312</td>\n",
       "      <td>0.000724</td>\n",
       "      <td>-0.052881</td>\n",
       "      <td>0.002874</td>\n",
       "      <td>-0.018619</td>\n",
       "      <td>0.013194</td>\n",
       "    </tr>\n",
       "    <tr>\n",
       "      <th>247</th>\n",
       "      <td>0.005816</td>\n",
       "      <td>0.012548</td>\n",
       "      <td>0.001805</td>\n",
       "      <td>0.000811</td>\n",
       "      <td>-0.414524</td>\n",
       "      <td>-0.000297</td>\n",
       "      <td>-0.207669</td>\n",
       "      <td>0.013307</td>\n",
       "    </tr>\n",
       "    <tr>\n",
       "      <th>248</th>\n",
       "      <td>-0.007534</td>\n",
       "      <td>0.013080</td>\n",
       "      <td>-0.000948</td>\n",
       "      <td>0.000608</td>\n",
       "      <td>0.152569</td>\n",
       "      <td>0.003673</td>\n",
       "      <td>0.026869</td>\n",
       "      <td>0.013501</td>\n",
       "    </tr>\n",
       "    <tr>\n",
       "      <th>249</th>\n",
       "      <td>0.005019</td>\n",
       "      <td>0.010923</td>\n",
       "      <td>0.000773</td>\n",
       "      <td>0.000690</td>\n",
       "      <td>0.121257</td>\n",
       "      <td>0.004308</td>\n",
       "      <td>0.071724</td>\n",
       "      <td>0.013532</td>\n",
       "    </tr>\n",
       "  </tbody>\n",
       "</table>\n",
       "<p>250 rows × 8 columns</p>\n",
       "</div>"
      ],
      "text/plain": [
       "            0         1         2         3         4         5         6  \\\n",
       "0    0.004055  0.013189  0.003894  0.002324 -0.027389  0.000653 -0.035551   \n",
       "1   -0.001035  0.015996  0.003567  0.002255 -0.051833  0.002957 -0.054043   \n",
       "2    0.003208  0.006928  0.002353  0.002057  0.107578  0.000156  0.097477   \n",
       "3    0.000746  0.025214  0.004951  0.002435 -0.032969 -0.009393  0.010228   \n",
       "4    0.007249 -0.008664 -0.002407  0.001566  0.207741  0.026050 -0.005252   \n",
       "..        ...       ...       ...       ...       ...       ...       ...   \n",
       "245  0.000035  0.012087  0.000264  0.000707  0.247556  0.003112  0.094474   \n",
       "246 -0.002064  0.010227  0.000312  0.000724 -0.052881  0.002874 -0.018619   \n",
       "247  0.005816  0.012548  0.001805  0.000811 -0.414524 -0.000297 -0.207669   \n",
       "248 -0.007534  0.013080 -0.000948  0.000608  0.152569  0.003673  0.026869   \n",
       "249  0.005019  0.010923  0.000773  0.000690  0.121257  0.004308  0.071724   \n",
       "\n",
       "            7  \n",
       "0    0.017286  \n",
       "1    0.017472  \n",
       "2    0.018963  \n",
       "3    0.016646  \n",
       "4    0.017316  \n",
       "..        ...  \n",
       "245  0.012970  \n",
       "246  0.013194  \n",
       "247  0.013307  \n",
       "248  0.013501  \n",
       "249  0.013532  \n",
       "\n",
       "[250 rows x 8 columns]"
      ]
     },
     "execution_count": 10,
     "metadata": {},
     "output_type": "execute_result"
    }
   ],
   "source": [
    "data_horizontal_misalignment"
   ]
  },
  {
   "cell_type": "code",
   "execution_count": 11,
   "id": "fd8ecd4e",
   "metadata": {},
   "outputs": [],
   "source": [
    "# FFT\n",
    "\n",
    "from scipy import signal\n",
    "def FFT(data):\n",
    "    autocorr = signal.fftconvolve(data,data[::-1],mode='full')\n",
    "    return pd.DataFrame(autocorr)"
   ]
  },
  {
   "cell_type": "code",
   "execution_count": 12,
   "id": "027cb766",
   "metadata": {},
   "outputs": [],
   "source": [
    "data_normal = FFT(data_normal)\n",
    "data_horizontal_misalignment = FFT(data_horizontal_misalignment)\n",
    "data_imbalance = FFT(data_imbalance)\n",
    "data_overhang = FFT(data_overhang)\n",
    "data_underhang = FFT(data_underhang)\n",
    "data_vertical_misalignment = FFT(data_vertical_misalignment)"
   ]
  },
  {
   "cell_type": "code",
   "execution_count": 26,
   "id": "f3ac8a54",
   "metadata": {},
   "outputs": [
    {
     "data": {
      "text/html": [
       "<div>\n",
       "<style scoped>\n",
       "    .dataframe tbody tr th:only-of-type {\n",
       "        vertical-align: middle;\n",
       "    }\n",
       "\n",
       "    .dataframe tbody tr th {\n",
       "        vertical-align: top;\n",
       "    }\n",
       "\n",
       "    .dataframe thead th {\n",
       "        text-align: right;\n",
       "    }\n",
       "</style>\n",
       "<table border=\"1\" class=\"dataframe\">\n",
       "  <thead>\n",
       "    <tr style=\"text-align: right;\">\n",
       "      <th></th>\n",
       "      <th>0</th>\n",
       "    </tr>\n",
       "  </thead>\n",
       "  <tbody>\n",
       "    <tr>\n",
       "      <th>0</th>\n",
       "      <td>1</td>\n",
       "    </tr>\n",
       "    <tr>\n",
       "      <th>1</th>\n",
       "      <td>1</td>\n",
       "    </tr>\n",
       "    <tr>\n",
       "      <th>2</th>\n",
       "      <td>1</td>\n",
       "    </tr>\n",
       "    <tr>\n",
       "      <th>3</th>\n",
       "      <td>1</td>\n",
       "    </tr>\n",
       "    <tr>\n",
       "      <th>4</th>\n",
       "      <td>1</td>\n",
       "    </tr>\n",
       "    <tr>\n",
       "      <th>...</th>\n",
       "      <td>...</td>\n",
       "    </tr>\n",
       "    <tr>\n",
       "      <th>2969</th>\n",
       "      <td>5</td>\n",
       "    </tr>\n",
       "    <tr>\n",
       "      <th>2970</th>\n",
       "      <td>5</td>\n",
       "    </tr>\n",
       "    <tr>\n",
       "      <th>2971</th>\n",
       "      <td>5</td>\n",
       "    </tr>\n",
       "    <tr>\n",
       "      <th>2972</th>\n",
       "      <td>5</td>\n",
       "    </tr>\n",
       "    <tr>\n",
       "      <th>2973</th>\n",
       "      <td>5</td>\n",
       "    </tr>\n",
       "  </tbody>\n",
       "</table>\n",
       "<p>2974 rows × 1 columns</p>\n",
       "</div>"
      ],
      "text/plain": [
       "      0\n",
       "0     1\n",
       "1     1\n",
       "2     1\n",
       "3     1\n",
       "4     1\n",
       "...  ..\n",
       "2969  5\n",
       "2970  5\n",
       "2971  5\n",
       "2972  5\n",
       "2973  5\n",
       "\n",
       "[2974 rows x 1 columns]"
      ]
     },
     "execution_count": 26,
     "metadata": {},
     "output_type": "execute_result"
    }
   ],
   "source": [
    "y_1 = pd.DataFrame(np.ones(int(len(data_normal)),dtype=int))\n",
    "y_2 = pd.DataFrame(np.zeros(int(len(data_horizontal_misalignment)),dtype=int))\n",
    "y_3 = pd.DataFrame(np.full((int(len(data_imbalance)),1),2))\n",
    "y_4 = pd.DataFrame(np.full((int(len(data_overhang)),1),3))\n",
    "y_5 = pd.DataFrame(np.full((int(len(data_underhang)),1),4))\n",
    "y_6 = pd.DataFrame(np.full((int(len(data_vertical_misalignment)),1),5))\n",
    "y = pd.concat([y_1,y_2,y_3,y_4,y_5,y_6], ignore_index=True)\n",
    "y"
   ]
  },
  {
   "cell_type": "code",
   "execution_count": 27,
   "id": "a46c66d1",
   "metadata": {},
   "outputs": [],
   "source": [
    "data = pd.concat([data_normal,data_horizontal_misalignment,data_imbalance,data_overhang,data_underhang,data_vertical_misalignment],ignore_index=True)"
   ]
  },
  {
   "cell_type": "code",
   "execution_count": 28,
   "id": "8902be1d",
   "metadata": {},
   "outputs": [
    {
     "data": {
      "text/html": [
       "<div>\n",
       "<style scoped>\n",
       "    .dataframe tbody tr th:only-of-type {\n",
       "        vertical-align: middle;\n",
       "    }\n",
       "\n",
       "    .dataframe tbody tr th {\n",
       "        vertical-align: top;\n",
       "    }\n",
       "\n",
       "    .dataframe thead th {\n",
       "        text-align: right;\n",
       "    }\n",
       "</style>\n",
       "<table border=\"1\" class=\"dataframe\">\n",
       "  <thead>\n",
       "    <tr style=\"text-align: right;\">\n",
       "      <th></th>\n",
       "      <th>0</th>\n",
       "      <th>1</th>\n",
       "      <th>2</th>\n",
       "      <th>3</th>\n",
       "      <th>4</th>\n",
       "      <th>5</th>\n",
       "      <th>6</th>\n",
       "      <th>7</th>\n",
       "      <th>8</th>\n",
       "      <th>9</th>\n",
       "      <th>10</th>\n",
       "      <th>11</th>\n",
       "      <th>12</th>\n",
       "      <th>13</th>\n",
       "      <th>14</th>\n",
       "    </tr>\n",
       "  </thead>\n",
       "  <tbody>\n",
       "    <tr>\n",
       "      <th>0</th>\n",
       "      <td>0.000080</td>\n",
       "      <td>0.000106</td>\n",
       "      <td>-2.688144e-05</td>\n",
       "      <td>0.000021</td>\n",
       "      <td>0.000134</td>\n",
       "      <td>0.000819</td>\n",
       "      <td>0.000202</td>\n",
       "      <td>0.000826</td>\n",
       "      <td>-0.001978</td>\n",
       "      <td>-0.000023</td>\n",
       "      <td>-0.001018</td>\n",
       "      <td>0.001986</td>\n",
       "      <td>-0.000063</td>\n",
       "      <td>0.000820</td>\n",
       "      <td>0.000082</td>\n",
       "    </tr>\n",
       "    <tr>\n",
       "      <th>1</th>\n",
       "      <td>-0.000107</td>\n",
       "      <td>0.000123</td>\n",
       "      <td>-3.686867e-05</td>\n",
       "      <td>0.000023</td>\n",
       "      <td>-0.000561</td>\n",
       "      <td>0.000378</td>\n",
       "      <td>0.002974</td>\n",
       "      <td>-0.000111</td>\n",
       "      <td>0.000856</td>\n",
       "      <td>0.000452</td>\n",
       "      <td>0.019707</td>\n",
       "      <td>0.001989</td>\n",
       "      <td>0.007907</td>\n",
       "      <td>0.001928</td>\n",
       "      <td>0.000165</td>\n",
       "    </tr>\n",
       "    <tr>\n",
       "      <th>2</th>\n",
       "      <td>0.000061</td>\n",
       "      <td>0.000078</td>\n",
       "      <td>-1.467340e-05</td>\n",
       "      <td>-0.000007</td>\n",
       "      <td>0.000596</td>\n",
       "      <td>0.000288</td>\n",
       "      <td>-0.004749</td>\n",
       "      <td>0.001813</td>\n",
       "      <td>0.003281</td>\n",
       "      <td>0.000596</td>\n",
       "      <td>-0.027309</td>\n",
       "      <td>0.000332</td>\n",
       "      <td>-0.006265</td>\n",
       "      <td>-0.000406</td>\n",
       "      <td>0.000262</td>\n",
       "    </tr>\n",
       "    <tr>\n",
       "      <th>3</th>\n",
       "      <td>-0.000090</td>\n",
       "      <td>0.000045</td>\n",
       "      <td>-1.779285e-05</td>\n",
       "      <td>0.000007</td>\n",
       "      <td>0.000066</td>\n",
       "      <td>0.000143</td>\n",
       "      <td>0.007113</td>\n",
       "      <td>-0.002307</td>\n",
       "      <td>-0.000353</td>\n",
       "      <td>0.000026</td>\n",
       "      <td>0.033991</td>\n",
       "      <td>0.001472</td>\n",
       "      <td>-0.000681</td>\n",
       "      <td>0.001328</td>\n",
       "      <td>0.000360</td>\n",
       "    </tr>\n",
       "    <tr>\n",
       "      <th>4</th>\n",
       "      <td>0.000042</td>\n",
       "      <td>-0.000227</td>\n",
       "      <td>7.739995e-07</td>\n",
       "      <td>0.000007</td>\n",
       "      <td>0.001112</td>\n",
       "      <td>-0.000999</td>\n",
       "      <td>0.011436</td>\n",
       "      <td>-0.002479</td>\n",
       "      <td>0.003176</td>\n",
       "      <td>0.000922</td>\n",
       "      <td>0.084062</td>\n",
       "      <td>0.004015</td>\n",
       "      <td>0.051950</td>\n",
       "      <td>0.004514</td>\n",
       "      <td>0.000450</td>\n",
       "    </tr>\n",
       "    <tr>\n",
       "      <th>...</th>\n",
       "      <td>...</td>\n",
       "      <td>...</td>\n",
       "      <td>...</td>\n",
       "      <td>...</td>\n",
       "      <td>...</td>\n",
       "      <td>...</td>\n",
       "      <td>...</td>\n",
       "      <td>...</td>\n",
       "      <td>...</td>\n",
       "      <td>...</td>\n",
       "      <td>...</td>\n",
       "      <td>...</td>\n",
       "      <td>...</td>\n",
       "      <td>...</td>\n",
       "      <td>...</td>\n",
       "    </tr>\n",
       "    <tr>\n",
       "      <th>2969</th>\n",
       "      <td>-0.000108</td>\n",
       "      <td>0.000053</td>\n",
       "      <td>9.626415e-04</td>\n",
       "      <td>0.000029</td>\n",
       "      <td>-0.001788</td>\n",
       "      <td>0.002696</td>\n",
       "      <td>-0.002182</td>\n",
       "      <td>0.006529</td>\n",
       "      <td>0.007583</td>\n",
       "      <td>0.001758</td>\n",
       "      <td>0.081514</td>\n",
       "      <td>0.004542</td>\n",
       "      <td>0.141690</td>\n",
       "      <td>0.002082</td>\n",
       "      <td>0.001239</td>\n",
       "    </tr>\n",
       "    <tr>\n",
       "      <th>2970</th>\n",
       "      <td>0.000017</td>\n",
       "      <td>-0.000315</td>\n",
       "      <td>8.031496e-04</td>\n",
       "      <td>-0.000043</td>\n",
       "      <td>-0.001177</td>\n",
       "      <td>0.004802</td>\n",
       "      <td>-0.003333</td>\n",
       "      <td>0.014344</td>\n",
       "      <td>0.006961</td>\n",
       "      <td>0.001941</td>\n",
       "      <td>-0.002822</td>\n",
       "      <td>0.007220</td>\n",
       "      <td>-0.017867</td>\n",
       "      <td>0.007218</td>\n",
       "      <td>0.000986</td>\n",
       "    </tr>\n",
       "    <tr>\n",
       "      <th>2971</th>\n",
       "      <td>0.000063</td>\n",
       "      <td>-0.000477</td>\n",
       "      <td>9.242943e-04</td>\n",
       "      <td>0.000024</td>\n",
       "      <td>-0.000738</td>\n",
       "      <td>0.001682</td>\n",
       "      <td>-0.002479</td>\n",
       "      <td>0.008890</td>\n",
       "      <td>0.000257</td>\n",
       "      <td>0.000214</td>\n",
       "      <td>-0.009351</td>\n",
       "      <td>0.002320</td>\n",
       "      <td>-0.029464</td>\n",
       "      <td>0.007439</td>\n",
       "      <td>0.000723</td>\n",
       "    </tr>\n",
       "    <tr>\n",
       "      <th>2972</th>\n",
       "      <td>0.000043</td>\n",
       "      <td>-0.000330</td>\n",
       "      <td>5.822241e-04</td>\n",
       "      <td>0.000018</td>\n",
       "      <td>0.000579</td>\n",
       "      <td>-0.001997</td>\n",
       "      <td>0.000769</td>\n",
       "      <td>-0.002675</td>\n",
       "      <td>-0.000462</td>\n",
       "      <td>-0.000507</td>\n",
       "      <td>-0.016280</td>\n",
       "      <td>-0.002716</td>\n",
       "      <td>-0.024603</td>\n",
       "      <td>-0.003007</td>\n",
       "      <td>0.000491</td>\n",
       "    </tr>\n",
       "    <tr>\n",
       "      <th>2973</th>\n",
       "      <td>0.000023</td>\n",
       "      <td>-0.000133</td>\n",
       "      <td>1.863781e-04</td>\n",
       "      <td>-0.000002</td>\n",
       "      <td>0.000158</td>\n",
       "      <td>-0.000486</td>\n",
       "      <td>0.000443</td>\n",
       "      <td>-0.001430</td>\n",
       "      <td>0.000150</td>\n",
       "      <td>-0.000113</td>\n",
       "      <td>-0.003441</td>\n",
       "      <td>-0.000476</td>\n",
       "      <td>-0.010261</td>\n",
       "      <td>-0.000845</td>\n",
       "      <td>0.000250</td>\n",
       "    </tr>\n",
       "  </tbody>\n",
       "</table>\n",
       "<p>2974 rows × 15 columns</p>\n",
       "</div>"
      ],
      "text/plain": [
       "            0         1             2         3         4         5   \\\n",
       "0     0.000080  0.000106 -2.688144e-05  0.000021  0.000134  0.000819   \n",
       "1    -0.000107  0.000123 -3.686867e-05  0.000023 -0.000561  0.000378   \n",
       "2     0.000061  0.000078 -1.467340e-05 -0.000007  0.000596  0.000288   \n",
       "3    -0.000090  0.000045 -1.779285e-05  0.000007  0.000066  0.000143   \n",
       "4     0.000042 -0.000227  7.739995e-07  0.000007  0.001112 -0.000999   \n",
       "...        ...       ...           ...       ...       ...       ...   \n",
       "2969 -0.000108  0.000053  9.626415e-04  0.000029 -0.001788  0.002696   \n",
       "2970  0.000017 -0.000315  8.031496e-04 -0.000043 -0.001177  0.004802   \n",
       "2971  0.000063 -0.000477  9.242943e-04  0.000024 -0.000738  0.001682   \n",
       "2972  0.000043 -0.000330  5.822241e-04  0.000018  0.000579 -0.001997   \n",
       "2973  0.000023 -0.000133  1.863781e-04 -0.000002  0.000158 -0.000486   \n",
       "\n",
       "            6         7         8         9         10        11        12  \\\n",
       "0     0.000202  0.000826 -0.001978 -0.000023 -0.001018  0.001986 -0.000063   \n",
       "1     0.002974 -0.000111  0.000856  0.000452  0.019707  0.001989  0.007907   \n",
       "2    -0.004749  0.001813  0.003281  0.000596 -0.027309  0.000332 -0.006265   \n",
       "3     0.007113 -0.002307 -0.000353  0.000026  0.033991  0.001472 -0.000681   \n",
       "4     0.011436 -0.002479  0.003176  0.000922  0.084062  0.004015  0.051950   \n",
       "...        ...       ...       ...       ...       ...       ...       ...   \n",
       "2969 -0.002182  0.006529  0.007583  0.001758  0.081514  0.004542  0.141690   \n",
       "2970 -0.003333  0.014344  0.006961  0.001941 -0.002822  0.007220 -0.017867   \n",
       "2971 -0.002479  0.008890  0.000257  0.000214 -0.009351  0.002320 -0.029464   \n",
       "2972  0.000769 -0.002675 -0.000462 -0.000507 -0.016280 -0.002716 -0.024603   \n",
       "2973  0.000443 -0.001430  0.000150 -0.000113 -0.003441 -0.000476 -0.010261   \n",
       "\n",
       "            13        14  \n",
       "0     0.000820  0.000082  \n",
       "1     0.001928  0.000165  \n",
       "2    -0.000406  0.000262  \n",
       "3     0.001328  0.000360  \n",
       "4     0.004514  0.000450  \n",
       "...        ...       ...  \n",
       "2969  0.002082  0.001239  \n",
       "2970  0.007218  0.000986  \n",
       "2971  0.007439  0.000723  \n",
       "2972 -0.003007  0.000491  \n",
       "2973 -0.000845  0.000250  \n",
       "\n",
       "[2974 rows x 15 columns]"
      ]
     },
     "execution_count": 28,
     "metadata": {},
     "output_type": "execute_result"
    }
   ],
   "source": [
    "data"
   ]
  },
  {
   "cell_type": "code",
   "execution_count": 29,
   "id": "a94cdeb3",
   "metadata": {},
   "outputs": [],
   "source": [
    "from sklearn.model_selection import train_test_split\n",
    "X_train, X_test, y_train, y_test = train_test_split(data, y, test_size=0.2, shuffle=True)"
   ]
  },
  {
   "cell_type": "code",
   "execution_count": 30,
   "id": "f13bc2e6",
   "metadata": {
    "scrolled": true
   },
   "outputs": [
    {
     "name": "stdout",
     "output_type": "stream",
     "text": [
      "Shape of Train Data : (2379, 15)\n",
      "Shape of Test Data : (595, 15)\n"
     ]
    }
   ],
   "source": [
    "print(\"Shape of Train Data : {}\".format(X_train.shape))\n",
    "print(\"Shape of Test Data : {}\".format(X_test.shape))"
   ]
  },
  {
   "cell_type": "code",
   "execution_count": 33,
   "id": "f6cb52f3",
   "metadata": {},
   "outputs": [
    {
     "name": "stdout",
     "output_type": "stream",
     "text": [
      "Model: \"sequential\"\n",
      "_________________________________________________________________\n",
      "Layer (type)                 Output Shape              Param #   \n",
      "=================================================================\n",
      "dense (Dense)                (None, 32)                512       \n",
      "_________________________________________________________________\n",
      "dense_1 (Dense)              (None, 64)                2112      \n",
      "_________________________________________________________________\n",
      "dense_2 (Dense)              (None, 128)               8320      \n",
      "_________________________________________________________________\n",
      "dense_3 (Dense)              (None, 64)                8256      \n",
      "_________________________________________________________________\n",
      "dense_4 (Dense)              (None, 32)                2080      \n",
      "_________________________________________________________________\n",
      "dense_5 (Dense)              (None, 7)                 231       \n",
      "=================================================================\n",
      "Total params: 21,511\n",
      "Trainable params: 21,511\n",
      "Non-trainable params: 0\n",
      "_________________________________________________________________\n"
     ]
    }
   ],
   "source": [
    "## DNN Deep Learning\n",
    "\n",
    "from tensorflow.keras.models import Sequential\n",
    "from tensorflow.keras.layers import Dense\n",
    "from tensorflow.keras.layers import Dropout\n",
    "from tensorflow.keras.callbacks import EarlyStopping\n",
    "\n",
    "early_stop = EarlyStopping(monitor='loss', patience=2)\n",
    "model = Sequential()\n",
    "\n",
    "model.add(Dense(32, activation='relu', input_shape=(15,),kernel_initializer='random_uniform'))\n",
    "model.add(Dense(64, activation='relu',kernel_initializer='random_uniform'))\n",
    "model.add(Dense(128, activation='relu',kernel_initializer='random_uniform'))\n",
    "model.add(Dense(64, activation='relu',kernel_initializer='random_uniform'))\n",
    "model.add(Dense(32, activation='relu',kernel_initializer='random_uniform'))\n",
    "model.add(Dense(7, activation='softmax',kernel_initializer='random_uniform'))\n",
    "\n",
    "model.compile(optimizer='adam', loss='sparse_categorical_crossentropy', metrics=['accuracy'])\n",
    "model.summary()"
   ]
  },
  {
   "cell_type": "code",
   "execution_count": 34,
   "id": "e1120d4e",
   "metadata": {},
   "outputs": [
    {
     "name": "stderr",
     "output_type": "stream",
     "text": [
      "C:\\Users\\KOMPUTER\\anaconda3\\lib\\site-packages\\sklearn\\utils\\validation.py:63: DataConversionWarning: A column-vector y was passed when a 1d array was expected. Please change the shape of y to (n_samples, ), for example using ravel().\n",
      "  return f(*args, **kwargs)\n"
     ]
    }
   ],
   "source": [
    "from sklearn.preprocessing import LabelEncoder\n",
    "y = LabelEncoder().fit_transform(y)"
   ]
  },
  {
   "cell_type": "code",
   "execution_count": 35,
   "id": "3ea9380c",
   "metadata": {},
   "outputs": [
    {
     "name": "stdout",
     "output_type": "stream",
     "text": [
      "Epoch 1/50\n",
      "60/60 [==============================] - 0s 5ms/step - loss: 1.9015 - accuracy: 0.1697 - val_loss: 1.8162 - val_accuracy: 0.1408\n",
      "Epoch 2/50\n",
      "60/60 [==============================] - 0s 2ms/step - loss: 1.7974 - accuracy: 0.1634 - val_loss: 1.7989 - val_accuracy: 0.1534\n",
      "Epoch 3/50\n",
      "60/60 [==============================] - 0s 2ms/step - loss: 1.7564 - accuracy: 0.1718 - val_loss: 1.6934 - val_accuracy: 0.1408\n",
      "Epoch 4/50\n",
      "60/60 [==============================] - 0s 2ms/step - loss: 1.6060 - accuracy: 0.2675 - val_loss: 1.5721 - val_accuracy: 0.3172\n",
      "Epoch 5/50\n",
      "60/60 [==============================] - 0s 2ms/step - loss: 1.4935 - accuracy: 0.3668 - val_loss: 1.3676 - val_accuracy: 0.3613\n",
      "Epoch 6/50\n",
      "60/60 [==============================] - 0s 2ms/step - loss: 1.2295 - accuracy: 0.4241 - val_loss: 1.2122 - val_accuracy: 0.3992\n",
      "Epoch 7/50\n",
      "60/60 [==============================] - 0s 2ms/step - loss: 1.0843 - accuracy: 0.4829 - val_loss: 1.0126 - val_accuracy: 0.5336\n",
      "Epoch 8/50\n",
      "60/60 [==============================] - 0s 2ms/step - loss: 0.9685 - accuracy: 0.5518 - val_loss: 0.9586 - val_accuracy: 0.5924\n",
      "Epoch 9/50\n",
      "60/60 [==============================] - 0s 2ms/step - loss: 0.9195 - accuracy: 0.5875 - val_loss: 1.0145 - val_accuracy: 0.5420\n",
      "Epoch 10/50\n",
      "60/60 [==============================] - 0s 2ms/step - loss: 0.9133 - accuracy: 0.5728 - val_loss: 0.9006 - val_accuracy: 0.6008\n",
      "Epoch 11/50\n",
      "60/60 [==============================] - 0s 2ms/step - loss: 0.8550 - accuracy: 0.6012 - val_loss: 0.8990 - val_accuracy: 0.5945\n",
      "Epoch 12/50\n",
      "60/60 [==============================] - 0s 2ms/step - loss: 0.8359 - accuracy: 0.6195 - val_loss: 0.8887 - val_accuracy: 0.6008\n",
      "Epoch 13/50\n",
      "60/60 [==============================] - 0s 2ms/step - loss: 0.8116 - accuracy: 0.6448 - val_loss: 0.8683 - val_accuracy: 0.6387\n",
      "Epoch 14/50\n",
      "60/60 [==============================] - 0s 2ms/step - loss: 0.7928 - accuracy: 0.6558 - val_loss: 0.8263 - val_accuracy: 0.6282\n",
      "Epoch 15/50\n",
      "60/60 [==============================] - 0s 2ms/step - loss: 0.7603 - accuracy: 0.6616 - val_loss: 0.8324 - val_accuracy: 0.6239\n",
      "Epoch 16/50\n",
      "60/60 [==============================] - 0s 2ms/step - loss: 0.7540 - accuracy: 0.6684 - val_loss: 0.8355 - val_accuracy: 0.6029\n",
      "Epoch 17/50\n",
      "60/60 [==============================] - 0s 2ms/step - loss: 0.7346 - accuracy: 0.6716 - val_loss: 0.7961 - val_accuracy: 0.6576\n",
      "Epoch 18/50\n",
      "60/60 [==============================] - 0s 2ms/step - loss: 0.7125 - accuracy: 0.7026 - val_loss: 0.8039 - val_accuracy: 0.6660\n",
      "Epoch 19/50\n",
      "60/60 [==============================] - 0s 2ms/step - loss: 0.7350 - accuracy: 0.6894 - val_loss: 0.7596 - val_accuracy: 0.7038\n",
      "Epoch 20/50\n",
      "60/60 [==============================] - 0s 2ms/step - loss: 0.6698 - accuracy: 0.7373 - val_loss: 0.7358 - val_accuracy: 0.7206\n",
      "Epoch 21/50\n",
      "60/60 [==============================] - 0s 2ms/step - loss: 0.6535 - accuracy: 0.7399 - val_loss: 0.6686 - val_accuracy: 0.7500\n",
      "Epoch 22/50\n",
      "60/60 [==============================] - 0s 2ms/step - loss: 0.6016 - accuracy: 0.7782 - val_loss: 0.6598 - val_accuracy: 0.7668\n",
      "Epoch 23/50\n",
      "60/60 [==============================] - 0s 2ms/step - loss: 0.5986 - accuracy: 0.7646 - val_loss: 0.6085 - val_accuracy: 0.7836\n",
      "Epoch 24/50\n",
      "60/60 [==============================] - 0s 2ms/step - loss: 0.5427 - accuracy: 0.8077 - val_loss: 0.6279 - val_accuracy: 0.7689\n",
      "Epoch 25/50\n",
      "60/60 [==============================] - 0s 2ms/step - loss: 0.5369 - accuracy: 0.7935 - val_loss: 0.6440 - val_accuracy: 0.7794\n",
      "Epoch 26/50\n",
      "60/60 [==============================] - 0s 2ms/step - loss: 0.4752 - accuracy: 0.8198 - val_loss: 0.5221 - val_accuracy: 0.8130\n",
      "Epoch 27/50\n",
      "60/60 [==============================] - 0s 2ms/step - loss: 0.4663 - accuracy: 0.8229 - val_loss: 0.4923 - val_accuracy: 0.8172\n",
      "Epoch 28/50\n",
      "60/60 [==============================] - 0s 2ms/step - loss: 0.4303 - accuracy: 0.8318 - val_loss: 0.4655 - val_accuracy: 0.8235\n",
      "Epoch 29/50\n",
      "60/60 [==============================] - 0s 2ms/step - loss: 0.4065 - accuracy: 0.8539 - val_loss: 0.4600 - val_accuracy: 0.8088\n",
      "Epoch 30/50\n",
      "60/60 [==============================] - 0s 2ms/step - loss: 0.4307 - accuracy: 0.8360 - val_loss: 0.4749 - val_accuracy: 0.8193\n",
      "Epoch 31/50\n",
      "60/60 [==============================] - 0s 2ms/step - loss: 0.3828 - accuracy: 0.8576 - val_loss: 0.4348 - val_accuracy: 0.8361\n",
      "Epoch 32/50\n",
      "60/60 [==============================] - 0s 2ms/step - loss: 0.3819 - accuracy: 0.8508 - val_loss: 0.4304 - val_accuracy: 0.8298\n",
      "Epoch 33/50\n",
      "60/60 [==============================] - 0s 2ms/step - loss: 0.3679 - accuracy: 0.8581 - val_loss: 0.4206 - val_accuracy: 0.8361\n",
      "Epoch 34/50\n",
      "60/60 [==============================] - 0s 2ms/step - loss: 0.3608 - accuracy: 0.8581 - val_loss: 0.4618 - val_accuracy: 0.8235\n",
      "Epoch 35/50\n",
      "60/60 [==============================] - 0s 2ms/step - loss: 0.3504 - accuracy: 0.8686 - val_loss: 0.4417 - val_accuracy: 0.8193\n",
      "Epoch 36/50\n",
      "60/60 [==============================] - 0s 2ms/step - loss: 0.3498 - accuracy: 0.8607 - val_loss: 0.3952 - val_accuracy: 0.8319\n",
      "Epoch 37/50\n",
      "60/60 [==============================] - 0s 2ms/step - loss: 0.3482 - accuracy: 0.8676 - val_loss: 0.3729 - val_accuracy: 0.8508\n",
      "Epoch 38/50\n",
      "60/60 [==============================] - 0s 2ms/step - loss: 0.3425 - accuracy: 0.8650 - val_loss: 0.3661 - val_accuracy: 0.8571\n",
      "Epoch 39/50\n",
      "60/60 [==============================] - 0s 2ms/step - loss: 0.3283 - accuracy: 0.8697 - val_loss: 0.4083 - val_accuracy: 0.8382\n",
      "Epoch 40/50\n",
      "60/60 [==============================] - 0s 2ms/step - loss: 0.3240 - accuracy: 0.8776 - val_loss: 0.3737 - val_accuracy: 0.8613\n",
      "Epoch 41/50\n",
      "60/60 [==============================] - 0s 2ms/step - loss: 0.3451 - accuracy: 0.8628 - val_loss: 0.3935 - val_accuracy: 0.8655\n",
      "Epoch 42/50\n",
      "60/60 [==============================] - 0s 2ms/step - loss: 0.3762 - accuracy: 0.8544 - val_loss: 0.3719 - val_accuracy: 0.8676\n",
      "Epoch 43/50\n",
      "60/60 [==============================] - 0s 2ms/step - loss: 0.3216 - accuracy: 0.8686 - val_loss: 0.5341 - val_accuracy: 0.8067\n",
      "Epoch 44/50\n",
      "60/60 [==============================] - 0s 2ms/step - loss: 0.3517 - accuracy: 0.8523 - val_loss: 0.4166 - val_accuracy: 0.8298\n",
      "Epoch 45/50\n",
      "60/60 [==============================] - 0s 2ms/step - loss: 0.3292 - accuracy: 0.8681 - val_loss: 0.3876 - val_accuracy: 0.8529\n",
      "Epoch 46/50\n",
      "60/60 [==============================] - 0s 2ms/step - loss: 0.2991 - accuracy: 0.8833 - val_loss: 0.3828 - val_accuracy: 0.8424\n",
      "Epoch 47/50\n",
      "60/60 [==============================] - 0s 2ms/step - loss: 0.2990 - accuracy: 0.8791 - val_loss: 0.3692 - val_accuracy: 0.8445\n",
      "Epoch 48/50\n",
      "60/60 [==============================] - 0s 2ms/step - loss: 0.3594 - accuracy: 0.8634 - val_loss: 0.3912 - val_accuracy: 0.8508\n",
      "Epoch 49/50\n",
      "60/60 [==============================] - 0s 2ms/step - loss: 0.2892 - accuracy: 0.8828 - val_loss: 0.5284 - val_accuracy: 0.7983\n",
      "Epoch 50/50\n",
      "60/60 [==============================] - 0s 2ms/step - loss: 0.3170 - accuracy: 0.8765 - val_loss: 0.3326 - val_accuracy: 0.8634\n"
     ]
    }
   ],
   "source": [
    "hist = model.fit(X_train , y_train , epochs=50, validation_split=0.2)"
   ]
  },
  {
   "cell_type": "code",
   "execution_count": 36,
   "id": "61655a16",
   "metadata": {},
   "outputs": [
    {
     "data": {
      "image/png": "[encoded data removed]",
      "text/plain": [
       "<Figure size 432x288 with 1 Axes>"
      ]
     },
     "metadata": {
      "needs_background": "light"
     },
     "output_type": "display_data"
    }
   ],
   "source": [
    "import matplotlib.pyplot as plt\n",
    "plt.plot(hist.history['accuracy'])\n",
    "plt.plot(hist.history['val_accuracy'])\n",
    "plt.title('model accuracy')\n",
    "plt.ylabel('accuracy')\n",
    "plt.xlabel('epoch')\n",
    "plt.legend(['train', 'val'], loc='upper left')\n",
    "plt.show()"
   ]
  },
  {
   "cell_type": "code",
   "execution_count": 37,
   "id": "757e105b",
   "metadata": {},
   "outputs": [
    {
     "data": {
      "image/png": "[encoded data removed]",
      "text/plain": [
       "<Figure size 432x288 with 1 Axes>"
      ]
     },
     "metadata": {
      "needs_background": "light"
     },
     "output_type": "display_data"
    }
   ],
   "source": [
    "import matplotlib.pyplot as plt\n",
    "plt.plot(hist.history['loss'])\n",
    "plt.plot(hist.history['val_loss'])\n",
    "plt.title('model loss')\n",
    "plt.ylabel('loss')\n",
    "plt.xlabel('epoch')\n",
    "plt.legend(['train', 'val'], loc='upper left')\n",
    "plt.show()"
   ]
  },
  {
   "cell_type": "code",
   "execution_count": 38,
   "id": "d48acd05",
   "metadata": {},
   "outputs": [
    {
     "name": "stdout",
     "output_type": "stream",
     "text": [
      "Training Accuracy:  0.8907103538513184\n",
      "Testing Accuracy:  0.8773109316825867\n"
     ]
    }
   ],
   "source": [
    "# Evaluating the model on the training and testing set\n",
    "score = model.evaluate(X_train, y_train, verbose=0)\n",
    "print(\"Training Accuracy: \", score[1])\n",
    "\n",
    "score = model.evaluate(X_test, y_test, verbose=0)\n",
    "print(\"Testing Accuracy: \", score[1])"
   ]
  },
  {
   "cell_type": "code",
   "execution_count": 59,
   "id": "21ec0c66",
   "metadata": {},
   "outputs": [],
   "source": [
    "preds = model.predict(X_test) # label scores \n",
    "\n",
    "classpreds = np.argmax(preds, axis=1) # predicted classes \n",
    "\n",
    "y_testclass = np.argmax(y_test, axis=1) # true classes\n",
    "\n",
    "n_classes=6 # number of classes"
   ]
  },
  {
   "cell_type": "code",
   "execution_count": 60,
   "id": "dcf851f7",
   "metadata": {},
   "outputs": [
    {
     "name": "stdout",
     "output_type": "stream",
     "text": [
      "[[102  88  83 104 102 116]\n",
      " [  0   0   0   0   0   0]\n",
      " [  0   0   0   0   0   0]\n",
      " [  0   0   0   0   0   0]\n",
      " [  0   0   0   0   0   0]\n",
      " [  0   0   0   0   0   0]]\n"
     ]
    },
    {
     "name": "stderr",
     "output_type": "stream",
     "text": [
      "<ipython-input-60-502124e4d9bb>:11: RuntimeWarning: invalid value encountered in true_divide\n",
      "  cm_perc = cm / cm_sum.astype(float) * 100\n"
     ]
    },
    {
     "data": {
      "text/plain": [
       "<AxesSubplot:xlabel='Predicted', ylabel='Actual'>"
      ]
     },
     "execution_count": 60,
     "metadata": {},
     "output_type": "execute_result"
    },
    {
     "data": {
      "image/png": "[encoded data removed]",
      "text/plain": [
       "<Figure size 720x504 with 2 Axes>"
      ]
     },
     "metadata": {
      "needs_background": "light"
     },
     "output_type": "display_data"
    }
   ],
   "source": [
    "from sklearn.metrics import confusion_matrix, classification_report\n",
    "import seaborn as sns\n",
    "\n",
    "# Confusion Matrix\n",
    "c_names = ['normal', 'horizontal-misalignment', 'imbalance', 'overhang', 'underhang', 'vertical-misalignment']\n",
    "cm = confusion_matrix(y_testclass, classpreds)\n",
    "print(cm)\n",
    "\n",
    "# Get percentage value for each element of the matrix\n",
    "cm_sum = np.sum(cm, axis=1, keepdims=True)\n",
    "cm_perc = cm / cm_sum.astype(float) * 100\n",
    "annot = np.empty_like(cm).astype(str)\n",
    "nrows, ncols = cm.shape\n",
    "for i in range(nrows):\n",
    "    for j in range(ncols):\n",
    "        c = cm[i, j]\n",
    "        p = cm_perc[i, j]\n",
    "        if i == j:\n",
    "            s = cm_sum[i]\n",
    "            annot[i, j] = '%.1f%%\\n%d/%d' % (p, c, s)\n",
    "        elif c == 0:\n",
    "            annot[i, j] = ''\n",
    "        else:\n",
    "            annot[i, j] = '%.1f%%\\n%d' % (p, c)\n",
    "\n",
    "# Display confusion matrix \n",
    "df_cm = pd.DataFrame(cm, index = c_names, columns = c_names)\n",
    "df_cm.index.name = 'Actual'\n",
    "df_cm.columns.name = 'Predicted'\n",
    "fig, ax = plt.subplots(figsize=(10,7))\n",
    "sns.heatmap(df_cm, annot=annot, fmt='')"
   ]
  },
  {
   "cell_type": "code",
   "execution_count": 53,
   "id": "bf4abe08",
   "metadata": {},
   "outputs": [
    {
     "name": "stdout",
     "output_type": "stream",
     "text": [
      "k=3NN Accuracy on Train Data: 0.96427070197562\n",
      "k=3NN Accuracy on Test Data: 0.7915966386554621\n"
     ]
    },
    {
     "name": "stderr",
     "output_type": "stream",
     "text": [
      "C:\\Users\\KOMPUTER\\anaconda3\\lib\\site-packages\\sklearn\\neighbors\\_classification.py:179: DataConversionWarning: A column-vector y was passed when a 1d array was expected. Please change the shape of y to (n_samples,), for example using ravel().\n",
      "  return self._fit(X, y)\n"
     ]
    }
   ],
   "source": [
    "## kNN Machine Learning\n",
    "\n",
    "from sklearn.neighbors import KNeighborsClassifier\n",
    "knn = KNeighborsClassifier(n_neighbors = 3) #n_neighbors = k\n",
    "outknn = knn.fit(X_train,y_train)\n",
    "print(\"k={}NN Accuracy on Train Data: {}\".format(3,knn.score(X_train,y_train)))\n",
    "print(\"k={}NN Accuracy on Test Data: {}\".format(3,knn.score(X_test,y_test)))"
   ]
  },
  {
   "cell_type": "code",
   "execution_count": 54,
   "id": "9b6b8f46",
   "metadata": {},
   "outputs": [
    {
     "data": {
      "image/png": "[encoded data removed]",
      "text/plain": [
       "<Figure size 432x288 with 2 Axes>"
      ]
     },
     "metadata": {
      "needs_background": "light"
     },
     "output_type": "display_data"
    }
   ],
   "source": [
    "from sklearn import svm\n",
    "from sklearn.metrics import plot_confusion_matrix\n",
    "\n",
    "# Generate confusion matrix\n",
    "matrix = plot_confusion_matrix(outknn, X_test, y_test,\n",
    "                                 cmap=plt.cm.Blues,\n",
    "                                 normalize='true')\n",
    "plt.title('Confusion matrix for our classifier')\n",
    "plt.show(matrix)\n",
    "plt.show()"
   ]
  },
  {
   "cell_type": "code",
   "execution_count": 50,
   "id": "d0640451",
   "metadata": {},
   "outputs": [
    {
     "name": "stderr",
     "output_type": "stream",
     "text": [
      "C:\\Users\\KOMPUTER\\anaconda3\\lib\\site-packages\\sklearn\\utils\\validation.py:63: DataConversionWarning: A column-vector y was passed when a 1d array was expected. Please change the shape of y to (n_samples, ), for example using ravel().\n",
      "  return f(*args, **kwargs)\n"
     ]
    },
    {
     "name": "stdout",
     "output_type": "stream",
     "text": [
      "SVM accuracy is 0.7583018074821354 on Train Dataset\n",
      "SVM accuracy is 0.7310924369747899 on Test Dataset\n"
     ]
    }
   ],
   "source": [
    "## SVM Machine Learning\n",
    "\n",
    "from sklearn.svm import SVC\n",
    "svm = SVC(random_state = 1)\n",
    "clf = svm.fit(X_train,y_train)\n",
    "print(\"SVM accuracy is {} on Train Dataset\".format(svm.score(X_train,y_train)))\n",
    "print(\"SVM accuracy is {} on Test Dataset\".format(svm.score(X_test,y_test)))"
   ]
  },
  {
   "cell_type": "code",
   "execution_count": 51,
   "id": "db6a31c9",
   "metadata": {},
   "outputs": [
    {
     "data": {
      "image/png": "[encoded data removed]",
      "text/plain": [
       "<Figure size 432x288 with 2 Axes>"
      ]
     },
     "metadata": {
      "needs_background": "light"
     },
     "output_type": "display_data"
    }
   ],
   "source": [
    "from sklearn import svm\n",
    "from sklearn.metrics import plot_confusion_matrix\n",
    "\n",
    "# Generate confusion matrix\n",
    "matrix = plot_confusion_matrix(clf, X_test, y_test,\n",
    "                                 cmap=plt.cm.Blues,\n",
    "                                 normalize='true')\n",
    "plt.title('Confusion matrix for our classifier')\n",
    "plt.show(matrix)\n",
    "plt.show()"
   ]
  },
  {
   "cell_type": "code",
   "execution_count": null,
   "id": "4a50759b",
   "metadata": {},
   "outputs": [],
   "source": []
  }
 ],
 "metadata": {
  "kernelspec": {
   "display_name": "Python 3",
   "language": "python",
   "name": "python3"
  },
  "language_info": {
   "codemirror_mode": {
    "name": "ipython",
    "version": 3
   },
   "file_extension": ".py",
   "mimetype": "text/x-python",
   "name": "python",
   "nbconvert_exporter": "python",
   "pygments_lexer": "ipython3",
   "version": "3.8.8"
  }
 },
 "nbformat": 4,
 "nbformat_minor": 5
}
