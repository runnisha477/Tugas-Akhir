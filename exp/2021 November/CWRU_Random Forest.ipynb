{
 "cells": [
  {
   "cell_type": "markdown",
   "metadata": {},
   "source": [
    "Dataset : https://www.kaggle.com/brjapon/cwru-bearing-datasets"
   ]
  },
  {
   "cell_type": "code",
   "execution_count": 1,
   "metadata": {
    "_cell_guid": "b1076dfc-b9ad-4769-8c92-a6c4dae69d19",
    "_uuid": "8f2839f25d086af736a60e9eeb907d3b93b6e0e5",
    "execution": {
     "iopub.execute_input": "2021-05-24T11:24:52.846596Z",
     "iopub.status.busy": "2021-05-24T11:24:52.846188Z",
     "iopub.status.idle": "2021-05-24T11:24:52.856845Z",
     "shell.execute_reply": "2021-05-24T11:24:52.855947Z",
     "shell.execute_reply.started": "2021-05-24T11:24:52.846563Z"
    }
   },
   "outputs": [],
   "source": [
    "import numpy as np # linear algebra\n",
    "import pandas as pd # data processing, CSV file I/O (e.g. pd.read_csv)\n",
    "\n",
    "from sklearn.model_selection import train_test_split\n",
    "from sklearn.preprocessing import StandardScaler\n",
    "\n",
    "import seaborn as sns\n",
    "import matplotlib.pyplot as plt\n",
    "\n",
    "import os\n",
    "# Merubah directory\n",
    "os.chdir('D:\\\\ITS\\\\Tugas Akhir\\\\Source Code')\n",
    "# Merubah directory (beneran)\n",
    "os.chdir('D:/ITS/Tugas Akhir/Source Code')"
   ]
  },
  {
   "cell_type": "markdown",
   "metadata": {},
   "source": [
    "## Fault type identification\n",
    "There are 10 types of faults, linked to each bearing deffect:\n",
    "\n",
    "- **Ball_007_1**: Ball defect (0.007 inch)\n",
    "- **Ball_014_1**: Ball defect (0.014 inch)\n",
    "- **Ball_021_1**: Ball defect (0.021 inch)\n",
    "- **IR_007_1**: Inner race fault (0.007 inch)\n",
    "- **IR_014_1**: Inner race fault (0.014 inch)\n",
    "- **IR_021_1**: Inner race fault (0.021 inch)\n",
    "- **Normal_1**: Normal\n",
    "- **OR_007_6_1**: Outer race fault (0.007 inch, data collected from 6 O'clock position)\n",
    "- **OR_014_6_1**: Outer race fault (0.014 inch, 6 O'clock)\n",
    "- **OR_021_6_1**: Outer race fault (0.021 inch, 6 O'clock)"
   ]
  },
  {
   "cell_type": "markdown",
   "metadata": {},
   "source": [
    "## Get the data\n",
    "The file we will read is the result of preprocessing the raw data files (folder `D:/ITS/Tugas Akhir/Source Code/CWRU/`).\n",
    "\n",
    "Time series segments contains 2048 points each. Given that the sampling frequency is 48kHz each time serie covers 0.04 seconds."
   ]
  },
  {
   "cell_type": "code",
   "execution_count": 2,
   "metadata": {
    "execution": {
     "iopub.execute_input": "2021-05-24T11:24:52.858284Z",
     "iopub.status.busy": "2021-05-24T11:24:52.858059Z",
     "iopub.status.idle": "2021-05-24T11:24:52.891894Z",
     "shell.execute_reply": "2021-05-24T11:24:52.891148Z",
     "shell.execute_reply.started": "2021-05-24T11:24:52.858263Z"
    }
   },
   "outputs": [
    {
     "data": {
      "text/html": [
       "<div>\n",
       "<style scoped>\n",
       "    .dataframe tbody tr th:only-of-type {\n",
       "        vertical-align: middle;\n",
       "    }\n",
       "\n",
       "    .dataframe tbody tr th {\n",
       "        vertical-align: top;\n",
       "    }\n",
       "\n",
       "    .dataframe thead th {\n",
       "        text-align: right;\n",
       "    }\n",
       "</style>\n",
       "<table border=\"1\" class=\"dataframe\">\n",
       "  <thead>\n",
       "    <tr style=\"text-align: right;\">\n",
       "      <th></th>\n",
       "      <th>max</th>\n",
       "      <th>min</th>\n",
       "      <th>mean</th>\n",
       "      <th>sd</th>\n",
       "      <th>rms</th>\n",
       "      <th>skewness</th>\n",
       "      <th>kurtosis</th>\n",
       "      <th>crest</th>\n",
       "      <th>form</th>\n",
       "      <th>fault</th>\n",
       "    </tr>\n",
       "  </thead>\n",
       "  <tbody>\n",
       "    <tr>\n",
       "      <th>0</th>\n",
       "      <td>0.35986</td>\n",
       "      <td>-0.41890</td>\n",
       "      <td>0.017840</td>\n",
       "      <td>0.122746</td>\n",
       "      <td>0.124006</td>\n",
       "      <td>-0.118571</td>\n",
       "      <td>-0.042219</td>\n",
       "      <td>2.901946</td>\n",
       "      <td>6.950855</td>\n",
       "      <td>Ball_007_1</td>\n",
       "    </tr>\n",
       "    <tr>\n",
       "      <th>1</th>\n",
       "      <td>0.46772</td>\n",
       "      <td>-0.36111</td>\n",
       "      <td>0.022255</td>\n",
       "      <td>0.132488</td>\n",
       "      <td>0.134312</td>\n",
       "      <td>0.174699</td>\n",
       "      <td>-0.081548</td>\n",
       "      <td>3.482334</td>\n",
       "      <td>6.035202</td>\n",
       "      <td>Ball_007_1</td>\n",
       "    </tr>\n",
       "    <tr>\n",
       "      <th>2</th>\n",
       "      <td>0.46855</td>\n",
       "      <td>-0.43809</td>\n",
       "      <td>0.020470</td>\n",
       "      <td>0.149651</td>\n",
       "      <td>0.151008</td>\n",
       "      <td>0.040339</td>\n",
       "      <td>-0.274069</td>\n",
       "      <td>3.102819</td>\n",
       "      <td>7.376926</td>\n",
       "      <td>Ball_007_1</td>\n",
       "    </tr>\n",
       "    <tr>\n",
       "      <th>3</th>\n",
       "      <td>0.58475</td>\n",
       "      <td>-0.54303</td>\n",
       "      <td>0.020960</td>\n",
       "      <td>0.157067</td>\n",
       "      <td>0.158422</td>\n",
       "      <td>-0.023266</td>\n",
       "      <td>0.134692</td>\n",
       "      <td>3.691097</td>\n",
       "      <td>7.558387</td>\n",
       "      <td>Ball_007_1</td>\n",
       "    </tr>\n",
       "    <tr>\n",
       "      <th>4</th>\n",
       "      <td>0.44685</td>\n",
       "      <td>-0.57891</td>\n",
       "      <td>0.022167</td>\n",
       "      <td>0.138189</td>\n",
       "      <td>0.139922</td>\n",
       "      <td>-0.081534</td>\n",
       "      <td>0.402783</td>\n",
       "      <td>3.193561</td>\n",
       "      <td>6.312085</td>\n",
       "      <td>Ball_007_1</td>\n",
       "    </tr>\n",
       "    <tr>\n",
       "      <th>...</th>\n",
       "      <td>...</td>\n",
       "      <td>...</td>\n",
       "      <td>...</td>\n",
       "      <td>...</td>\n",
       "      <td>...</td>\n",
       "      <td>...</td>\n",
       "      <td>...</td>\n",
       "      <td>...</td>\n",
       "      <td>...</td>\n",
       "      <td>...</td>\n",
       "    </tr>\n",
       "    <tr>\n",
       "      <th>2295</th>\n",
       "      <td>0.21425</td>\n",
       "      <td>-0.19839</td>\n",
       "      <td>0.010769</td>\n",
       "      <td>0.064100</td>\n",
       "      <td>0.064983</td>\n",
       "      <td>-0.212497</td>\n",
       "      <td>-0.119312</td>\n",
       "      <td>3.297037</td>\n",
       "      <td>6.034174</td>\n",
       "      <td>Normal_1</td>\n",
       "    </tr>\n",
       "    <tr>\n",
       "      <th>2296</th>\n",
       "      <td>0.21967</td>\n",
       "      <td>-0.20882</td>\n",
       "      <td>0.013136</td>\n",
       "      <td>0.068654</td>\n",
       "      <td>0.069883</td>\n",
       "      <td>-0.061308</td>\n",
       "      <td>-0.295122</td>\n",
       "      <td>3.143410</td>\n",
       "      <td>5.319958</td>\n",
       "      <td>Normal_1</td>\n",
       "    </tr>\n",
       "    <tr>\n",
       "      <th>2297</th>\n",
       "      <td>0.20799</td>\n",
       "      <td>-0.21613</td>\n",
       "      <td>0.012571</td>\n",
       "      <td>0.067128</td>\n",
       "      <td>0.068279</td>\n",
       "      <td>-0.154754</td>\n",
       "      <td>-0.071405</td>\n",
       "      <td>3.046161</td>\n",
       "      <td>5.431299</td>\n",
       "      <td>Normal_1</td>\n",
       "    </tr>\n",
       "    <tr>\n",
       "      <th>2298</th>\n",
       "      <td>0.21425</td>\n",
       "      <td>-0.22405</td>\n",
       "      <td>0.012608</td>\n",
       "      <td>0.066813</td>\n",
       "      <td>0.067977</td>\n",
       "      <td>-0.326966</td>\n",
       "      <td>0.023662</td>\n",
       "      <td>3.151821</td>\n",
       "      <td>5.391672</td>\n",
       "      <td>Normal_1</td>\n",
       "    </tr>\n",
       "    <tr>\n",
       "      <th>2299</th>\n",
       "      <td>0.19610</td>\n",
       "      <td>-0.24721</td>\n",
       "      <td>0.012209</td>\n",
       "      <td>0.063243</td>\n",
       "      <td>0.064396</td>\n",
       "      <td>-0.351762</td>\n",
       "      <td>0.226294</td>\n",
       "      <td>3.045244</td>\n",
       "      <td>5.274392</td>\n",
       "      <td>Normal_1</td>\n",
       "    </tr>\n",
       "  </tbody>\n",
       "</table>\n",
       "<p>2300 rows × 10 columns</p>\n",
       "</div>"
      ],
      "text/plain": [
       "          max      min      mean        sd       rms  skewness  kurtosis  \\\n",
       "0     0.35986 -0.41890  0.017840  0.122746  0.124006 -0.118571 -0.042219   \n",
       "1     0.46772 -0.36111  0.022255  0.132488  0.134312  0.174699 -0.081548   \n",
       "2     0.46855 -0.43809  0.020470  0.149651  0.151008  0.040339 -0.274069   \n",
       "3     0.58475 -0.54303  0.020960  0.157067  0.158422 -0.023266  0.134692   \n",
       "4     0.44685 -0.57891  0.022167  0.138189  0.139922 -0.081534  0.402783   \n",
       "...       ...      ...       ...       ...       ...       ...       ...   \n",
       "2295  0.21425 -0.19839  0.010769  0.064100  0.064983 -0.212497 -0.119312   \n",
       "2296  0.21967 -0.20882  0.013136  0.068654  0.069883 -0.061308 -0.295122   \n",
       "2297  0.20799 -0.21613  0.012571  0.067128  0.068279 -0.154754 -0.071405   \n",
       "2298  0.21425 -0.22405  0.012608  0.066813  0.067977 -0.326966  0.023662   \n",
       "2299  0.19610 -0.24721  0.012209  0.063243  0.064396 -0.351762  0.226294   \n",
       "\n",
       "         crest      form       fault  \n",
       "0     2.901946  6.950855  Ball_007_1  \n",
       "1     3.482334  6.035202  Ball_007_1  \n",
       "2     3.102819  7.376926  Ball_007_1  \n",
       "3     3.691097  7.558387  Ball_007_1  \n",
       "4     3.193561  6.312085  Ball_007_1  \n",
       "...        ...       ...         ...  \n",
       "2295  3.297037  6.034174    Normal_1  \n",
       "2296  3.143410  5.319958    Normal_1  \n",
       "2297  3.046161  5.431299    Normal_1  \n",
       "2298  3.151821  5.391672    Normal_1  \n",
       "2299  3.045244  5.274392    Normal_1  \n",
       "\n",
       "[2300 rows x 10 columns]"
      ]
     },
     "execution_count": 2,
     "metadata": {},
     "output_type": "execute_result"
    }
   ],
   "source": [
    "data_time = pd.read_csv(\"D:/ITS/Tugas Akhir/Source Code/CWRU/feature_time_48k_2048_load_1.csv\")\n",
    "data_time"
   ]
  },
  {
   "cell_type": "markdown",
   "metadata": {},
   "source": [
    "## Split into train and test datasets"
   ]
  },
  {
   "cell_type": "code",
   "execution_count": 3,
   "metadata": {
    "execution": {
     "iopub.execute_input": "2021-05-24T11:24:52.893243Z",
     "iopub.status.busy": "2021-05-24T11:24:52.893023Z",
     "iopub.status.idle": "2021-05-24T11:24:52.907922Z",
     "shell.execute_reply": "2021-05-24T11:24:52.907106Z",
     "shell.execute_reply.started": "2021-05-24T11:24:52.893222Z"
    }
   },
   "outputs": [
    {
     "name": "stdout",
     "output_type": "stream",
     "text": [
      "Normal_1      155\n",
      "Ball_007_1    155\n",
      "IR_014_1      155\n",
      "OR_014_6_1    155\n",
      "OR_021_6_1    155\n",
      "Ball_014_1    155\n",
      "Ball_021_1    155\n",
      "IR_007_1      155\n",
      "IR_021_1      155\n",
      "OR_007_6_1    155\n",
      "Name: fault, dtype: int64 \n",
      "\n",
      " IR_007_1      75\n",
      "Normal_1      75\n",
      "Ball_007_1    75\n",
      "IR_014_1      75\n",
      "OR_014_6_1    75\n",
      "OR_021_6_1    75\n",
      "IR_021_1      75\n",
      "Ball_014_1    75\n",
      "Ball_021_1    75\n",
      "OR_007_6_1    75\n",
      "Name: fault, dtype: int64\n"
     ]
    }
   ],
   "source": [
    "train_data, test_data = train_test_split(data_time, test_size = 750, stratify = data_time['fault'], random_state = 1234)\n",
    "print( train_data['fault'].value_counts(), \"\\n\\n\", test_data['fault'].value_counts())"
   ]
  },
  {
   "cell_type": "markdown",
   "metadata": {},
   "source": [
    "## Scale features in training set"
   ]
  },
  {
   "cell_type": "code",
   "execution_count": 4,
   "metadata": {
    "execution": {
     "iopub.execute_input": "2021-05-24T11:24:52.90962Z",
     "iopub.status.busy": "2021-05-24T11:24:52.909261Z",
     "iopub.status.idle": "2021-05-24T11:24:52.954078Z",
     "shell.execute_reply": "2021-05-24T11:24:52.953326Z",
     "shell.execute_reply.started": "2021-05-24T11:24:52.909586Z"
    }
   },
   "outputs": [
    {
     "data": {
      "text/html": [
       "<div>\n",
       "<style scoped>\n",
       "    .dataframe tbody tr th:only-of-type {\n",
       "        vertical-align: middle;\n",
       "    }\n",
       "\n",
       "    .dataframe tbody tr th {\n",
       "        vertical-align: top;\n",
       "    }\n",
       "\n",
       "    .dataframe thead th {\n",
       "        text-align: right;\n",
       "    }\n",
       "</style>\n",
       "<table border=\"1\" class=\"dataframe\">\n",
       "  <thead>\n",
       "    <tr style=\"text-align: right;\">\n",
       "      <th></th>\n",
       "      <th>0</th>\n",
       "      <th>1</th>\n",
       "      <th>2</th>\n",
       "      <th>3</th>\n",
       "      <th>4</th>\n",
       "      <th>5</th>\n",
       "      <th>6</th>\n",
       "      <th>7</th>\n",
       "      <th>8</th>\n",
       "    </tr>\n",
       "  </thead>\n",
       "  <tbody>\n",
       "    <tr>\n",
       "      <th>count</th>\n",
       "      <td>1.550000e+03</td>\n",
       "      <td>1.550000e+03</td>\n",
       "      <td>1.550000e+03</td>\n",
       "      <td>1.550000e+03</td>\n",
       "      <td>1.550000e+03</td>\n",
       "      <td>1.550000e+03</td>\n",
       "      <td>1.550000e+03</td>\n",
       "      <td>1.550000e+03</td>\n",
       "      <td>1.550000e+03</td>\n",
       "    </tr>\n",
       "    <tr>\n",
       "      <th>mean</th>\n",
       "      <td>1.287859e-16</td>\n",
       "      <td>1.065098e-16</td>\n",
       "      <td>-2.802060e-16</td>\n",
       "      <td>4.340614e-17</td>\n",
       "      <td>-5.930740e-17</td>\n",
       "      <td>6.097273e-18</td>\n",
       "      <td>-3.910850e-17</td>\n",
       "      <td>4.859912e-16</td>\n",
       "      <td>-1.676079e-17</td>\n",
       "    </tr>\n",
       "    <tr>\n",
       "      <th>std</th>\n",
       "      <td>1.000323e+00</td>\n",
       "      <td>1.000323e+00</td>\n",
       "      <td>1.000323e+00</td>\n",
       "      <td>1.000323e+00</td>\n",
       "      <td>1.000323e+00</td>\n",
       "      <td>1.000323e+00</td>\n",
       "      <td>1.000323e+00</td>\n",
       "      <td>1.000323e+00</td>\n",
       "      <td>1.000323e+00</td>\n",
       "    </tr>\n",
       "    <tr>\n",
       "      <th>min</th>\n",
       "      <td>-8.877055e-01</td>\n",
       "      <td>-2.951564e+00</td>\n",
       "      <td>-1.935376e+00</td>\n",
       "      <td>-9.258092e-01</td>\n",
       "      <td>-9.231913e-01</td>\n",
       "      <td>-5.951422e+00</td>\n",
       "      <td>-7.874742e-01</td>\n",
       "      <td>-1.481163e+00</td>\n",
       "      <td>-7.775653e-01</td>\n",
       "    </tr>\n",
       "    <tr>\n",
       "      <th>25%</th>\n",
       "      <td>-7.088474e-01</td>\n",
       "      <td>-3.753614e-01</td>\n",
       "      <td>-6.908705e-01</td>\n",
       "      <td>-6.755048e-01</td>\n",
       "      <td>-6.760659e-01</td>\n",
       "      <td>-3.678525e-01</td>\n",
       "      <td>-6.073122e-01</td>\n",
       "      <td>-8.064817e-01</td>\n",
       "      <td>-6.475107e-01</td>\n",
       "    </tr>\n",
       "    <tr>\n",
       "      <th>50%</th>\n",
       "      <td>-4.958143e-01</td>\n",
       "      <td>5.113022e-01</td>\n",
       "      <td>-3.141526e-01</td>\n",
       "      <td>-5.055027e-01</td>\n",
       "      <td>-5.038108e-01</td>\n",
       "      <td>2.140248e-01</td>\n",
       "      <td>-4.182916e-01</td>\n",
       "      <td>-2.135605e-01</td>\n",
       "      <td>-4.548003e-01</td>\n",
       "    </tr>\n",
       "    <tr>\n",
       "      <th>75%</th>\n",
       "      <td>4.477234e-01</td>\n",
       "      <td>7.003484e-01</td>\n",
       "      <td>4.560105e-01</td>\n",
       "      <td>7.015641e-01</td>\n",
       "      <td>7.003255e-01</td>\n",
       "      <td>5.823124e-01</td>\n",
       "      <td>2.860828e-01</td>\n",
       "      <td>5.648177e-01</td>\n",
       "      <td>4.360429e-01</td>\n",
       "    </tr>\n",
       "    <tr>\n",
       "      <th>max</th>\n",
       "      <td>3.297226e+00</td>\n",
       "      <td>8.671141e-01</td>\n",
       "      <td>3.503861e+00</td>\n",
       "      <td>2.980548e+00</td>\n",
       "      <td>2.981995e+00</td>\n",
       "      <td>4.906756e+00</td>\n",
       "      <td>6.349353e+00</td>\n",
       "      <td>4.049712e+00</td>\n",
       "      <td>9.629399e+00</td>\n",
       "    </tr>\n",
       "  </tbody>\n",
       "</table>\n",
       "</div>"
      ],
      "text/plain": [
       "                  0             1             2             3             4  \\\n",
       "count  1.550000e+03  1.550000e+03  1.550000e+03  1.550000e+03  1.550000e+03   \n",
       "mean   1.287859e-16  1.065098e-16 -2.802060e-16  4.340614e-17 -5.930740e-17   \n",
       "std    1.000323e+00  1.000323e+00  1.000323e+00  1.000323e+00  1.000323e+00   \n",
       "min   -8.877055e-01 -2.951564e+00 -1.935376e+00 -9.258092e-01 -9.231913e-01   \n",
       "25%   -7.088474e-01 -3.753614e-01 -6.908705e-01 -6.755048e-01 -6.760659e-01   \n",
       "50%   -4.958143e-01  5.113022e-01 -3.141526e-01 -5.055027e-01 -5.038108e-01   \n",
       "75%    4.477234e-01  7.003484e-01  4.560105e-01  7.015641e-01  7.003255e-01   \n",
       "max    3.297226e+00  8.671141e-01  3.503861e+00  2.980548e+00  2.981995e+00   \n",
       "\n",
       "                  5             6             7             8  \n",
       "count  1.550000e+03  1.550000e+03  1.550000e+03  1.550000e+03  \n",
       "mean   6.097273e-18 -3.910850e-17  4.859912e-16 -1.676079e-17  \n",
       "std    1.000323e+00  1.000323e+00  1.000323e+00  1.000323e+00  \n",
       "min   -5.951422e+00 -7.874742e-01 -1.481163e+00 -7.775653e-01  \n",
       "25%   -3.678525e-01 -6.073122e-01 -8.064817e-01 -6.475107e-01  \n",
       "50%    2.140248e-01 -4.182916e-01 -2.135605e-01 -4.548003e-01  \n",
       "75%    5.823124e-01  2.860828e-01  5.648177e-01  4.360429e-01  \n",
       "max    4.906756e+00  6.349353e+00  4.049712e+00  9.629399e+00  "
      ]
     },
     "execution_count": 4,
     "metadata": {},
     "output_type": "execute_result"
    }
   ],
   "source": [
    "# Scale each column to have zero mean and standard deviation equal to 1\n",
    "scaler = StandardScaler()\n",
    "train_data_scaled = scaler.fit_transform(train_data.iloc[:,:-1]) # Skip last column 'fault'\n",
    "pd.DataFrame(train_data_scaled).describe()"
   ]
  },
  {
   "cell_type": "code",
   "execution_count": 5,
   "metadata": {
    "execution": {
     "iopub.execute_input": "2021-05-24T11:24:52.95692Z",
     "iopub.status.busy": "2021-05-24T11:24:52.956651Z",
     "iopub.status.idle": "2021-05-24T11:24:52.99315Z",
     "shell.execute_reply": "2021-05-24T11:24:52.992436Z",
     "shell.execute_reply.started": "2021-05-24T11:24:52.956896Z"
    }
   },
   "outputs": [
    {
     "data": {
      "text/html": [
       "<div>\n",
       "<style scoped>\n",
       "    .dataframe tbody tr th:only-of-type {\n",
       "        vertical-align: middle;\n",
       "    }\n",
       "\n",
       "    .dataframe tbody tr th {\n",
       "        vertical-align: top;\n",
       "    }\n",
       "\n",
       "    .dataframe thead th {\n",
       "        text-align: right;\n",
       "    }\n",
       "</style>\n",
       "<table border=\"1\" class=\"dataframe\">\n",
       "  <thead>\n",
       "    <tr style=\"text-align: right;\">\n",
       "      <th></th>\n",
       "      <th>0</th>\n",
       "      <th>1</th>\n",
       "      <th>2</th>\n",
       "      <th>3</th>\n",
       "      <th>4</th>\n",
       "      <th>5</th>\n",
       "      <th>6</th>\n",
       "      <th>7</th>\n",
       "      <th>8</th>\n",
       "    </tr>\n",
       "  </thead>\n",
       "  <tbody>\n",
       "    <tr>\n",
       "      <th>count</th>\n",
       "      <td>750.000000</td>\n",
       "      <td>750.000000</td>\n",
       "      <td>750.000000</td>\n",
       "      <td>750.000000</td>\n",
       "      <td>750.000000</td>\n",
       "      <td>750.000000</td>\n",
       "      <td>750.000000</td>\n",
       "      <td>750.000000</td>\n",
       "      <td>750.000000</td>\n",
       "    </tr>\n",
       "    <tr>\n",
       "      <th>mean</th>\n",
       "      <td>-0.013718</td>\n",
       "      <td>0.003277</td>\n",
       "      <td>-0.018151</td>\n",
       "      <td>-0.013327</td>\n",
       "      <td>-0.013375</td>\n",
       "      <td>-0.035946</td>\n",
       "      <td>0.018838</td>\n",
       "      <td>0.009379</td>\n",
       "      <td>-0.012433</td>\n",
       "    </tr>\n",
       "    <tr>\n",
       "      <th>std</th>\n",
       "      <td>0.976752</td>\n",
       "      <td>0.993896</td>\n",
       "      <td>1.003708</td>\n",
       "      <td>0.987301</td>\n",
       "      <td>0.987315</td>\n",
       "      <td>1.105931</td>\n",
       "      <td>1.028360</td>\n",
       "      <td>0.998996</td>\n",
       "      <td>0.936491</td>\n",
       "    </tr>\n",
       "    <tr>\n",
       "      <th>min</th>\n",
       "      <td>-0.895968</td>\n",
       "      <td>-2.754539</td>\n",
       "      <td>-1.590184</td>\n",
       "      <td>-0.922087</td>\n",
       "      <td>-0.922953</td>\n",
       "      <td>-6.014935</td>\n",
       "      <td>-0.759377</td>\n",
       "      <td>-1.515700</td>\n",
       "      <td>-0.772309</td>\n",
       "    </tr>\n",
       "    <tr>\n",
       "      <th>25%</th>\n",
       "      <td>-0.706453</td>\n",
       "      <td>-0.429163</td>\n",
       "      <td>-0.720867</td>\n",
       "      <td>-0.677965</td>\n",
       "      <td>-0.678545</td>\n",
       "      <td>-0.355683</td>\n",
       "      <td>-0.606352</td>\n",
       "      <td>-0.762882</td>\n",
       "      <td>-0.641796</td>\n",
       "    </tr>\n",
       "    <tr>\n",
       "      <th>50%</th>\n",
       "      <td>-0.494044</td>\n",
       "      <td>0.503185</td>\n",
       "      <td>-0.303458</td>\n",
       "      <td>-0.492809</td>\n",
       "      <td>-0.490457</td>\n",
       "      <td>0.224657</td>\n",
       "      <td>-0.415267</td>\n",
       "      <td>-0.219297</td>\n",
       "      <td>-0.452940</td>\n",
       "    </tr>\n",
       "    <tr>\n",
       "      <th>75%</th>\n",
       "      <td>0.394936</td>\n",
       "      <td>0.704214</td>\n",
       "      <td>0.401811</td>\n",
       "      <td>0.669274</td>\n",
       "      <td>0.667916</td>\n",
       "      <td>0.576534</td>\n",
       "      <td>0.294171</td>\n",
       "      <td>0.547845</td>\n",
       "      <td>0.447909</td>\n",
       "    </tr>\n",
       "    <tr>\n",
       "      <th>max</th>\n",
       "      <td>3.008545</td>\n",
       "      <td>0.861398</td>\n",
       "      <td>3.003970</td>\n",
       "      <td>2.885914</td>\n",
       "      <td>2.887282</td>\n",
       "      <td>6.301407</td>\n",
       "      <td>5.007205</td>\n",
       "      <td>3.784107</td>\n",
       "      <td>3.531440</td>\n",
       "    </tr>\n",
       "  </tbody>\n",
       "</table>\n",
       "</div>"
      ],
      "text/plain": [
       "                0           1           2           3           4           5  \\\n",
       "count  750.000000  750.000000  750.000000  750.000000  750.000000  750.000000   \n",
       "mean    -0.013718    0.003277   -0.018151   -0.013327   -0.013375   -0.035946   \n",
       "std      0.976752    0.993896    1.003708    0.987301    0.987315    1.105931   \n",
       "min     -0.895968   -2.754539   -1.590184   -0.922087   -0.922953   -6.014935   \n",
       "25%     -0.706453   -0.429163   -0.720867   -0.677965   -0.678545   -0.355683   \n",
       "50%     -0.494044    0.503185   -0.303458   -0.492809   -0.490457    0.224657   \n",
       "75%      0.394936    0.704214    0.401811    0.669274    0.667916    0.576534   \n",
       "max      3.008545    0.861398    3.003970    2.885914    2.887282    6.301407   \n",
       "\n",
       "                6           7           8  \n",
       "count  750.000000  750.000000  750.000000  \n",
       "mean     0.018838    0.009379   -0.012433  \n",
       "std      1.028360    0.998996    0.936491  \n",
       "min     -0.759377   -1.515700   -0.772309  \n",
       "25%     -0.606352   -0.762882   -0.641796  \n",
       "50%     -0.415267   -0.219297   -0.452940  \n",
       "75%      0.294171    0.547845    0.447909  \n",
       "max      5.007205    3.784107    3.531440  "
      ]
     },
     "execution_count": 5,
     "metadata": {},
     "output_type": "execute_result"
    }
   ],
   "source": [
    "test_data_scaled = (test_data.iloc[:,:-1].values - scaler.mean_)/np.sqrt(scaler.var_)\n",
    "pd.DataFrame(test_data_scaled).describe()"
   ]
  },
  {
   "cell_type": "markdown",
   "metadata": {},
   "source": [
    "## Train a model using Random Forest Classifier\n",
    "Call the `RandomForestclassifier` model from sklearn and fit the model to the training data."
   ]
  },
  {
   "cell_type": "code",
   "execution_count": 6,
   "metadata": {
    "execution": {
     "iopub.execute_input": "2021-05-24T11:24:52.994313Z",
     "iopub.status.busy": "2021-05-24T11:24:52.994096Z",
     "iopub.status.idle": "2021-05-24T11:24:52.997385Z",
     "shell.execute_reply": "2021-05-24T11:24:52.996682Z",
     "shell.execute_reply.started": "2021-05-24T11:24:52.994292Z"
    }
   },
   "outputs": [],
   "source": [
    "from sklearn.ensemble import RandomForestClassifier\n",
    "from sklearn.metrics import mean_squared_error"
   ]
  },
  {
   "cell_type": "code",
   "execution_count": 7,
   "metadata": {
    "execution": {
     "iopub.execute_input": "2021-05-24T11:24:52.999394Z",
     "iopub.status.busy": "2021-05-24T11:24:52.999128Z",
     "iopub.status.idle": "2021-05-24T11:24:53.948276Z",
     "shell.execute_reply": "2021-05-24T11:24:53.947423Z",
     "shell.execute_reply.started": "2021-05-24T11:24:52.999361Z"
    }
   },
   "outputs": [
    {
     "data": {
      "text/plain": [
       "RandomForestClassifier(max_features='sqrt', n_estimators=300, n_jobs=-1,\n",
       "                       random_state=38)"
      ]
     },
     "execution_count": 7,
     "metadata": {},
     "output_type": "execute_result"
    }
   ],
   "source": [
    "# Initualize the model\n",
    "rf_model = RandomForestClassifier(n_estimators= 300, max_features = \"sqrt\", n_jobs = -1, random_state = 38)\n",
    "\n",
    "# Train the model\n",
    "rf_model.fit(train_data_scaled, train_data['fault'])"
   ]
  },
  {
   "cell_type": "markdown",
   "metadata": {},
   "source": [
    "## Model Evaluation\n",
    "Now get predictions from the model, compute the confusion matrix and produce a classification report."
   ]
  },
  {
   "cell_type": "code",
   "execution_count": 8,
   "metadata": {
    "execution": {
     "iopub.execute_input": "2021-05-24T11:24:53.949769Z",
     "iopub.status.busy": "2021-05-24T11:24:53.949491Z",
     "iopub.status.idle": "2021-05-24T11:24:53.955562Z",
     "shell.execute_reply": "2021-05-24T11:24:53.954874Z",
     "shell.execute_reply.started": "2021-05-24T11:24:53.949746Z"
    }
   },
   "outputs": [],
   "source": [
    "from sklearn.metrics import confusion_matrix,classification_report, accuracy_score"
   ]
  },
  {
   "cell_type": "code",
   "execution_count": 9,
   "metadata": {
    "execution": {
     "iopub.execute_input": "2021-05-24T11:24:53.956928Z",
     "iopub.status.busy": "2021-05-24T11:24:53.956672Z",
     "iopub.status.idle": "2021-05-24T11:24:54.169034Z",
     "shell.execute_reply": "2021-05-24T11:24:54.168268Z",
     "shell.execute_reply.started": "2021-05-24T11:24:53.956907Z"
    }
   },
   "outputs": [],
   "source": [
    "# Training data prediction\n",
    "train_predictions = rf_model.predict(train_data_scaled)\n",
    "# Testing data prediction\n",
    "test_predictions = rf_model.predict(test_data_scaled)"
   ]
  },
  {
   "cell_type": "markdown",
   "metadata": {},
   "source": [
    "Plot confusion matrixes:"
   ]
  },
  {
   "cell_type": "code",
   "execution_count": 10,
   "metadata": {
    "execution": {
     "iopub.execute_input": "2021-05-24T11:24:54.170239Z",
     "iopub.status.busy": "2021-05-24T11:24:54.170013Z",
     "iopub.status.idle": "2021-05-24T11:24:54.183986Z",
     "shell.execute_reply": "2021-05-24T11:24:54.183376Z",
     "shell.execute_reply.started": "2021-05-24T11:24:54.170216Z"
    }
   },
   "outputs": [],
   "source": [
    "# Confusion matrix for training data \n",
    "train_confu_matrix = confusion_matrix(train_data['fault'], train_predictions)\n",
    "\n",
    "# Confusion matrix for test data \n",
    "test_confu_matrix = confusion_matrix(test_data['fault'], test_predictions)"
   ]
  },
  {
   "cell_type": "code",
   "execution_count": 11,
   "metadata": {
    "execution": {
     "iopub.execute_input": "2021-05-24T11:24:54.185289Z",
     "iopub.status.busy": "2021-05-24T11:24:54.184927Z",
     "iopub.status.idle": "2021-05-24T11:24:55.352219Z",
     "shell.execute_reply": "2021-05-24T11:24:55.351282Z",
     "shell.execute_reply.started": "2021-05-24T11:24:54.185254Z"
    }
   },
   "outputs": [
    {
     "name": "stderr",
     "output_type": "stream",
     "text": [
      "<ipython-input-11-4abbe6b2ce03>:13: MatplotlibDeprecationWarning: Adding an axes using the same arguments as a previous axes currently reuses the earlier instance.  In a future version, a new instance will always be created and returned.  Meanwhile, this warning can be suppressed, and the future behavior ensured, by passing a unique label to each axes instance.\n",
      "  plt.subplot(122)\n"
     ]
    },
    {
     "data": {
      "image/png": "[encoded data removed]",
      "text/plain": [
       "<Figure size 1296x576 with 2 Axes>"
      ]
     },
     "metadata": {
      "needs_background": "light"
     },
     "output_type": "display_data"
    }
   ],
   "source": [
    "fault_type = data_time.fault.unique()\n",
    "\n",
    "plt.figure(1,figsize=(18,8))\n",
    "\n",
    "plt.subplot(121)\n",
    "sns.heatmap(train_confu_matrix, annot= True,fmt = \"d\",\n",
    "xticklabels=fault_type, yticklabels=fault_type, cmap = \"Blues\", cbar = False)\n",
    "plt.title('Training Confusion Matrix')\n",
    "plt.xlabel('Predicted')\n",
    "plt.ylabel('True')\n",
    "plt.subplot(122)\n",
    "\n",
    "plt.subplot(122)\n",
    "sns.heatmap(test_confu_matrix, annot = True,\n",
    "xticklabels=fault_type, yticklabels=fault_type, cmap = \"Blues\", cbar = False)\n",
    "plt.title('Test Confusion Matrix')\n",
    "plt.xlabel('Predicted')\n",
    "plt.ylabel('True')\n",
    "\n",
    "plt.show()"
   ]
  },
  {
   "cell_type": "code",
   "execution_count": 12,
   "metadata": {
    "execution": {
     "iopub.execute_input": "2021-05-24T11:24:55.354173Z",
     "iopub.status.busy": "2021-05-24T11:24:55.35362Z",
     "iopub.status.idle": "2021-05-24T11:24:55.361125Z",
     "shell.execute_reply": "2021-05-24T11:24:55.3603Z",
     "shell.execute_reply.started": "2021-05-24T11:24:55.35413Z"
    }
   },
   "outputs": [
    {
     "name": "stdout",
     "output_type": "stream",
     "text": [
      "Accuracy: 0.9586666666666667\n"
     ]
    }
   ],
   "source": [
    "# Model Accuracy, how often is the classifier correct?\n",
    "print(\"Accuracy:\", accuracy_score(test_data['fault'], test_predictions))"
   ]
  },
  {
   "cell_type": "code",
   "execution_count": 13,
   "metadata": {
    "execution": {
     "iopub.execute_input": "2021-05-24T11:24:55.36234Z",
     "iopub.status.busy": "2021-05-24T11:24:55.362102Z",
     "iopub.status.idle": "2021-05-24T11:24:55.400916Z",
     "shell.execute_reply": "2021-05-24T11:24:55.400102Z",
     "shell.execute_reply.started": "2021-05-24T11:24:55.362318Z"
    }
   },
   "outputs": [
    {
     "name": "stdout",
     "output_type": "stream",
     "text": [
      "              precision    recall  f1-score   support\n",
      "\n",
      "  Ball_007_1       0.97      0.96      0.97        75\n",
      "  Ball_014_1       0.92      0.88      0.90        75\n",
      "  Ball_021_1       0.90      0.87      0.88        75\n",
      "    IR_007_1       1.00      1.00      1.00        75\n",
      "    IR_014_1       1.00      1.00      1.00        75\n",
      "    IR_021_1       1.00      1.00      1.00        75\n",
      "    Normal_1       1.00      1.00      1.00        75\n",
      "  OR_007_6_1       0.99      1.00      0.99        75\n",
      "  OR_014_6_1       0.84      0.89      0.86        75\n",
      "  OR_021_6_1       0.97      0.99      0.98        75\n",
      "\n",
      "    accuracy                           0.96       750\n",
      "   macro avg       0.96      0.96      0.96       750\n",
      "weighted avg       0.96      0.96      0.96       750\n",
      "\n"
     ]
    }
   ],
   "source": [
    "# Classification report (test set)\n",
    "class_report = classification_report(y_pred = test_predictions, y_true = test_data['fault'])\n",
    "print(class_report)"
   ]
  },
  {
   "cell_type": "markdown",
   "metadata": {},
   "source": [
    "- **recall**    = for each failure, proportion of those correctly classified over the total of the actual ones = `TP / (TP + sum(FN))`\n",
    "- **precision** = for each failure, proportion of those correctly identified over the total of the predicted = `TP / (TP + sum(FP))`\n",
    "\n",
    "Refer to [Understanding Data Science Classification Metrics in Scikit-Learn in Python](https://towardsdatascience.com/understanding-data-science-classification-metrics-in-scikit-learn-in-python-3bc336865019) for the explanation of these metrics"
   ]
  },
  {
   "cell_type": "markdown",
   "metadata": {},
   "source": [
    "## Feature importance"
   ]
  },
  {
   "cell_type": "code",
   "execution_count": 14,
   "metadata": {
    "execution": {
     "iopub.execute_input": "2021-05-24T11:24:55.402239Z",
     "iopub.status.busy": "2021-05-24T11:24:55.401933Z",
     "iopub.status.idle": "2021-05-24T11:24:55.512296Z",
     "shell.execute_reply": "2021-05-24T11:24:55.511709Z",
     "shell.execute_reply.started": "2021-05-24T11:24:55.402215Z"
    }
   },
   "outputs": [
    {
     "data": {
      "text/plain": [
       "1.0"
      ]
     },
     "execution_count": 14,
     "metadata": {},
     "output_type": "execute_result"
    }
   ],
   "source": [
    "# Obtain feature importance\n",
    "feature_importance = rf_model.feature_importances_\n",
    "# Check that importances sum is 1\n",
    "feature_importance.sum()"
   ]
  },
  {
   "cell_type": "code",
   "execution_count": 15,
   "metadata": {
    "execution": {
     "iopub.execute_input": "2021-05-24T11:24:55.513221Z",
     "iopub.status.busy": "2021-05-24T11:24:55.513021Z",
     "iopub.status.idle": "2021-05-24T11:24:55.518093Z",
     "shell.execute_reply": "2021-05-24T11:24:55.517261Z",
     "shell.execute_reply.started": "2021-05-24T11:24:55.5132Z"
    }
   },
   "outputs": [],
   "source": [
    "# Retrieve features' names\n",
    "features = train_data.columns[:-1]\n",
    "# And count them\n",
    "num_features = len(features)\n",
    "\n",
    "# Sort features by descending importance\n",
    "indices = np.argsort(feature_importance)[::-1]\n",
    "\n",
    "# Reorder dict by descending feature importance\n",
    "features_sorted = []\n",
    "for key in indices:\n",
    "    features_sorted = np.append(features_sorted, features[key])"
   ]
  },
  {
   "cell_type": "code",
   "execution_count": 16,
   "metadata": {
    "execution": {
     "iopub.execute_input": "2021-05-24T11:21:38.426044Z",
     "iopub.status.busy": "2021-05-24T11:21:38.425741Z",
     "iopub.status.idle": "2021-05-24T11:21:38.592541Z",
     "shell.execute_reply": "2021-05-24T11:21:38.591551Z",
     "shell.execute_reply.started": "2021-05-24T11:21:38.426017Z"
    }
   },
   "outputs": [
    {
     "data": {
      "image/png": "[encoded data removed]",
      "text/plain": [
       "<Figure size 1152x576 with 1 Axes>"
      ]
     },
     "metadata": {
      "needs_background": "light"
     },
     "output_type": "display_data"
    }
   ],
   "source": [
    "plt.figure(figsize = (16, 8))\n",
    "plt.title(\"Feature importances\")\n",
    "\n",
    "plt.bar(range(num_features), feature_importance[indices]*100,\n",
    "        color=\"blue\", align=\"center\")\n",
    "plt.xticks(range(num_features), features_sorted)\n",
    "plt.xlim([-1, num_features])\n",
    "plt.ylabel('% importance')\n",
    "plt.xlabel(\"Feature names\")\n",
    "plt.show()"
   ]
  },
  {
   "cell_type": "code",
   "execution_count": null,
   "metadata": {},
   "outputs": [],
   "source": []
  }
 ],
 "metadata": {
  "kernelspec": {
   "display_name": "Python 3",
   "language": "python",
   "name": "python3"
  },
  "language_info": {
   "codemirror_mode": {
    "name": "ipython",
    "version": 3
   },
   "file_extension": ".py",
   "mimetype": "text/x-python",
   "name": "python",
   "nbconvert_exporter": "python",
   "pygments_lexer": "ipython3",
   "version": "3.8.8"
  }
 },
 "nbformat": 4,
 "nbformat_minor": 4
}
