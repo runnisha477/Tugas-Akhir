{
 "cells": [
  {
   "cell_type": "code",
   "execution_count": 1,
   "id": "feecb04a",
   "metadata": {
    "id": "feecb04a"
   },
   "outputs": [],
   "source": [
    "# SEP769 - July 27, 2021\n",
    "# Amir Kamaleddine, Ernani Fantinatti, Mohammed Ibraheem\n",
    "# CNN model for classifying normal and imbalanced motors as part of the MAFAULDA motor fault dataset\n",
    "# If training, we suggest you use GPU acceleration in Colab\n",
    "# https://github.com/efantinatti/MAFAULDA_SEP769\n"
   ]
  },
  {
   "cell_type": "code",
   "execution_count": 2,
   "id": "a03dec13",
   "metadata": {
    "id": "a03dec13"
   },
   "outputs": [],
   "source": [
    "# Load in tensorboard extension to view results interactively\n",
    "%load_ext tensorboard\n"
   ]
  },
  {
   "cell_type": "code",
   "execution_count": 3,
   "id": "3a9b57e5",
   "metadata": {
    "id": "3a9b57e5"
   },
   "outputs": [],
   "source": [
    "# Load relevant libraries\n",
    "import numpy as np\n",
    "import tensorflow as tf\n",
    "from keras.models import Sequential, load_model\n",
    "from keras.layers import Dense, Dropout, Flatten\n",
    "from keras.layers.convolutional import Conv1D\n",
    "import matplotlib.pyplot as plt\n",
    "import glob\n",
    "import datetime"
   ]
  },
  {
   "cell_type": "code",
   "execution_count": 4,
   "id": "3381f7d1",
   "metadata": {
    "id": "3381f7d1"
   },
   "outputs": [],
   "source": [
    "# Decide whether to load model from a .h5 file or train a new one\n",
    "# 0 if training the model again\n",
    "# 1 if loading model\n",
    "saved_model = 0\n"
   ]
  },
  {
   "cell_type": "code",
   "execution_count": 5,
   "id": "828eed9b",
   "metadata": {
    "colab": {
     "base_uri": "https://localhost:8080/"
    },
    "id": "828eed9b",
    "outputId": "24ecaa75-f9df-4850-c756-52e20b714309"
   },
   "outputs": [
    {
     "name": "stdout",
     "output_type": "stream",
     "text": [
      "Loaded data files...\n"
     ]
    }
   ],
   "source": [
    "# Loads train/test data from .txt files to np arrays \n",
    "# Ensure you choose the correct file directory\n",
    "\n",
    "dir = 'C:/Users/KOMPUTER/Documents/Jupyter Notebooks/MAFAULDA_SEP769-main/Models/content/jul27data/'\n",
    "\n",
    "train_reload = np.loadtxt(dir + 'train_data.txt')\n",
    "test_reload = np.loadtxt(dir + 'test_data.txt')\n",
    "\n",
    "print(\"Loaded data files...\")\n"
   ]
  },
  {
   "cell_type": "code",
   "execution_count": 6,
   "id": "496490af",
   "metadata": {
    "id": "496490af"
   },
   "outputs": [],
   "source": [
    "# Shaping the training/testing data\n",
    "# Shapes the data into an nx500x8 array\n",
    "# Each sequence is 500 timesteps (10 ms of data collection)\n",
    "\n",
    "train_data = np.reshape(train_reload,(-1,500, 8))\n",
    "test_data = np.reshape(test_reload,(-1,500, 8))\n"
   ]
  },
  {
   "cell_type": "code",
   "execution_count": 7,
   "id": "4499bca2",
   "metadata": {
    "id": "4499bca2",
    "scrolled": true
   },
   "outputs": [],
   "source": [
    "# Loads labels corresponding to training/test data\n",
    "train_label = np.loadtxt(dir + 'train_label.txt').astype(int)\n",
    "test_label = np.loadtxt(dir + 'test_label.txt').astype(int)\n"
   ]
  },
  {
   "cell_type": "code",
   "execution_count": 8,
   "id": "16153052",
   "metadata": {
    "colab": {
     "base_uri": "https://localhost:8080/"
    },
    "id": "16153052",
    "outputId": "72898ecb-40d3-4f6a-9e4c-f2079a6a590a"
   },
   "outputs": [
    {
     "name": "stdout",
     "output_type": "stream",
     "text": [
      "Model: \"sequential\"\n",
      "_________________________________________________________________\n",
      "Layer (type)                 Output Shape              Param #   \n",
      "=================================================================\n",
      "conv1d (Conv1D)              (None, 500, 30)           1230      \n",
      "_________________________________________________________________\n",
      "flatten (Flatten)            (None, 15000)             0         \n",
      "_________________________________________________________________\n",
      "dense (Dense)                (None, 32)                480032    \n",
      "_________________________________________________________________\n",
      "dense_1 (Dense)              (None, 16)                528       \n",
      "_________________________________________________________________\n",
      "dense_2 (Dense)              (None, 1)                 17        \n",
      "=================================================================\n",
      "Total params: 481,807\n",
      "Trainable params: 481,807\n",
      "Non-trainable params: 0\n",
      "_________________________________________________________________\n"
     ]
    }
   ],
   "source": [
    "# Build the model\n",
    "# Sequential model\n",
    "model = Sequential()\n",
    "\n",
    "# Conv1D is used to perform convolution on temporal data\n",
    "model.add(Conv1D(30, (5), input_shape=(500, 8), padding = 'same', strides = 1, activation='relu'))\n",
    "\n",
    "# Flatten before feeding into dense layers\n",
    "model.add(Flatten())\n",
    "\n",
    "# Dense layers and Output Layer\n",
    "model.add(Dense(32, activation='relu'))\n",
    "model.add(Dense(16, activation='relu'))\n",
    "model.add(Dense(1, activation='sigmoid'))\n",
    "\n",
    "# Compile model\n",
    "# Binary crossentropy for a binary classifier\n",
    "model.compile(loss='binary_crossentropy', optimizer='adam', metrics=['accuracy'])\n",
    "model.summary()\n"
   ]
  },
  {
   "cell_type": "code",
   "execution_count": 9,
   "id": "66146451",
   "metadata": {
    "id": "66146451"
   },
   "outputs": [],
   "source": [
    "# Log model training process with Tensorboard\n",
    "ld = \"logs/fit/\" + datetime.datetime.now().strftime(\"%Y%m%d-%H%M%S\")\n",
    "callTensorboard = tf.keras.callbacks.TensorBoard(log_dir=ld, histogram_freq=1)\n"
   ]
  },
  {
   "cell_type": "code",
   "execution_count": 10,
   "id": "fe16fe62",
   "metadata": {
    "colab": {
     "base_uri": "https://localhost:8080/"
    },
    "id": "fe16fe62",
    "outputId": "323b4d11-73e9-4fad-83e6-090fabc339e7",
    "scrolled": true
   },
   "outputs": [
    {
     "name": "stdout",
     "output_type": "stream",
     "text": [
      "Epoch 1/50\n",
      "  1/156 [..............................] - ETA: 0s - loss: 0.6396 - accuracy: 0.7500WARNING:tensorflow:From C:\\Users\\KOMPUTER\\anaconda3\\lib\\site-packages\\tensorflow\\python\\ops\\summary_ops_v2.py:1277: stop (from tensorflow.python.eager.profiler) is deprecated and will be removed after 2020-07-01.\n",
      "Instructions for updating:\n",
      "use `tf.profiler.experimental.stop` instead.\n",
      "  2/156 [..............................] - ETA: 1:04 - loss: 0.8716 - accuracy: 0.6562WARNING:tensorflow:Callbacks method `on_train_batch_end` is slow compared to the batch time (batch time: 0.0725s vs `on_train_batch_end` time: 0.7635s). Check your callbacks.\n",
      "156/156 [==============================] - 3s 21ms/step - loss: 0.2554 - accuracy: 0.8964 - val_loss: 0.1915 - val_accuracy: 0.9588\n",
      "Epoch 2/50\n",
      "156/156 [==============================] - 2s 13ms/step - loss: 0.1064 - accuracy: 0.9643 - val_loss: 0.1574 - val_accuracy: 0.9588\n",
      "Epoch 3/50\n",
      "156/156 [==============================] - 2s 14ms/step - loss: 0.0555 - accuracy: 0.9864 - val_loss: 0.1119 - val_accuracy: 0.9802\n",
      "Epoch 4/50\n",
      "156/156 [==============================] - 2s 15ms/step - loss: 0.0408 - accuracy: 0.9896 - val_loss: 0.0727 - val_accuracy: 0.9751\n",
      "Epoch 5/50\n",
      "156/156 [==============================] - 2s 13ms/step - loss: 0.0296 - accuracy: 0.9926 - val_loss: 0.0672 - val_accuracy: 0.9712\n",
      "Epoch 6/50\n",
      "156/156 [==============================] - 2s 12ms/step - loss: 0.0218 - accuracy: 0.9934 - val_loss: 0.0822 - val_accuracy: 0.9768\n",
      "Epoch 7/50\n",
      "156/156 [==============================] - 2s 13ms/step - loss: 0.0256 - accuracy: 0.9918 - val_loss: 0.0478 - val_accuracy: 0.9847\n",
      "Epoch 8/50\n",
      "156/156 [==============================] - 2s 12ms/step - loss: 0.0133 - accuracy: 0.9956 - val_loss: 0.0511 - val_accuracy: 0.9870\n",
      "Epoch 9/50\n",
      "156/156 [==============================] - 2s 13ms/step - loss: 0.0100 - accuracy: 0.9974 - val_loss: 0.0347 - val_accuracy: 0.9887\n",
      "Epoch 10/50\n",
      "156/156 [==============================] - 2s 13ms/step - loss: 0.0098 - accuracy: 0.9978 - val_loss: 0.0808 - val_accuracy: 0.9842\n",
      "Epoch 11/50\n",
      "156/156 [==============================] - 2s 14ms/step - loss: 0.0171 - accuracy: 0.9936 - val_loss: 0.0786 - val_accuracy: 0.9791\n",
      "Epoch 12/50\n",
      "156/156 [==============================] - 2s 13ms/step - loss: 0.0315 - accuracy: 0.9894 - val_loss: 0.1213 - val_accuracy: 0.9785\n",
      "Epoch 13/50\n",
      "156/156 [==============================] - 2s 13ms/step - loss: 0.0205 - accuracy: 0.9934 - val_loss: 0.0746 - val_accuracy: 0.9802\n",
      "Epoch 14/50\n",
      "156/156 [==============================] - 2s 13ms/step - loss: 0.0159 - accuracy: 0.9950 - val_loss: 0.1161 - val_accuracy: 0.9791\n",
      "Epoch 15/50\n",
      "156/156 [==============================] - 2s 13ms/step - loss: 0.0155 - accuracy: 0.9948 - val_loss: 0.0739 - val_accuracy: 0.9797\n",
      "Epoch 16/50\n",
      "156/156 [==============================] - 2s 13ms/step - loss: 0.0081 - accuracy: 0.9974 - val_loss: 0.0683 - val_accuracy: 0.9859\n",
      "Epoch 17/50\n",
      "156/156 [==============================] - 2s 13ms/step - loss: 0.0031 - accuracy: 0.9996 - val_loss: 0.0752 - val_accuracy: 0.9847\n",
      "Epoch 18/50\n",
      "156/156 [==============================] - 2s 13ms/step - loss: 6.9448e-04 - accuracy: 1.0000 - val_loss: 0.0649 - val_accuracy: 0.9853\n",
      "Epoch 19/50\n",
      "156/156 [==============================] - 2s 14ms/step - loss: 4.3267e-04 - accuracy: 1.0000 - val_loss: 0.0629 - val_accuracy: 0.9859\n",
      "Epoch 20/50\n",
      "156/156 [==============================] - 2s 13ms/step - loss: 3.3890e-04 - accuracy: 1.0000 - val_loss: 0.0616 - val_accuracy: 0.9853\n",
      "Epoch 21/50\n",
      "156/156 [==============================] - 3s 17ms/step - loss: 2.7516e-04 - accuracy: 1.0000 - val_loss: 0.0642 - val_accuracy: 0.9859\n",
      "Epoch 22/50\n",
      "156/156 [==============================] - 2s 12ms/step - loss: 2.1109e-04 - accuracy: 1.0000 - val_loss: 0.0607 - val_accuracy: 0.9859\n",
      "Epoch 23/50\n",
      "156/156 [==============================] - 2s 13ms/step - loss: 1.7019e-04 - accuracy: 1.0000 - val_loss: 0.0659 - val_accuracy: 0.9859\n",
      "Epoch 24/50\n",
      "156/156 [==============================] - 2s 13ms/step - loss: 1.4471e-04 - accuracy: 1.0000 - val_loss: 0.0693 - val_accuracy: 0.9842\n",
      "Epoch 25/50\n",
      "156/156 [==============================] - 2s 13ms/step - loss: 1.4102e-04 - accuracy: 1.0000 - val_loss: 0.0640 - val_accuracy: 0.9853\n",
      "Epoch 26/50\n",
      "156/156 [==============================] - 2s 13ms/step - loss: 1.1177e-04 - accuracy: 1.0000 - val_loss: 0.0697 - val_accuracy: 0.9847\n",
      "Epoch 27/50\n",
      "156/156 [==============================] - 2s 14ms/step - loss: 1.0491e-04 - accuracy: 1.0000 - val_loss: 0.0679 - val_accuracy: 0.9842\n",
      "Epoch 28/50\n",
      "156/156 [==============================] - 2s 13ms/step - loss: 8.9510e-05 - accuracy: 1.0000 - val_loss: 0.0689 - val_accuracy: 0.9842\n",
      "Epoch 29/50\n",
      "156/156 [==============================] - 2s 13ms/step - loss: 7.8559e-05 - accuracy: 1.0000 - val_loss: 0.0714 - val_accuracy: 0.9847\n",
      "Epoch 30/50\n",
      "156/156 [==============================] - 2s 13ms/step - loss: 7.1572e-05 - accuracy: 1.0000 - val_loss: 0.0680 - val_accuracy: 0.9859\n",
      "Epoch 31/50\n",
      "156/156 [==============================] - 2s 13ms/step - loss: 6.2496e-05 - accuracy: 1.0000 - val_loss: 0.0720 - val_accuracy: 0.9842\n",
      "Epoch 32/50\n",
      "156/156 [==============================] - 2s 13ms/step - loss: 5.7261e-05 - accuracy: 1.0000 - val_loss: 0.0680 - val_accuracy: 0.9853\n",
      "Epoch 33/50\n",
      "156/156 [==============================] - 2s 13ms/step - loss: 5.2245e-05 - accuracy: 1.0000 - val_loss: 0.0696 - val_accuracy: 0.9853\n",
      "Epoch 34/50\n",
      "156/156 [==============================] - 2s 13ms/step - loss: 4.5600e-05 - accuracy: 1.0000 - val_loss: 0.0739 - val_accuracy: 0.9853\n",
      "Epoch 35/50\n",
      "156/156 [==============================] - 2s 13ms/step - loss: 4.3218e-05 - accuracy: 1.0000 - val_loss: 0.0705 - val_accuracy: 0.9853\n",
      "Epoch 36/50\n",
      "156/156 [==============================] - 2s 13ms/step - loss: 3.9143e-05 - accuracy: 1.0000 - val_loss: 0.0739 - val_accuracy: 0.9853\n",
      "Epoch 37/50\n",
      "156/156 [==============================] - 2s 13ms/step - loss: 3.5389e-05 - accuracy: 1.0000 - val_loss: 0.0715 - val_accuracy: 0.9859\n",
      "Epoch 38/50\n",
      "156/156 [==============================] - 3s 16ms/step - loss: 3.1384e-05 - accuracy: 1.0000 - val_loss: 0.0749 - val_accuracy: 0.9853\n",
      "Epoch 39/50\n",
      "156/156 [==============================] - 2s 16ms/step - loss: 2.9124e-05 - accuracy: 1.0000 - val_loss: 0.0755 - val_accuracy: 0.9859\n",
      "Epoch 40/50\n",
      "156/156 [==============================] - 2s 13ms/step - loss: 2.6140e-05 - accuracy: 1.0000 - val_loss: 0.0717 - val_accuracy: 0.9853\n",
      "Epoch 41/50\n",
      "156/156 [==============================] - 2s 13ms/step - loss: 2.3487e-05 - accuracy: 1.0000 - val_loss: 0.0740 - val_accuracy: 0.9853\n",
      "Epoch 42/50\n",
      "156/156 [==============================] - 2s 14ms/step - loss: 2.1969e-05 - accuracy: 1.0000 - val_loss: 0.0736 - val_accuracy: 0.9853\n",
      "Epoch 43/50\n",
      "156/156 [==============================] - 2s 14ms/step - loss: 1.9842e-05 - accuracy: 1.0000 - val_loss: 0.0735 - val_accuracy: 0.9853\n",
      "Epoch 44/50\n",
      "156/156 [==============================] - 2s 13ms/step - loss: 1.7960e-05 - accuracy: 1.0000 - val_loss: 0.0771 - val_accuracy: 0.9853\n",
      "Epoch 45/50\n",
      "156/156 [==============================] - 2s 13ms/step - loss: 1.6401e-05 - accuracy: 1.0000 - val_loss: 0.0749 - val_accuracy: 0.9859\n",
      "Epoch 46/50\n",
      "156/156 [==============================] - 2s 13ms/step - loss: 1.4976e-05 - accuracy: 1.0000 - val_loss: 0.0737 - val_accuracy: 0.9853\n",
      "Epoch 47/50\n",
      "156/156 [==============================] - 2s 13ms/step - loss: 1.3659e-05 - accuracy: 1.0000 - val_loss: 0.0742 - val_accuracy: 0.9853\n",
      "Epoch 48/50\n",
      "156/156 [==============================] - 2s 13ms/step - loss: 1.2776e-05 - accuracy: 1.0000 - val_loss: 0.0723 - val_accuracy: 0.9859\n",
      "Epoch 49/50\n",
      "156/156 [==============================] - 2s 13ms/step - loss: 1.1295e-05 - accuracy: 1.0000 - val_loss: 0.0754 - val_accuracy: 0.9853\n",
      "Epoch 50/50\n",
      "156/156 [==============================] - 2s 14ms/step - loss: 1.0515e-05 - accuracy: 1.0000 - val_loss: 0.0750 - val_accuracy: 0.9859\n"
     ]
    }
   ],
   "source": [
    "if saved_model == 0:\n",
    "    # Train model\n",
    "    # Note that validation data is NOT used to train model at all\n",
    "    history = model.fit(train_data, train_label, validation_data=(test_data, test_label), callbacks = [callTensorboard], epochs=50, batch_size=32)\n",
    "    model.save('C:/Users/KOMPUTER/Documents/Jupyter Notebooks/MAFAULDA_SEP769-main/Models/CNN.h5')\n",
    "else:\n",
    "    # Load model from .h5 file\n",
    "    model = load_model('C:/Users/KOMPUTER/Documents/Jupyter Notebooks/MAFAULDA_SEP769-main/Models/CNN.h5')\n"
   ]
  },
  {
   "cell_type": "code",
   "execution_count": 11,
   "id": "7eae0b1d",
   "metadata": {
    "colab": {
     "base_uri": "https://localhost:8080/"
    },
    "id": "7eae0b1d",
    "outputId": "9c9096f1-7391-4509-ea31-3c32f7699e94"
   },
   "outputs": [
    {
     "name": "stdout",
     "output_type": "stream",
     "text": [
      "Training Accuracy:  1.0\n",
      "Test Accuracy:  0.9858757257461548\n"
     ]
    }
   ],
   "source": [
    "# Evaluate model performance with test set\n",
    "score = model.evaluate(train_data, train_label, verbose=0)\n",
    "print(\"Training Accuracy: \", score[1])\n",
    "score = model.evaluate(test_data, test_label, verbose=0)\n",
    "print(\"Test Accuracy: \", score[1])"
   ]
  },
  {
   "cell_type": "code",
   "execution_count": 12,
   "id": "aec2bfab",
   "metadata": {
    "colab": {
     "base_uri": "https://localhost:8080/",
     "height": 295
    },
    "id": "aec2bfab",
    "outputId": "9b02f9a3-6d35-417a-f48b-cb16fbd0bafa"
   },
   "outputs": [
    {
     "data": {
      "image/png": "[encoded data removed]",
      "text/plain": [
       "<Figure size 432x288 with 1 Axes>"
      ]
     },
     "metadata": {
      "needs_background": "light"
     },
     "output_type": "display_data"
    }
   ],
   "source": [
    "# Plot model accuracy over epoch if trained\n",
    "#If you have chosen 'saved_model == 1', chart won't be presented.\n",
    "if saved_model == 0:\n",
    "    plt.plot(history.history['accuracy'])\n",
    "    plt.plot(history.history['val_accuracy'])\n",
    "    plt.title('Model Accuracy')\n",
    "    plt.ylabel('accuracy')\n",
    "    plt.xlabel('epoch')\n",
    "    plt.legend(['train', 'val'], loc='upper right')\n",
    "    plt.show()\n"
   ]
  },
  {
   "cell_type": "code",
   "execution_count": 13,
   "id": "8f9a1adb",
   "metadata": {},
   "outputs": [
    {
     "data": {
      "image/png": "[encoded data removed]",
      "text/plain": [
       "<Figure size 432x288 with 1 Axes>"
      ]
     },
     "metadata": {
      "needs_background": "light"
     },
     "output_type": "display_data"
    }
   ],
   "source": [
    "if saved_model == 0:\n",
    "    plt.plot(history.history['loss'])\n",
    "    plt.plot(history.history['val_loss'])\n",
    "    plt.title('model loss')\n",
    "    plt.ylabel('loss')\n",
    "    plt.xlabel('epoch')\n",
    "    plt.legend(['train', 'val'], loc='upper left')\n",
    "    plt.show()"
   ]
  },
  {
   "cell_type": "code",
   "execution_count": 14,
   "id": "151a7c21",
   "metadata": {},
   "outputs": [],
   "source": [
    "preds = model.predict(test_data) # label scores \n",
    "\n",
    "classpreds = np.argmax(preds, axis=0) # predicted classes \n",
    "\n",
    "y_testclass = np.argmax(test_label, axis=0) # true classes\n",
    "\n",
    "n_classes=2 # number of classes"
   ]
  },
  {
   "cell_type": "code",
   "execution_count": 18,
   "id": "1f9ac611",
   "metadata": {},
   "outputs": [
    {
     "ename": "TypeError",
     "evalue": "Singleton array 910 cannot be considered a valid collection.",
     "output_type": "error",
     "traceback": [
      "\u001b[1;31m---------------------------------------------------------------------------\u001b[0m",
      "\u001b[1;31mTypeError\u001b[0m                                 Traceback (most recent call last)",
      "\u001b[1;32m<ipython-input-18-717429eabbdb>\u001b[0m in \u001b[0;36m<module>\u001b[1;34m\u001b[0m\n\u001b[0;32m      4\u001b[0m \u001b[1;31m# Confusion Matrix\u001b[0m\u001b[1;33m\u001b[0m\u001b[1;33m\u001b[0m\u001b[1;33m\u001b[0m\u001b[0m\n\u001b[0;32m      5\u001b[0m \u001b[0mc_names\u001b[0m \u001b[1;33m=\u001b[0m \u001b[1;33m[\u001b[0m\u001b[1;34m'normal'\u001b[0m\u001b[1;33m,\u001b[0m \u001b[1;34m'unbalance'\u001b[0m\u001b[1;33m]\u001b[0m\u001b[1;33m\u001b[0m\u001b[1;33m\u001b[0m\u001b[0m\n\u001b[1;32m----> 6\u001b[1;33m \u001b[0mcm\u001b[0m \u001b[1;33m=\u001b[0m \u001b[0mconfusion_matrix\u001b[0m\u001b[1;33m(\u001b[0m\u001b[0my_testclass\u001b[0m\u001b[1;33m,\u001b[0m \u001b[0mclasspreds\u001b[0m\u001b[1;33m)\u001b[0m\u001b[1;33m\u001b[0m\u001b[1;33m\u001b[0m\u001b[0m\n\u001b[0m\u001b[0;32m      7\u001b[0m \u001b[0mprint\u001b[0m\u001b[1;33m(\u001b[0m\u001b[0mcm\u001b[0m\u001b[1;33m)\u001b[0m\u001b[1;33m\u001b[0m\u001b[1;33m\u001b[0m\u001b[0m\n\u001b[0;32m      8\u001b[0m \u001b[1;33m\u001b[0m\u001b[0m\n",
      "\u001b[1;32m~\\anaconda3\\lib\\site-packages\\sklearn\\utils\\validation.py\u001b[0m in \u001b[0;36minner_f\u001b[1;34m(*args, **kwargs)\u001b[0m\n\u001b[0;32m     61\u001b[0m             \u001b[0mextra_args\u001b[0m \u001b[1;33m=\u001b[0m \u001b[0mlen\u001b[0m\u001b[1;33m(\u001b[0m\u001b[0margs\u001b[0m\u001b[1;33m)\u001b[0m \u001b[1;33m-\u001b[0m \u001b[0mlen\u001b[0m\u001b[1;33m(\u001b[0m\u001b[0mall_args\u001b[0m\u001b[1;33m)\u001b[0m\u001b[1;33m\u001b[0m\u001b[1;33m\u001b[0m\u001b[0m\n\u001b[0;32m     62\u001b[0m             \u001b[1;32mif\u001b[0m \u001b[0mextra_args\u001b[0m \u001b[1;33m<=\u001b[0m \u001b[1;36m0\u001b[0m\u001b[1;33m:\u001b[0m\u001b[1;33m\u001b[0m\u001b[1;33m\u001b[0m\u001b[0m\n\u001b[1;32m---> 63\u001b[1;33m                 \u001b[1;32mreturn\u001b[0m \u001b[0mf\u001b[0m\u001b[1;33m(\u001b[0m\u001b[1;33m*\u001b[0m\u001b[0margs\u001b[0m\u001b[1;33m,\u001b[0m \u001b[1;33m**\u001b[0m\u001b[0mkwargs\u001b[0m\u001b[1;33m)\u001b[0m\u001b[1;33m\u001b[0m\u001b[1;33m\u001b[0m\u001b[0m\n\u001b[0m\u001b[0;32m     64\u001b[0m \u001b[1;33m\u001b[0m\u001b[0m\n\u001b[0;32m     65\u001b[0m             \u001b[1;31m# extra_args > 0\u001b[0m\u001b[1;33m\u001b[0m\u001b[1;33m\u001b[0m\u001b[1;33m\u001b[0m\u001b[0m\n",
      "\u001b[1;32m~\\anaconda3\\lib\\site-packages\\sklearn\\metrics\\_classification.py\u001b[0m in \u001b[0;36mconfusion_matrix\u001b[1;34m(y_true, y_pred, labels, sample_weight, normalize)\u001b[0m\n\u001b[0;32m    294\u001b[0m \u001b[1;33m\u001b[0m\u001b[0m\n\u001b[0;32m    295\u001b[0m     \"\"\"\n\u001b[1;32m--> 296\u001b[1;33m     \u001b[0my_type\u001b[0m\u001b[1;33m,\u001b[0m \u001b[0my_true\u001b[0m\u001b[1;33m,\u001b[0m \u001b[0my_pred\u001b[0m \u001b[1;33m=\u001b[0m \u001b[0m_check_targets\u001b[0m\u001b[1;33m(\u001b[0m\u001b[0my_true\u001b[0m\u001b[1;33m,\u001b[0m \u001b[0my_pred\u001b[0m\u001b[1;33m)\u001b[0m\u001b[1;33m\u001b[0m\u001b[1;33m\u001b[0m\u001b[0m\n\u001b[0m\u001b[0;32m    297\u001b[0m     \u001b[1;32mif\u001b[0m \u001b[0my_type\u001b[0m \u001b[1;32mnot\u001b[0m \u001b[1;32min\u001b[0m \u001b[1;33m(\u001b[0m\u001b[1;34m\"binary\"\u001b[0m\u001b[1;33m,\u001b[0m \u001b[1;34m\"multiclass\"\u001b[0m\u001b[1;33m)\u001b[0m\u001b[1;33m:\u001b[0m\u001b[1;33m\u001b[0m\u001b[1;33m\u001b[0m\u001b[0m\n\u001b[0;32m    298\u001b[0m         \u001b[1;32mraise\u001b[0m \u001b[0mValueError\u001b[0m\u001b[1;33m(\u001b[0m\u001b[1;34m\"%s is not supported\"\u001b[0m \u001b[1;33m%\u001b[0m \u001b[0my_type\u001b[0m\u001b[1;33m)\u001b[0m\u001b[1;33m\u001b[0m\u001b[1;33m\u001b[0m\u001b[0m\n",
      "\u001b[1;32m~\\anaconda3\\lib\\site-packages\\sklearn\\metrics\\_classification.py\u001b[0m in \u001b[0;36m_check_targets\u001b[1;34m(y_true, y_pred)\u001b[0m\n\u001b[0;32m     81\u001b[0m     \u001b[0my_pred\u001b[0m \u001b[1;33m:\u001b[0m \u001b[0marray\u001b[0m \u001b[1;32mor\u001b[0m \u001b[0mindicator\u001b[0m \u001b[0mmatrix\u001b[0m\u001b[1;33m\u001b[0m\u001b[1;33m\u001b[0m\u001b[0m\n\u001b[0;32m     82\u001b[0m     \"\"\"\n\u001b[1;32m---> 83\u001b[1;33m     \u001b[0mcheck_consistent_length\u001b[0m\u001b[1;33m(\u001b[0m\u001b[0my_true\u001b[0m\u001b[1;33m,\u001b[0m \u001b[0my_pred\u001b[0m\u001b[1;33m)\u001b[0m\u001b[1;33m\u001b[0m\u001b[1;33m\u001b[0m\u001b[0m\n\u001b[0m\u001b[0;32m     84\u001b[0m     \u001b[0mtype_true\u001b[0m \u001b[1;33m=\u001b[0m \u001b[0mtype_of_target\u001b[0m\u001b[1;33m(\u001b[0m\u001b[0my_true\u001b[0m\u001b[1;33m)\u001b[0m\u001b[1;33m\u001b[0m\u001b[1;33m\u001b[0m\u001b[0m\n\u001b[0;32m     85\u001b[0m     \u001b[0mtype_pred\u001b[0m \u001b[1;33m=\u001b[0m \u001b[0mtype_of_target\u001b[0m\u001b[1;33m(\u001b[0m\u001b[0my_pred\u001b[0m\u001b[1;33m)\u001b[0m\u001b[1;33m\u001b[0m\u001b[1;33m\u001b[0m\u001b[0m\n",
      "\u001b[1;32m~\\anaconda3\\lib\\site-packages\\sklearn\\utils\\validation.py\u001b[0m in \u001b[0;36mcheck_consistent_length\u001b[1;34m(*arrays)\u001b[0m\n\u001b[0;32m    257\u001b[0m     \"\"\"\n\u001b[0;32m    258\u001b[0m \u001b[1;33m\u001b[0m\u001b[0m\n\u001b[1;32m--> 259\u001b[1;33m     \u001b[0mlengths\u001b[0m \u001b[1;33m=\u001b[0m \u001b[1;33m[\u001b[0m\u001b[0m_num_samples\u001b[0m\u001b[1;33m(\u001b[0m\u001b[0mX\u001b[0m\u001b[1;33m)\u001b[0m \u001b[1;32mfor\u001b[0m \u001b[0mX\u001b[0m \u001b[1;32min\u001b[0m \u001b[0marrays\u001b[0m \u001b[1;32mif\u001b[0m \u001b[0mX\u001b[0m \u001b[1;32mis\u001b[0m \u001b[1;32mnot\u001b[0m \u001b[1;32mNone\u001b[0m\u001b[1;33m]\u001b[0m\u001b[1;33m\u001b[0m\u001b[1;33m\u001b[0m\u001b[0m\n\u001b[0m\u001b[0;32m    260\u001b[0m     \u001b[0muniques\u001b[0m \u001b[1;33m=\u001b[0m \u001b[0mnp\u001b[0m\u001b[1;33m.\u001b[0m\u001b[0munique\u001b[0m\u001b[1;33m(\u001b[0m\u001b[0mlengths\u001b[0m\u001b[1;33m)\u001b[0m\u001b[1;33m\u001b[0m\u001b[1;33m\u001b[0m\u001b[0m\n\u001b[0;32m    261\u001b[0m     \u001b[1;32mif\u001b[0m \u001b[0mlen\u001b[0m\u001b[1;33m(\u001b[0m\u001b[0muniques\u001b[0m\u001b[1;33m)\u001b[0m \u001b[1;33m>\u001b[0m \u001b[1;36m1\u001b[0m\u001b[1;33m:\u001b[0m\u001b[1;33m\u001b[0m\u001b[1;33m\u001b[0m\u001b[0m\n",
      "\u001b[1;32m~\\anaconda3\\lib\\site-packages\\sklearn\\utils\\validation.py\u001b[0m in \u001b[0;36m<listcomp>\u001b[1;34m(.0)\u001b[0m\n\u001b[0;32m    257\u001b[0m     \"\"\"\n\u001b[0;32m    258\u001b[0m \u001b[1;33m\u001b[0m\u001b[0m\n\u001b[1;32m--> 259\u001b[1;33m     \u001b[0mlengths\u001b[0m \u001b[1;33m=\u001b[0m \u001b[1;33m[\u001b[0m\u001b[0m_num_samples\u001b[0m\u001b[1;33m(\u001b[0m\u001b[0mX\u001b[0m\u001b[1;33m)\u001b[0m \u001b[1;32mfor\u001b[0m \u001b[0mX\u001b[0m \u001b[1;32min\u001b[0m \u001b[0marrays\u001b[0m \u001b[1;32mif\u001b[0m \u001b[0mX\u001b[0m \u001b[1;32mis\u001b[0m \u001b[1;32mnot\u001b[0m \u001b[1;32mNone\u001b[0m\u001b[1;33m]\u001b[0m\u001b[1;33m\u001b[0m\u001b[1;33m\u001b[0m\u001b[0m\n\u001b[0m\u001b[0;32m    260\u001b[0m     \u001b[0muniques\u001b[0m \u001b[1;33m=\u001b[0m \u001b[0mnp\u001b[0m\u001b[1;33m.\u001b[0m\u001b[0munique\u001b[0m\u001b[1;33m(\u001b[0m\u001b[0mlengths\u001b[0m\u001b[1;33m)\u001b[0m\u001b[1;33m\u001b[0m\u001b[1;33m\u001b[0m\u001b[0m\n\u001b[0;32m    261\u001b[0m     \u001b[1;32mif\u001b[0m \u001b[0mlen\u001b[0m\u001b[1;33m(\u001b[0m\u001b[0muniques\u001b[0m\u001b[1;33m)\u001b[0m \u001b[1;33m>\u001b[0m \u001b[1;36m1\u001b[0m\u001b[1;33m:\u001b[0m\u001b[1;33m\u001b[0m\u001b[1;33m\u001b[0m\u001b[0m\n",
      "\u001b[1;32m~\\anaconda3\\lib\\site-packages\\sklearn\\utils\\validation.py\u001b[0m in \u001b[0;36m_num_samples\u001b[1;34m(x)\u001b[0m\n\u001b[0;32m    200\u001b[0m     \u001b[1;32mif\u001b[0m \u001b[0mhasattr\u001b[0m\u001b[1;33m(\u001b[0m\u001b[0mx\u001b[0m\u001b[1;33m,\u001b[0m \u001b[1;34m'shape'\u001b[0m\u001b[1;33m)\u001b[0m \u001b[1;32mand\u001b[0m \u001b[0mx\u001b[0m\u001b[1;33m.\u001b[0m\u001b[0mshape\u001b[0m \u001b[1;32mis\u001b[0m \u001b[1;32mnot\u001b[0m \u001b[1;32mNone\u001b[0m\u001b[1;33m:\u001b[0m\u001b[1;33m\u001b[0m\u001b[1;33m\u001b[0m\u001b[0m\n\u001b[0;32m    201\u001b[0m         \u001b[1;32mif\u001b[0m \u001b[0mlen\u001b[0m\u001b[1;33m(\u001b[0m\u001b[0mx\u001b[0m\u001b[1;33m.\u001b[0m\u001b[0mshape\u001b[0m\u001b[1;33m)\u001b[0m \u001b[1;33m==\u001b[0m \u001b[1;36m0\u001b[0m\u001b[1;33m:\u001b[0m\u001b[1;33m\u001b[0m\u001b[1;33m\u001b[0m\u001b[0m\n\u001b[1;32m--> 202\u001b[1;33m             raise TypeError(\"Singleton array %r cannot be considered\"\n\u001b[0m\u001b[0;32m    203\u001b[0m                             \" a valid collection.\" % x)\n\u001b[0;32m    204\u001b[0m         \u001b[1;31m# Check that shape is returning an integer or default to len\u001b[0m\u001b[1;33m\u001b[0m\u001b[1;33m\u001b[0m\u001b[1;33m\u001b[0m\u001b[0m\n",
      "\u001b[1;31mTypeError\u001b[0m: Singleton array 910 cannot be considered a valid collection."
     ]
    }
   ],
   "source": [
    "from sklearn.metrics import confusion_matrix, classification_report\n",
    "import seaborn as sns\n",
    "\n",
    "# Confusion Matrix\n",
    "c_names = ['normal', 'unbalance']\n",
    "cm = confusion_matrix(y_testclass, classpreds)\n",
    "print(cm)\n",
    "\n",
    "# Get percentage value for each element of the matrix\n",
    "cm_sum = np.sum(cm, axis=1, keepdims=True)\n",
    "cm_perc = cm / cm_sum.astype(float) * 100\n",
    "annot = np.empty_like(cm).astype(str)\n",
    "nrows, ncols = cm.shape\n",
    "for i in range(nrows):\n",
    "    for j in range(ncols):\n",
    "        c = cm[i, j]\n",
    "        p = cm_perc[i, j]\n",
    "        if i == j:\n",
    "            s = cm_sum[i]\n",
    "            annot[i, j] = '%.1f%%\\n%d/%d' % (p, c, s)\n",
    "        elif c == 0:\n",
    "            annot[i, j] = ''\n",
    "        else:\n",
    "            annot[i, j] = '%.1f%%\\n%d' % (p, c)\n",
    "\n",
    "# Display confusion matrix \n",
    "df_cm = pd.DataFrame(cm, index = c_names, columns = c_names)\n",
    "df_cm.index.name = 'Actual'\n",
    "df_cm.columns.name = 'Predicted'\n",
    "fig, ax = plt.subplots(figsize=(10,7))\n",
    "sns.heatmap(df_cm, annot=annot, fmt='')"
   ]
  },
  {
   "cell_type": "code",
   "execution_count": 17,
   "id": "ec2aab49",
   "metadata": {},
   "outputs": [
    {
     "ename": "TypeError",
     "evalue": "Singleton array 910 cannot be considered a valid collection.",
     "output_type": "error",
     "traceback": [
      "\u001b[1;31m---------------------------------------------------------------------------\u001b[0m",
      "\u001b[1;31mTypeError\u001b[0m                                 Traceback (most recent call last)",
      "\u001b[1;32m<ipython-input-17-68cc870bf7d9>\u001b[0m in \u001b[0;36m<module>\u001b[1;34m\u001b[0m\n\u001b[0;32m      1\u001b[0m \u001b[1;32mfrom\u001b[0m \u001b[0msklearn\u001b[0m\u001b[1;33m.\u001b[0m\u001b[0mmetrics\u001b[0m \u001b[1;32mimport\u001b[0m \u001b[0mconfusion_matrix\u001b[0m\u001b[1;33m\u001b[0m\u001b[1;33m\u001b[0m\u001b[0m\n\u001b[1;32m----> 2\u001b[1;33m \u001b[0mconfusion\u001b[0m \u001b[1;33m=\u001b[0m \u001b[0mconfusion_matrix\u001b[0m\u001b[1;33m(\u001b[0m\u001b[0my_testclass\u001b[0m\u001b[1;33m,\u001b[0m \u001b[0mclasspreds\u001b[0m\u001b[1;33m)\u001b[0m\u001b[1;33m\u001b[0m\u001b[1;33m\u001b[0m\u001b[0m\n\u001b[0m\u001b[0;32m      3\u001b[0m \u001b[0mprint\u001b[0m\u001b[1;33m(\u001b[0m\u001b[1;34m'Confusion Matrix\\n'\u001b[0m\u001b[1;33m)\u001b[0m\u001b[1;33m\u001b[0m\u001b[1;33m\u001b[0m\u001b[0m\n\u001b[0;32m      4\u001b[0m \u001b[0mprint\u001b[0m\u001b[1;33m(\u001b[0m\u001b[0mconfusion\u001b[0m\u001b[1;33m)\u001b[0m\u001b[1;33m\u001b[0m\u001b[1;33m\u001b[0m\u001b[0m\n\u001b[0;32m      5\u001b[0m \u001b[1;33m\u001b[0m\u001b[0m\n",
      "\u001b[1;32m~\\anaconda3\\lib\\site-packages\\sklearn\\utils\\validation.py\u001b[0m in \u001b[0;36minner_f\u001b[1;34m(*args, **kwargs)\u001b[0m\n\u001b[0;32m     61\u001b[0m             \u001b[0mextra_args\u001b[0m \u001b[1;33m=\u001b[0m \u001b[0mlen\u001b[0m\u001b[1;33m(\u001b[0m\u001b[0margs\u001b[0m\u001b[1;33m)\u001b[0m \u001b[1;33m-\u001b[0m \u001b[0mlen\u001b[0m\u001b[1;33m(\u001b[0m\u001b[0mall_args\u001b[0m\u001b[1;33m)\u001b[0m\u001b[1;33m\u001b[0m\u001b[1;33m\u001b[0m\u001b[0m\n\u001b[0;32m     62\u001b[0m             \u001b[1;32mif\u001b[0m \u001b[0mextra_args\u001b[0m \u001b[1;33m<=\u001b[0m \u001b[1;36m0\u001b[0m\u001b[1;33m:\u001b[0m\u001b[1;33m\u001b[0m\u001b[1;33m\u001b[0m\u001b[0m\n\u001b[1;32m---> 63\u001b[1;33m                 \u001b[1;32mreturn\u001b[0m \u001b[0mf\u001b[0m\u001b[1;33m(\u001b[0m\u001b[1;33m*\u001b[0m\u001b[0margs\u001b[0m\u001b[1;33m,\u001b[0m \u001b[1;33m**\u001b[0m\u001b[0mkwargs\u001b[0m\u001b[1;33m)\u001b[0m\u001b[1;33m\u001b[0m\u001b[1;33m\u001b[0m\u001b[0m\n\u001b[0m\u001b[0;32m     64\u001b[0m \u001b[1;33m\u001b[0m\u001b[0m\n\u001b[0;32m     65\u001b[0m             \u001b[1;31m# extra_args > 0\u001b[0m\u001b[1;33m\u001b[0m\u001b[1;33m\u001b[0m\u001b[1;33m\u001b[0m\u001b[0m\n",
      "\u001b[1;32m~\\anaconda3\\lib\\site-packages\\sklearn\\metrics\\_classification.py\u001b[0m in \u001b[0;36mconfusion_matrix\u001b[1;34m(y_true, y_pred, labels, sample_weight, normalize)\u001b[0m\n\u001b[0;32m    294\u001b[0m \u001b[1;33m\u001b[0m\u001b[0m\n\u001b[0;32m    295\u001b[0m     \"\"\"\n\u001b[1;32m--> 296\u001b[1;33m     \u001b[0my_type\u001b[0m\u001b[1;33m,\u001b[0m \u001b[0my_true\u001b[0m\u001b[1;33m,\u001b[0m \u001b[0my_pred\u001b[0m \u001b[1;33m=\u001b[0m \u001b[0m_check_targets\u001b[0m\u001b[1;33m(\u001b[0m\u001b[0my_true\u001b[0m\u001b[1;33m,\u001b[0m \u001b[0my_pred\u001b[0m\u001b[1;33m)\u001b[0m\u001b[1;33m\u001b[0m\u001b[1;33m\u001b[0m\u001b[0m\n\u001b[0m\u001b[0;32m    297\u001b[0m     \u001b[1;32mif\u001b[0m \u001b[0my_type\u001b[0m \u001b[1;32mnot\u001b[0m \u001b[1;32min\u001b[0m \u001b[1;33m(\u001b[0m\u001b[1;34m\"binary\"\u001b[0m\u001b[1;33m,\u001b[0m \u001b[1;34m\"multiclass\"\u001b[0m\u001b[1;33m)\u001b[0m\u001b[1;33m:\u001b[0m\u001b[1;33m\u001b[0m\u001b[1;33m\u001b[0m\u001b[0m\n\u001b[0;32m    298\u001b[0m         \u001b[1;32mraise\u001b[0m \u001b[0mValueError\u001b[0m\u001b[1;33m(\u001b[0m\u001b[1;34m\"%s is not supported\"\u001b[0m \u001b[1;33m%\u001b[0m \u001b[0my_type\u001b[0m\u001b[1;33m)\u001b[0m\u001b[1;33m\u001b[0m\u001b[1;33m\u001b[0m\u001b[0m\n",
      "\u001b[1;32m~\\anaconda3\\lib\\site-packages\\sklearn\\metrics\\_classification.py\u001b[0m in \u001b[0;36m_check_targets\u001b[1;34m(y_true, y_pred)\u001b[0m\n\u001b[0;32m     81\u001b[0m     \u001b[0my_pred\u001b[0m \u001b[1;33m:\u001b[0m \u001b[0marray\u001b[0m \u001b[1;32mor\u001b[0m \u001b[0mindicator\u001b[0m \u001b[0mmatrix\u001b[0m\u001b[1;33m\u001b[0m\u001b[1;33m\u001b[0m\u001b[0m\n\u001b[0;32m     82\u001b[0m     \"\"\"\n\u001b[1;32m---> 83\u001b[1;33m     \u001b[0mcheck_consistent_length\u001b[0m\u001b[1;33m(\u001b[0m\u001b[0my_true\u001b[0m\u001b[1;33m,\u001b[0m \u001b[0my_pred\u001b[0m\u001b[1;33m)\u001b[0m\u001b[1;33m\u001b[0m\u001b[1;33m\u001b[0m\u001b[0m\n\u001b[0m\u001b[0;32m     84\u001b[0m     \u001b[0mtype_true\u001b[0m \u001b[1;33m=\u001b[0m \u001b[0mtype_of_target\u001b[0m\u001b[1;33m(\u001b[0m\u001b[0my_true\u001b[0m\u001b[1;33m)\u001b[0m\u001b[1;33m\u001b[0m\u001b[1;33m\u001b[0m\u001b[0m\n\u001b[0;32m     85\u001b[0m     \u001b[0mtype_pred\u001b[0m \u001b[1;33m=\u001b[0m \u001b[0mtype_of_target\u001b[0m\u001b[1;33m(\u001b[0m\u001b[0my_pred\u001b[0m\u001b[1;33m)\u001b[0m\u001b[1;33m\u001b[0m\u001b[1;33m\u001b[0m\u001b[0m\n",
      "\u001b[1;32m~\\anaconda3\\lib\\site-packages\\sklearn\\utils\\validation.py\u001b[0m in \u001b[0;36mcheck_consistent_length\u001b[1;34m(*arrays)\u001b[0m\n\u001b[0;32m    257\u001b[0m     \"\"\"\n\u001b[0;32m    258\u001b[0m \u001b[1;33m\u001b[0m\u001b[0m\n\u001b[1;32m--> 259\u001b[1;33m     \u001b[0mlengths\u001b[0m \u001b[1;33m=\u001b[0m \u001b[1;33m[\u001b[0m\u001b[0m_num_samples\u001b[0m\u001b[1;33m(\u001b[0m\u001b[0mX\u001b[0m\u001b[1;33m)\u001b[0m \u001b[1;32mfor\u001b[0m \u001b[0mX\u001b[0m \u001b[1;32min\u001b[0m \u001b[0marrays\u001b[0m \u001b[1;32mif\u001b[0m \u001b[0mX\u001b[0m \u001b[1;32mis\u001b[0m \u001b[1;32mnot\u001b[0m \u001b[1;32mNone\u001b[0m\u001b[1;33m]\u001b[0m\u001b[1;33m\u001b[0m\u001b[1;33m\u001b[0m\u001b[0m\n\u001b[0m\u001b[0;32m    260\u001b[0m     \u001b[0muniques\u001b[0m \u001b[1;33m=\u001b[0m \u001b[0mnp\u001b[0m\u001b[1;33m.\u001b[0m\u001b[0munique\u001b[0m\u001b[1;33m(\u001b[0m\u001b[0mlengths\u001b[0m\u001b[1;33m)\u001b[0m\u001b[1;33m\u001b[0m\u001b[1;33m\u001b[0m\u001b[0m\n\u001b[0;32m    261\u001b[0m     \u001b[1;32mif\u001b[0m \u001b[0mlen\u001b[0m\u001b[1;33m(\u001b[0m\u001b[0muniques\u001b[0m\u001b[1;33m)\u001b[0m \u001b[1;33m>\u001b[0m \u001b[1;36m1\u001b[0m\u001b[1;33m:\u001b[0m\u001b[1;33m\u001b[0m\u001b[1;33m\u001b[0m\u001b[0m\n",
      "\u001b[1;32m~\\anaconda3\\lib\\site-packages\\sklearn\\utils\\validation.py\u001b[0m in \u001b[0;36m<listcomp>\u001b[1;34m(.0)\u001b[0m\n\u001b[0;32m    257\u001b[0m     \"\"\"\n\u001b[0;32m    258\u001b[0m \u001b[1;33m\u001b[0m\u001b[0m\n\u001b[1;32m--> 259\u001b[1;33m     \u001b[0mlengths\u001b[0m \u001b[1;33m=\u001b[0m \u001b[1;33m[\u001b[0m\u001b[0m_num_samples\u001b[0m\u001b[1;33m(\u001b[0m\u001b[0mX\u001b[0m\u001b[1;33m)\u001b[0m \u001b[1;32mfor\u001b[0m \u001b[0mX\u001b[0m \u001b[1;32min\u001b[0m \u001b[0marrays\u001b[0m \u001b[1;32mif\u001b[0m \u001b[0mX\u001b[0m \u001b[1;32mis\u001b[0m \u001b[1;32mnot\u001b[0m \u001b[1;32mNone\u001b[0m\u001b[1;33m]\u001b[0m\u001b[1;33m\u001b[0m\u001b[1;33m\u001b[0m\u001b[0m\n\u001b[0m\u001b[0;32m    260\u001b[0m     \u001b[0muniques\u001b[0m \u001b[1;33m=\u001b[0m \u001b[0mnp\u001b[0m\u001b[1;33m.\u001b[0m\u001b[0munique\u001b[0m\u001b[1;33m(\u001b[0m\u001b[0mlengths\u001b[0m\u001b[1;33m)\u001b[0m\u001b[1;33m\u001b[0m\u001b[1;33m\u001b[0m\u001b[0m\n\u001b[0;32m    261\u001b[0m     \u001b[1;32mif\u001b[0m \u001b[0mlen\u001b[0m\u001b[1;33m(\u001b[0m\u001b[0muniques\u001b[0m\u001b[1;33m)\u001b[0m \u001b[1;33m>\u001b[0m \u001b[1;36m1\u001b[0m\u001b[1;33m:\u001b[0m\u001b[1;33m\u001b[0m\u001b[1;33m\u001b[0m\u001b[0m\n",
      "\u001b[1;32m~\\anaconda3\\lib\\site-packages\\sklearn\\utils\\validation.py\u001b[0m in \u001b[0;36m_num_samples\u001b[1;34m(x)\u001b[0m\n\u001b[0;32m    200\u001b[0m     \u001b[1;32mif\u001b[0m \u001b[0mhasattr\u001b[0m\u001b[1;33m(\u001b[0m\u001b[0mx\u001b[0m\u001b[1;33m,\u001b[0m \u001b[1;34m'shape'\u001b[0m\u001b[1;33m)\u001b[0m \u001b[1;32mand\u001b[0m \u001b[0mx\u001b[0m\u001b[1;33m.\u001b[0m\u001b[0mshape\u001b[0m \u001b[1;32mis\u001b[0m \u001b[1;32mnot\u001b[0m \u001b[1;32mNone\u001b[0m\u001b[1;33m:\u001b[0m\u001b[1;33m\u001b[0m\u001b[1;33m\u001b[0m\u001b[0m\n\u001b[0;32m    201\u001b[0m         \u001b[1;32mif\u001b[0m \u001b[0mlen\u001b[0m\u001b[1;33m(\u001b[0m\u001b[0mx\u001b[0m\u001b[1;33m.\u001b[0m\u001b[0mshape\u001b[0m\u001b[1;33m)\u001b[0m \u001b[1;33m==\u001b[0m \u001b[1;36m0\u001b[0m\u001b[1;33m:\u001b[0m\u001b[1;33m\u001b[0m\u001b[1;33m\u001b[0m\u001b[0m\n\u001b[1;32m--> 202\u001b[1;33m             raise TypeError(\"Singleton array %r cannot be considered\"\n\u001b[0m\u001b[0;32m    203\u001b[0m                             \" a valid collection.\" % x)\n\u001b[0;32m    204\u001b[0m         \u001b[1;31m# Check that shape is returning an integer or default to len\u001b[0m\u001b[1;33m\u001b[0m\u001b[1;33m\u001b[0m\u001b[1;33m\u001b[0m\u001b[0m\n",
      "\u001b[1;31mTypeError\u001b[0m: Singleton array 910 cannot be considered a valid collection."
     ]
    }
   ],
   "source": [
    "from sklearn.metrics import confusion_matrix\n",
    "confusion = confusion_matrix(y_testclass, classpreds)\n",
    "print('Confusion Matrix\\n')\n",
    "print(confusion)\n",
    "\n",
    "#importing accuracy_score, precision_score, recall_score, f1_score\n",
    "from sklearn.metrics import accuracy_score, precision_score, recall_score, f1_score\n",
    "print('\\nAccuracy: {:.2f}\\n'.format(accuracy_score(y_testclass, classpreds)))\n",
    "\n",
    "print('Micro Precision: {:.2f}'.format(precision_score(y_testclass, classpreds, average='micro')))\n",
    "print('Micro Recall: {:.2f}'.format(recall_score(y_testclass, classpreds, average='micro')))\n",
    "print('Micro F1-score: {:.2f}\\n'.format(f1_score(y_testclass, classpreds, average='micro')))\n",
    "\n",
    "print('Macro Precision: {:.2f}'.format(precision_score(y_testclass, classpreds, average='macro')))\n",
    "print('Macro Recall: {:.2f}'.format(recall_score(y_testclass, classpreds, average='macro')))\n",
    "print('Macro F1-score: {:.2f}\\n'.format(f1_score(y_testclass, classpreds, average='macro')))\n",
    "\n",
    "print('Weighted Precision: {:.2f}'.format(precision_score(y_testclass, classpreds, average='weighted')))\n",
    "print('Weighted Recall: {:.2f}'.format(recall_score(y_testclass, classpreds, average='weighted')))\n",
    "print('Weighted F1-score: {:.2f}'.format(f1_score(y_testclass, classpreds, average='weighted')))\n",
    "\n",
    "from sklearn.metrics import classification_report\n",
    "print('\\nClassification Report\\n')\n",
    "print(classification_report(y_testclass, classpreds, target_names=['normal', 'unbalance']))"
   ]
  },
  {
   "cell_type": "code",
   "execution_count": null,
   "id": "3ccdd8dd",
   "metadata": {
    "id": "3ccdd8dd"
   },
   "outputs": [],
   "source": [
    "#If you have chosen 'saved_model == 1', Tensorboard won't work.\n",
    "%tensorboard --logdir logs/fit\n"
   ]
  },
  {
   "cell_type": "code",
   "execution_count": null,
   "id": "36e3ba00",
   "metadata": {},
   "outputs": [],
   "source": []
  }
 ],
 "metadata": {
  "accelerator": "GPU",
  "colab": {
   "name": "CNN.ipynb",
   "provenance": []
  },
  "kernelspec": {
   "display_name": "Python 3",
   "language": "python",
   "name": "python3"
  },
  "language_info": {
   "codemirror_mode": {
    "name": "ipython",
    "version": 3
   },
   "file_extension": ".py",
   "mimetype": "text/x-python",
   "name": "python",
   "nbconvert_exporter": "python",
   "pygments_lexer": "ipython3",
   "version": "3.8.8"
  }
 },
 "nbformat": 4,
 "nbformat_minor": 5
}
