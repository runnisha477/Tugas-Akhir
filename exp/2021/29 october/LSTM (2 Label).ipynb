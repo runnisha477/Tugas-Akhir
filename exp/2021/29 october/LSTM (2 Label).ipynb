{
 "cells": [
  {
   "cell_type": "code",
   "execution_count": 1,
   "id": "ec558735",
   "metadata": {
    "id": "ec558735"
   },
   "outputs": [],
   "source": [
    "# SEP769 - July 27, 2021\n",
    "# Amir Kamaleddine, Ernani Fantinatti, Mohammed Ibraheem\n",
    "# LSTM model for classifying normal and imbalanced motors as part of the MAFAULDA motor fault dataset\n",
    "# If training, we suggest you use GPU acceleration in Colab\n",
    "# https://github.com/efantinatti/MAFAULDA_SEP769"
   ]
  },
  {
   "cell_type": "code",
   "execution_count": 2,
   "id": "eca2a4d1",
   "metadata": {
    "id": "eca2a4d1"
   },
   "outputs": [],
   "source": [
    "# Load in tensorboard extension to view results interactively\n",
    "%load_ext tensorboard\n"
   ]
  },
  {
   "cell_type": "code",
   "execution_count": 3,
   "id": "3a9b57e5",
   "metadata": {
    "id": "3a9b57e5"
   },
   "outputs": [],
   "source": [
    "# Load relevant libraries\n",
    "import tensorflow as tf\n",
    "from keras.models import Sequential, load_model\n",
    "from keras.layers import Dense, Dropout, Flatten, SimpleRNN, LSTM\n",
    "import matplotlib.pyplot as plt\n",
    "import numpy as np\n",
    "import glob\n",
    "import datetime\n"
   ]
  },
  {
   "cell_type": "code",
   "execution_count": 4,
   "id": "827a68c3",
   "metadata": {
    "id": "827a68c3"
   },
   "outputs": [],
   "source": [
    "# For Google Colab only\n",
    "# Pulling processed data from public folder\n",
    "# Credit to this stack overflow forum: https://stackoverflow.com/questions/38511444/python-download-files-from-google-drive-using-url\n",
    "#import gdown\n",
    "\n",
    "#url = 'https://drive.google.com/uc?id=1otE_HKfM24r9Hp1-e5xodSkgve1o3DO5' \n",
    "#output = 'jul27data.zip'\n",
    "#gdown.download(url, output, quiet=False)\n",
    "\n",
    "#!unzip /content/jul27data.zip\n",
    "#!rm -rf sample_data\n"
   ]
  },
  {
   "cell_type": "code",
   "execution_count": 5,
   "id": "01d79360",
   "metadata": {
    "id": "01d79360"
   },
   "outputs": [],
   "source": [
    "# Decide whether to load model from a .h5 file or train a new one\n",
    "saved_model = 0\n"
   ]
  },
  {
   "cell_type": "code",
   "execution_count": 6,
   "id": "1e3f618a",
   "metadata": {
    "id": "1e3f618a"
   },
   "outputs": [],
   "source": [
    "#Delete tensorboard logs from previous runs\n",
    "#If using Collab or Unix system use !rm, otherwise\n",
    "#if using windows skip this\n",
    "#!rm -rf ./logs/\n"
   ]
  },
  {
   "cell_type": "code",
   "execution_count": 7,
   "id": "828eed9b",
   "metadata": {
    "colab": {
     "base_uri": "https://localhost:8080/"
    },
    "id": "828eed9b",
    "outputId": "5f8a6cbd-5f77-46e6-de9d-be81dcdc57c3"
   },
   "outputs": [
    {
     "name": "stdout",
     "output_type": "stream",
     "text": [
      "Loaded data files...\n"
     ]
    }
   ],
   "source": [
    "# Loads train/test data from .txt files to np arrays \n",
    "# Ensure you choose the correct file directory\n",
    "\n",
    "dir = 'C:/Users/KOMPUTER/Documents/Jupyter Notebooks/MAFAULDA_SEP769-main/Models/content/jul27data/'\n",
    "\n",
    "train_reload = np.loadtxt(dir + 'train_data.txt')\n",
    "test_reload = np.loadtxt(dir + 'test_data.txt')\n",
    "\n",
    "print(\"Loaded data files...\")\n"
   ]
  },
  {
   "cell_type": "code",
   "execution_count": 8,
   "id": "22271df0",
   "metadata": {
    "id": "22271df0"
   },
   "outputs": [],
   "source": [
    "# Shaping the training/testing data\n",
    "# Shapes the data into an nx50x8 array\n",
    "# Each sequence is 50 timesteps (1 ms of data collection)\n",
    "\n",
    "train_data = np.reshape(train_reload,(-1,50, 8))\n",
    "test_data = np.reshape(test_reload,(-1,50, 8))\n"
   ]
  },
  {
   "cell_type": "code",
   "execution_count": 9,
   "id": "41678331",
   "metadata": {
    "id": "41678331"
   },
   "outputs": [],
   "source": [
    "# Loads labels corresponding to training/test data\n",
    "train_label = np.loadtxt(dir + 'train_label.txt').astype(int)\n",
    "test_label = np.loadtxt(dir + 'test_label.txt').astype(int)\n",
    "\n",
    "# Organized data is labeled per 500 timesteps\n",
    "# To align the number of labels with number of sequences, need to correct number of labels\n",
    "# These lines correct the number of labels\n",
    "A = sum(train_label == 1)\n",
    "B = sum(test_label == 1)\n",
    "train_label = np.zeros((train_label.shape-A)*10)\n",
    "train_label = np.append(train_label,np.ones(A*10))\n",
    "test_label = np.zeros((test_label.shape-B)*10)\n",
    "test_label = np.append(test_label,np.ones(B*10))\n"
   ]
  },
  {
   "cell_type": "code",
   "execution_count": 16,
   "id": "16153052",
   "metadata": {
    "colab": {
     "base_uri": "https://localhost:8080/"
    },
    "id": "16153052",
    "outputId": "3c35e650-9f35-4245-80b8-e930aee0ac31"
   },
   "outputs": [],
   "source": [
    "# Build the model\n",
    "# Sequential model\n",
    "model = Sequential()\n",
    "\n",
    "# LSTM layers\n",
    "model.add(LSTM(24, input_shape = (50,8), activation = 'tanh', recurrent_activation='sigmoid', return_sequences=True))\n",
    "model.add(LSTM(12, activation = 'tanh', recurrent_activation='sigmoid', return_sequences=True))\n",
    "model.add(LSTM(4, activation = 'tanh', recurrent_activation='sigmoid'))\n",
    "\n",
    "# Output layer\n",
    "model.add(Dense(1, activation='sigmoid'))\n",
    "\n",
    "# Compile model\n",
    "# Binary crossentropy for a binary classifier\n",
    "model.compile(loss='binary_crossentropy', optimizer='adam', metrics=['accuracy'])\n",
    "model.summary()\n"
   ]
  },
  {
   "cell_type": "code",
   "execution_count": 17,
   "id": "d3ef0925",
   "metadata": {
    "id": "d3ef0925"
   },
   "outputs": [],
   "source": [
    "ld = \"logs/fit/\" + datetime.datetime.now().strftime(\"%Y%m%d-%H%M%S\")\n",
    "callTensorboard = tf.keras.callbacks.TensorBoard(log_dir=ld, histogram_freq=1)\n"
   ]
  },
  {
   "cell_type": "code",
   "execution_count": 18,
   "id": "fe16fe62",
   "metadata": {
    "colab": {
     "base_uri": "https://localhost:8080/"
    },
    "id": "fe16fe62",
    "outputId": "33423c3c-a8ba-4939-b093-5ace300cce05",
    "scrolled": true
   },
   "outputs": [
    {
     "ename": "RuntimeError",
     "evalue": "You must compile your model before training/testing. Use `model.compile(optimizer, loss)`.",
     "output_type": "error",
     "traceback": [
      "\u001b[1;31m---------------------------------------------------------------------------\u001b[0m",
      "\u001b[1;31mRuntimeError\u001b[0m                              Traceback (most recent call last)",
      "\u001b[1;32m<ipython-input-18-66136adac45c>\u001b[0m in \u001b[0;36m<module>\u001b[1;34m\u001b[0m\n\u001b[0;32m      2\u001b[0m     \u001b[1;31m# Train model\u001b[0m\u001b[1;33m\u001b[0m\u001b[1;33m\u001b[0m\u001b[1;33m\u001b[0m\u001b[0m\n\u001b[0;32m      3\u001b[0m     \u001b[1;31m# Note that validation data is NOT used to train model at all\u001b[0m\u001b[1;33m\u001b[0m\u001b[1;33m\u001b[0m\u001b[1;33m\u001b[0m\u001b[0m\n\u001b[1;32m----> 4\u001b[1;33m     \u001b[0mhistory\u001b[0m \u001b[1;33m=\u001b[0m \u001b[0mmodel\u001b[0m\u001b[1;33m.\u001b[0m\u001b[0mfit\u001b[0m\u001b[1;33m(\u001b[0m\u001b[0mtrain_data\u001b[0m\u001b[1;33m,\u001b[0m \u001b[0mtrain_label\u001b[0m\u001b[1;33m,\u001b[0m \u001b[0mvalidation_data\u001b[0m\u001b[1;33m=\u001b[0m\u001b[1;33m(\u001b[0m\u001b[0mtest_data\u001b[0m\u001b[1;33m,\u001b[0m \u001b[0mtest_label\u001b[0m\u001b[1;33m)\u001b[0m\u001b[1;33m,\u001b[0m \u001b[0mcallbacks\u001b[0m\u001b[1;33m=\u001b[0m\u001b[1;33m[\u001b[0m\u001b[0mcallTensorboard\u001b[0m\u001b[1;33m]\u001b[0m\u001b[1;33m,\u001b[0m \u001b[0mepochs\u001b[0m\u001b[1;33m=\u001b[0m\u001b[1;36m50\u001b[0m\u001b[1;33m,\u001b[0m \u001b[0mbatch_size\u001b[0m\u001b[1;33m=\u001b[0m\u001b[1;36m50\u001b[0m\u001b[1;33m)\u001b[0m\u001b[1;33m\u001b[0m\u001b[1;33m\u001b[0m\u001b[0m\n\u001b[0m\u001b[0;32m      5\u001b[0m     \u001b[0mmodel\u001b[0m\u001b[1;33m.\u001b[0m\u001b[0msave\u001b[0m\u001b[1;33m(\u001b[0m\u001b[1;34m'C:/Users/KOMPUTER/Documents/Jupyter Notebooks/MAFAULDA_SEP769-main/Models/LSTM.h5'\u001b[0m\u001b[1;33m)\u001b[0m\u001b[1;33m\u001b[0m\u001b[1;33m\u001b[0m\u001b[0m\n\u001b[0;32m      6\u001b[0m \u001b[1;32melse\u001b[0m\u001b[1;33m:\u001b[0m\u001b[1;33m\u001b[0m\u001b[1;33m\u001b[0m\u001b[0m\n",
      "\u001b[1;32m~\\anaconda3\\lib\\site-packages\\tensorflow\\python\\keras\\engine\\training.py\u001b[0m in \u001b[0;36m_method_wrapper\u001b[1;34m(self, *args, **kwargs)\u001b[0m\n\u001b[0;32m    106\u001b[0m   \u001b[1;32mdef\u001b[0m \u001b[0m_method_wrapper\u001b[0m\u001b[1;33m(\u001b[0m\u001b[0mself\u001b[0m\u001b[1;33m,\u001b[0m \u001b[1;33m*\u001b[0m\u001b[0margs\u001b[0m\u001b[1;33m,\u001b[0m \u001b[1;33m**\u001b[0m\u001b[0mkwargs\u001b[0m\u001b[1;33m)\u001b[0m\u001b[1;33m:\u001b[0m\u001b[1;33m\u001b[0m\u001b[1;33m\u001b[0m\u001b[0m\n\u001b[0;32m    107\u001b[0m     \u001b[1;32mif\u001b[0m \u001b[1;32mnot\u001b[0m \u001b[0mself\u001b[0m\u001b[1;33m.\u001b[0m\u001b[0m_in_multi_worker_mode\u001b[0m\u001b[1;33m(\u001b[0m\u001b[1;33m)\u001b[0m\u001b[1;33m:\u001b[0m  \u001b[1;31m# pylint: disable=protected-access\u001b[0m\u001b[1;33m\u001b[0m\u001b[1;33m\u001b[0m\u001b[0m\n\u001b[1;32m--> 108\u001b[1;33m       \u001b[1;32mreturn\u001b[0m \u001b[0mmethod\u001b[0m\u001b[1;33m(\u001b[0m\u001b[0mself\u001b[0m\u001b[1;33m,\u001b[0m \u001b[1;33m*\u001b[0m\u001b[0margs\u001b[0m\u001b[1;33m,\u001b[0m \u001b[1;33m**\u001b[0m\u001b[0mkwargs\u001b[0m\u001b[1;33m)\u001b[0m\u001b[1;33m\u001b[0m\u001b[1;33m\u001b[0m\u001b[0m\n\u001b[0m\u001b[0;32m    109\u001b[0m \u001b[1;33m\u001b[0m\u001b[0m\n\u001b[0;32m    110\u001b[0m     \u001b[1;31m# Running inside `run_distribute_coordinator` already.\u001b[0m\u001b[1;33m\u001b[0m\u001b[1;33m\u001b[0m\u001b[1;33m\u001b[0m\u001b[0m\n",
      "\u001b[1;32m~\\anaconda3\\lib\\site-packages\\tensorflow\\python\\keras\\engine\\training.py\u001b[0m in \u001b[0;36mfit\u001b[1;34m(self, x, y, batch_size, epochs, verbose, callbacks, validation_split, validation_data, shuffle, class_weight, sample_weight, initial_epoch, steps_per_epoch, validation_steps, validation_batch_size, validation_freq, max_queue_size, workers, use_multiprocessing)\u001b[0m\n\u001b[0;32m   1029\u001b[0m     \u001b[1;31m# Legacy graph support is contained in `training_v1.Model`.\u001b[0m\u001b[1;33m\u001b[0m\u001b[1;33m\u001b[0m\u001b[1;33m\u001b[0m\u001b[0m\n\u001b[0;32m   1030\u001b[0m     \u001b[0mversion_utils\u001b[0m\u001b[1;33m.\u001b[0m\u001b[0mdisallow_legacy_graph\u001b[0m\u001b[1;33m(\u001b[0m\u001b[1;34m'Model'\u001b[0m\u001b[1;33m,\u001b[0m \u001b[1;34m'fit'\u001b[0m\u001b[1;33m)\u001b[0m\u001b[1;33m\u001b[0m\u001b[1;33m\u001b[0m\u001b[0m\n\u001b[1;32m-> 1031\u001b[1;33m     \u001b[0mself\u001b[0m\u001b[1;33m.\u001b[0m\u001b[0m_assert_compile_was_called\u001b[0m\u001b[1;33m(\u001b[0m\u001b[1;33m)\u001b[0m\u001b[1;33m\u001b[0m\u001b[1;33m\u001b[0m\u001b[0m\n\u001b[0m\u001b[0;32m   1032\u001b[0m     \u001b[0mself\u001b[0m\u001b[1;33m.\u001b[0m\u001b[0m_check_call_args\u001b[0m\u001b[1;33m(\u001b[0m\u001b[1;34m'fit'\u001b[0m\u001b[1;33m)\u001b[0m\u001b[1;33m\u001b[0m\u001b[1;33m\u001b[0m\u001b[0m\n\u001b[0;32m   1033\u001b[0m     \u001b[0m_disallow_inside_tf_function\u001b[0m\u001b[1;33m(\u001b[0m\u001b[1;34m'fit'\u001b[0m\u001b[1;33m)\u001b[0m\u001b[1;33m\u001b[0m\u001b[1;33m\u001b[0m\u001b[0m\n",
      "\u001b[1;32m~\\anaconda3\\lib\\site-packages\\tensorflow\\python\\keras\\engine\\training.py\u001b[0m in \u001b[0;36m_assert_compile_was_called\u001b[1;34m(self)\u001b[0m\n\u001b[0;32m   2567\u001b[0m     \u001b[1;31m# (i.e. whether the model is built and its inputs/outputs are set).\u001b[0m\u001b[1;33m\u001b[0m\u001b[1;33m\u001b[0m\u001b[1;33m\u001b[0m\u001b[0m\n\u001b[0;32m   2568\u001b[0m     \u001b[1;32mif\u001b[0m \u001b[1;32mnot\u001b[0m \u001b[0mself\u001b[0m\u001b[1;33m.\u001b[0m\u001b[0m_is_compiled\u001b[0m\u001b[1;33m:\u001b[0m\u001b[1;33m\u001b[0m\u001b[1;33m\u001b[0m\u001b[0m\n\u001b[1;32m-> 2569\u001b[1;33m       raise RuntimeError('You must compile your model before '\n\u001b[0m\u001b[0;32m   2570\u001b[0m                          \u001b[1;34m'training/testing. '\u001b[0m\u001b[1;33m\u001b[0m\u001b[1;33m\u001b[0m\u001b[0m\n\u001b[0;32m   2571\u001b[0m                          'Use `model.compile(optimizer, loss)`.')\n",
      "\u001b[1;31mRuntimeError\u001b[0m: You must compile your model before training/testing. Use `model.compile(optimizer, loss)`."
     ]
    }
   ],
   "source": [
    "if saved_model == 0:\n",
    "    # Train model\n",
    "    # Note that validation data is NOT used to train model at all\n",
    "    history = model.fit(train_data, train_label, validation_data=(test_data, test_label), callbacks=[callTensorboard], epochs=50, batch_size=50)\n",
    "    model.save('C:/Users/KOMPUTER/Documents/Jupyter Notebooks/MAFAULDA_SEP769-main/Models/LSTM.h5')    \n",
    "else:\n",
    "    # Load model from .h5 file\n",
    "    model = load_model('C:/Users/KOMPUTER/Documents/Jupyter Notebooks/MAFAULDA_SEP769-main/Models/LSTM.h5')\n"
   ]
  },
  {
   "cell_type": "code",
   "execution_count": null,
   "id": "ab4fd957",
   "metadata": {
    "colab": {
     "base_uri": "https://localhost:8080/"
    },
    "id": "ab4fd957",
    "outputId": "6b917fb5-b7c1-436a-f96a-5f23bc17adbe"
   },
   "outputs": [],
   "source": [
    "# Evaluate model performance with test set\n",
    "test_accuracy = model.evaluate(test_data, test_label)\n"
   ]
  },
  {
   "cell_type": "code",
   "execution_count": null,
   "id": "32955b20",
   "metadata": {
    "colab": {
     "base_uri": "https://localhost:8080/",
     "height": 295
    },
    "id": "32955b20",
    "outputId": "2c009877-248c-4c33-b5c9-3ec2b37f8ce4"
   },
   "outputs": [],
   "source": [
    "# Plot model accuracy over epoch if trained\n",
    "if saved_model == 0:\n",
    "    plt.plot(history.history['accuracy'])\n",
    "    plt.plot(history.history['val_accuracy'])\n",
    "    plt.title('Model Accuracy')\n",
    "    plt.ylabel('accuracy')\n",
    "    plt.xlabel('epoch')\n",
    "    plt.legend(['train', 'val'], loc='upper right')\n",
    "    plt.show()\n",
    "    "
   ]
  },
  {
   "cell_type": "code",
   "execution_count": null,
   "id": "37e0dcac",
   "metadata": {},
   "outputs": [],
   "source": [
    "if saved_model == 0:\n",
    "    plt.plot(history.history['loss'])\n",
    "    plt.plot(history.history['val_loss'])\n",
    "    plt.title('model loss')\n",
    "    plt.ylabel('loss')\n",
    "    plt.xlabel('epoch')\n",
    "    plt.legend(['train', 'val'], loc='upper left')\n",
    "    plt.show()"
   ]
  },
  {
   "cell_type": "code",
   "execution_count": null,
   "id": "3ccdd8dd",
   "metadata": {
    "colab": {
     "base_uri": "https://localhost:8080/",
     "height": 838
    },
    "id": "3ccdd8dd",
    "outputId": "cd40fe1e-397f-4463-8720-b139dc727f8c"
   },
   "outputs": [],
   "source": [
    "%tensorboard --logdir logs/fit\n"
   ]
  }
 ],
 "metadata": {
  "accelerator": "GPU",
  "colab": {
   "name": "LSTM.ipynb",
   "provenance": []
  },
  "kernelspec": {
   "display_name": "Python 3",
   "language": "python",
   "name": "python3"
  },
  "language_info": {
   "codemirror_mode": {
    "name": "ipython",
    "version": 3
   },
   "file_extension": ".py",
   "mimetype": "text/x-python",
   "name": "python",
   "nbconvert_exporter": "python",
   "pygments_lexer": "ipython3",
   "version": "3.8.8"
  }
 },
 "nbformat": 4,
 "nbformat_minor": 5
}
