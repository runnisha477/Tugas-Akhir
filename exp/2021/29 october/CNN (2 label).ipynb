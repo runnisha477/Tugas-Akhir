{
 "cells": [
  {
   "cell_type": "code",
   "execution_count": 1,
   "id": "feecb04a",
   "metadata": {
    "id": "feecb04a"
   },
   "outputs": [],
   "source": [
    "# SEP769 - July 27, 2021\n",
    "# Amir Kamaleddine, Ernani Fantinatti, Mohammed Ibraheem\n",
    "# CNN model for classifying normal and imbalanced motors as part of the MAFAULDA motor fault dataset\n",
    "# If training, we suggest you use GPU acceleration in Colab\n",
    "# https://github.com/efantinatti/MAFAULDA_SEP769\n"
   ]
  },
  {
   "cell_type": "code",
   "execution_count": 2,
   "id": "a03dec13",
   "metadata": {
    "id": "a03dec13"
   },
   "outputs": [],
   "source": [
    "# Load in tensorboard extension to view results interactively\n",
    "%load_ext tensorboard\n"
   ]
  },
  {
   "cell_type": "code",
   "execution_count": 3,
   "id": "3a9b57e5",
   "metadata": {
    "id": "3a9b57e5"
   },
   "outputs": [],
   "source": [
    "# Load relevant libraries\n",
    "import numpy as np\n",
    "import tensorflow as tf\n",
    "from keras.models import Sequential, load_model\n",
    "from keras.layers import Dense, Dropout, Flatten\n",
    "from keras.layers.convolutional import Conv1D\n",
    "import matplotlib.pyplot as plt\n",
    "import glob\n",
    "import datetime"
   ]
  },
  {
   "cell_type": "code",
   "execution_count": 4,
   "id": "21e12471",
   "metadata": {
    "colab": {
     "base_uri": "https://localhost:8080/"
    },
    "id": "21e12471",
    "outputId": "7c3a8650-b4cb-4e1d-c6fd-393cdc4b6ac9"
   },
   "outputs": [],
   "source": [
    "# For Google Colab only\n",
    "# Pulling processed data from public folder\n",
    "# Credit to this stack overflow forum: https://stackoverflow.com/questions/38511444/python-download-files-from-google-drive-using-url\n",
    "#import gdown\n",
    "\n",
    "#url = 'https://drive.google.com/uc?id=1otE_HKfM24r9Hp1-e5xodSkgve1o3DO5' \n",
    "#output = 'jul27data.zip'\n",
    "#gdown.download(url, output, quiet=False)\n",
    "\n",
    "#!unzip /content/jul27data.zip\n",
    "#!rm -rf sample_data\n"
   ]
  },
  {
   "cell_type": "code",
   "execution_count": 5,
   "id": "3381f7d1",
   "metadata": {
    "id": "3381f7d1"
   },
   "outputs": [],
   "source": [
    "# Decide whether to load model from a .h5 file or train a new one\n",
    "# 0 if training the model again\n",
    "# 1 if loading model\n",
    "saved_model = 0\n"
   ]
  },
  {
   "cell_type": "code",
   "execution_count": 6,
   "id": "552db1b5",
   "metadata": {
    "id": "552db1b5"
   },
   "outputs": [],
   "source": [
    "#Delete tensorboard logs from previous runs\n",
    "#If using Collab or Unix system use !rm, otherwise\n",
    "#if using windows use skip this line\n",
    "#!rm -rf ./logs/\n"
   ]
  },
  {
   "cell_type": "code",
   "execution_count": 7,
   "id": "828eed9b",
   "metadata": {
    "colab": {
     "base_uri": "https://localhost:8080/"
    },
    "id": "828eed9b",
    "outputId": "24ecaa75-f9df-4850-c756-52e20b714309"
   },
   "outputs": [
    {
     "name": "stdout",
     "output_type": "stream",
     "text": [
      "Loaded data files...\n"
     ]
    }
   ],
   "source": [
    "# Loads train/test data from .txt files to np arrays \n",
    "# Ensure you choose the correct file directory\n",
    "\n",
    "dir = 'C:/Users/KOMPUTER/Documents/Jupyter Notebooks/MAFAULDA_SEP769-main/Models/content/jul27data/'\n",
    "\n",
    "train_reload = np.loadtxt(dir + 'train_data.txt')\n",
    "test_reload = np.loadtxt(dir + 'test_data.txt')\n",
    "\n",
    "print(\"Loaded data files...\")\n"
   ]
  },
  {
   "cell_type": "code",
   "execution_count": 8,
   "id": "496490af",
   "metadata": {
    "id": "496490af"
   },
   "outputs": [],
   "source": [
    "# Shaping the training/testing data\n",
    "# Shapes the data into an nx500x8 array\n",
    "# Each sequence is 500 timesteps (10 ms of data collection)\n",
    "\n",
    "train_data = np.reshape(train_reload,(-1,500, 8))\n",
    "test_data = np.reshape(test_reload,(-1,500, 8))\n"
   ]
  },
  {
   "cell_type": "code",
   "execution_count": 9,
   "id": "4499bca2",
   "metadata": {
    "id": "4499bca2",
    "scrolled": true
   },
   "outputs": [],
   "source": [
    "# Loads labels corresponding to training/test data\n",
    "train_label = np.loadtxt(dir + 'train_label.txt').astype(int)\n",
    "test_label = np.loadtxt(dir + 'test_label.txt').astype(int)\n"
   ]
  },
  {
   "cell_type": "code",
   "execution_count": 10,
   "id": "16153052",
   "metadata": {
    "colab": {
     "base_uri": "https://localhost:8080/"
    },
    "id": "16153052",
    "outputId": "72898ecb-40d3-4f6a-9e4c-f2079a6a590a"
   },
   "outputs": [
    {
     "name": "stdout",
     "output_type": "stream",
     "text": [
      "Model: \"sequential\"\n",
      "_________________________________________________________________\n",
      "Layer (type)                 Output Shape              Param #   \n",
      "=================================================================\n",
      "conv1d (Conv1D)              (None, 500, 30)           1230      \n",
      "_________________________________________________________________\n",
      "flatten (Flatten)            (None, 15000)             0         \n",
      "_________________________________________________________________\n",
      "dense (Dense)                (None, 32)                480032    \n",
      "_________________________________________________________________\n",
      "dense_1 (Dense)              (None, 16)                528       \n",
      "_________________________________________________________________\n",
      "dense_2 (Dense)              (None, 1)                 17        \n",
      "=================================================================\n",
      "Total params: 481,807\n",
      "Trainable params: 481,807\n",
      "Non-trainable params: 0\n",
      "_________________________________________________________________\n"
     ]
    }
   ],
   "source": [
    "# Build the model\n",
    "# Sequential model\n",
    "model = Sequential()\n",
    "\n",
    "# Conv1D is used to perform convolution on temporal data\n",
    "model.add(Conv1D(30, (5), input_shape=(500, 8), padding = 'same', strides = 1, activation='relu'))\n",
    "\n",
    "# Flatten before feeding into dense layers\n",
    "model.add(Flatten())\n",
    "\n",
    "# Dense layers and Output Layer\n",
    "model.add(Dense(32, activation='relu'))\n",
    "model.add(Dense(16, activation='relu'))\n",
    "model.add(Dense(1, activation='sigmoid'))\n",
    "\n",
    "# Compile model\n",
    "# Binary crossentropy for a binary classifier\n",
    "model.compile(loss='binary_crossentropy', optimizer='adam', metrics=['accuracy'])\n",
    "model.summary()\n"
   ]
  },
  {
   "cell_type": "code",
   "execution_count": 11,
   "id": "66146451",
   "metadata": {
    "id": "66146451"
   },
   "outputs": [],
   "source": [
    "# Log model training process with Tensorboard\n",
    "ld = \"logs/fit/\" + datetime.datetime.now().strftime(\"%Y%m%d-%H%M%S\")\n",
    "callTensorboard = tf.keras.callbacks.TensorBoard(log_dir=ld, histogram_freq=1)\n"
   ]
  },
  {
   "cell_type": "code",
   "execution_count": 12,
   "id": "fe16fe62",
   "metadata": {
    "colab": {
     "base_uri": "https://localhost:8080/"
    },
    "id": "fe16fe62",
    "outputId": "323b4d11-73e9-4fad-83e6-090fabc339e7",
    "scrolled": true
   },
   "outputs": [
    {
     "name": "stdout",
     "output_type": "stream",
     "text": [
      "Epoch 1/50\n",
      "  1/156 [..............................] - ETA: 0s - loss: 0.7053 - accuracy: 0.4688WARNING:tensorflow:From C:\\Users\\KOMPUTER\\anaconda3\\lib\\site-packages\\tensorflow\\python\\ops\\summary_ops_v2.py:1277: stop (from tensorflow.python.eager.profiler) is deprecated and will be removed after 2020-07-01.\n",
      "Instructions for updating:\n",
      "use `tf.profiler.experimental.stop` instead.\n",
      "  2/156 [..............................] - ETA: 2:13 - loss: 0.6932 - accuracy: 0.5781WARNING:tensorflow:Callbacks method `on_train_batch_end` is slow compared to the batch time (batch time: 0.1282s vs `on_train_batch_end` time: 1.5506s). Check your callbacks.\n",
      "156/156 [==============================] - 5s 30ms/step - loss: 0.2369 - accuracy: 0.9040 - val_loss: 0.1856 - val_accuracy: 0.9582\n",
      "Epoch 2/50\n",
      "156/156 [==============================] - 4s 26ms/step - loss: 0.0956 - accuracy: 0.9679 - val_loss: 0.1719 - val_accuracy: 0.9757\n",
      "Epoch 3/50\n",
      "156/156 [==============================] - 2s 15ms/step - loss: 0.0619 - accuracy: 0.9810 - val_loss: 0.1082 - val_accuracy: 0.9814\n",
      "Epoch 4/50\n",
      "156/156 [==============================] - 2s 14ms/step - loss: 0.0477 - accuracy: 0.9876 - val_loss: 0.1079 - val_accuracy: 0.9751\n",
      "Epoch 5/50\n",
      "156/156 [==============================] - 2s 13ms/step - loss: 0.0350 - accuracy: 0.9918 - val_loss: 0.0883 - val_accuracy: 0.9808\n",
      "Epoch 6/50\n",
      "156/156 [==============================] - 2s 14ms/step - loss: 0.0242 - accuracy: 0.9938 - val_loss: 0.0825 - val_accuracy: 0.9757\n",
      "Epoch 7/50\n",
      "156/156 [==============================] - 2s 13ms/step - loss: 0.0247 - accuracy: 0.9936 - val_loss: 0.1519 - val_accuracy: 0.9446\n",
      "Epoch 8/50\n",
      "156/156 [==============================] - 2s 13ms/step - loss: 0.0379 - accuracy: 0.9862 - val_loss: 0.1088 - val_accuracy: 0.9757\n",
      "Epoch 9/50\n",
      "156/156 [==============================] - 2s 13ms/step - loss: 0.0238 - accuracy: 0.9938 - val_loss: 0.0616 - val_accuracy: 0.9864\n",
      "Epoch 10/50\n",
      "156/156 [==============================] - 2s 13ms/step - loss: 0.0120 - accuracy: 0.9968 - val_loss: 0.0661 - val_accuracy: 0.9819\n",
      "Epoch 11/50\n",
      "156/156 [==============================] - 2s 14ms/step - loss: 0.0075 - accuracy: 0.9980 - val_loss: 0.0984 - val_accuracy: 0.9797\n",
      "Epoch 12/50\n",
      "156/156 [==============================] - 2s 15ms/step - loss: 0.0221 - accuracy: 0.9932 - val_loss: 0.1168 - val_accuracy: 0.9678\n",
      "Epoch 13/50\n",
      "156/156 [==============================] - 2s 14ms/step - loss: 0.0315 - accuracy: 0.9912 - val_loss: 0.1461 - val_accuracy: 0.9774\n",
      "Epoch 14/50\n",
      "156/156 [==============================] - 2s 13ms/step - loss: 0.0140 - accuracy: 0.9968 - val_loss: 0.0727 - val_accuracy: 0.9836\n",
      "Epoch 15/50\n",
      "156/156 [==============================] - 2s 13ms/step - loss: 0.0084 - accuracy: 0.9978 - val_loss: 0.0511 - val_accuracy: 0.9870\n",
      "Epoch 16/50\n",
      "156/156 [==============================] - 2s 13ms/step - loss: 0.0024 - accuracy: 0.9996 - val_loss: 0.0718 - val_accuracy: 0.9847\n",
      "Epoch 17/50\n",
      "156/156 [==============================] - 2s 13ms/step - loss: 0.0038 - accuracy: 0.9988 - val_loss: 0.0609 - val_accuracy: 0.9836\n",
      "Epoch 18/50\n",
      "156/156 [==============================] - 2s 15ms/step - loss: 0.0014 - accuracy: 0.9998 - val_loss: 0.0792 - val_accuracy: 0.9853\n",
      "Epoch 19/50\n",
      "156/156 [==============================] - 3s 16ms/step - loss: 0.0012 - accuracy: 0.9996 - val_loss: 0.0611 - val_accuracy: 0.9853\n",
      "Epoch 20/50\n",
      "156/156 [==============================] - 3s 16ms/step - loss: 4.1353e-04 - accuracy: 1.0000 - val_loss: 0.0668 - val_accuracy: 0.9870\n",
      "Epoch 21/50\n",
      "156/156 [==============================] - 2s 15ms/step - loss: 2.6009e-04 - accuracy: 1.0000 - val_loss: 0.0588 - val_accuracy: 0.9859\n",
      "Epoch 22/50\n",
      "156/156 [==============================] - 2s 15ms/step - loss: 1.7552e-04 - accuracy: 1.0000 - val_loss: 0.0659 - val_accuracy: 0.9864\n",
      "Epoch 23/50\n",
      "156/156 [==============================] - 2s 13ms/step - loss: 1.4710e-04 - accuracy: 1.0000 - val_loss: 0.0677 - val_accuracy: 0.9859\n",
      "Epoch 24/50\n",
      "156/156 [==============================] - 2s 13ms/step - loss: 1.2313e-04 - accuracy: 1.0000 - val_loss: 0.0693 - val_accuracy: 0.9853\n",
      "Epoch 25/50\n",
      "156/156 [==============================] - 2s 14ms/step - loss: 1.0408e-04 - accuracy: 1.0000 - val_loss: 0.0705 - val_accuracy: 0.9859\n",
      "Epoch 26/50\n",
      "156/156 [==============================] - 2s 15ms/step - loss: 9.5745e-05 - accuracy: 1.0000 - val_loss: 0.0673 - val_accuracy: 0.9859\n",
      "Epoch 27/50\n",
      "156/156 [==============================] - 2s 13ms/step - loss: 8.3766e-05 - accuracy: 1.0000 - val_loss: 0.0678 - val_accuracy: 0.9859\n",
      "Epoch 28/50\n",
      "156/156 [==============================] - 2s 13ms/step - loss: 7.3300e-05 - accuracy: 1.0000 - val_loss: 0.0702 - val_accuracy: 0.9859\n",
      "Epoch 29/50\n",
      "156/156 [==============================] - 2s 13ms/step - loss: 6.7217e-05 - accuracy: 1.0000 - val_loss: 0.0695 - val_accuracy: 0.9859\n",
      "Epoch 30/50\n",
      "156/156 [==============================] - 2s 12ms/step - loss: 6.0098e-05 - accuracy: 1.0000 - val_loss: 0.0693 - val_accuracy: 0.9859\n",
      "Epoch 31/50\n",
      "156/156 [==============================] - 2s 12ms/step - loss: 5.3961e-05 - accuracy: 1.0000 - val_loss: 0.0711 - val_accuracy: 0.9859\n",
      "Epoch 32/50\n",
      "156/156 [==============================] - 2s 12ms/step - loss: 4.8340e-05 - accuracy: 1.0000 - val_loss: 0.0694 - val_accuracy: 0.9864\n",
      "Epoch 33/50\n",
      "156/156 [==============================] - 2s 13ms/step - loss: 4.4529e-05 - accuracy: 1.0000 - val_loss: 0.0728 - val_accuracy: 0.9864\n",
      "Epoch 34/50\n",
      "156/156 [==============================] - 2s 12ms/step - loss: 3.9430e-05 - accuracy: 1.0000 - val_loss: 0.0717 - val_accuracy: 0.9859\n",
      "Epoch 35/50\n",
      "156/156 [==============================] - 2s 12ms/step - loss: 3.4672e-05 - accuracy: 1.0000 - val_loss: 0.0749 - val_accuracy: 0.9864\n",
      "Epoch 36/50\n",
      "156/156 [==============================] - 2s 12ms/step - loss: 3.2286e-05 - accuracy: 1.0000 - val_loss: 0.0716 - val_accuracy: 0.9864\n",
      "Epoch 37/50\n",
      "156/156 [==============================] - 2s 12ms/step - loss: 2.8653e-05 - accuracy: 1.0000 - val_loss: 0.0737 - val_accuracy: 0.9864\n",
      "Epoch 38/50\n",
      "156/156 [==============================] - 2s 12ms/step - loss: 2.6753e-05 - accuracy: 1.0000 - val_loss: 0.0700 - val_accuracy: 0.9870\n",
      "Epoch 39/50\n",
      "156/156 [==============================] - 2s 13ms/step - loss: 2.4064e-05 - accuracy: 1.0000 - val_loss: 0.0755 - val_accuracy: 0.9870\n",
      "Epoch 40/50\n",
      "156/156 [==============================] - 2s 12ms/step - loss: 2.2046e-05 - accuracy: 1.0000 - val_loss: 0.0731 - val_accuracy: 0.9870\n",
      "Epoch 41/50\n",
      "156/156 [==============================] - 2s 13ms/step - loss: 1.9804e-05 - accuracy: 1.0000 - val_loss: 0.0763 - val_accuracy: 0.9870\n",
      "Epoch 42/50\n",
      "156/156 [==============================] - 2s 13ms/step - loss: 1.8148e-05 - accuracy: 1.0000 - val_loss: 0.0729 - val_accuracy: 0.9870\n",
      "Epoch 43/50\n",
      "156/156 [==============================] - 2s 12ms/step - loss: 1.6864e-05 - accuracy: 1.0000 - val_loss: 0.0766 - val_accuracy: 0.9864\n",
      "Epoch 44/50\n",
      "156/156 [==============================] - 2s 12ms/step - loss: 1.4864e-05 - accuracy: 1.0000 - val_loss: 0.0760 - val_accuracy: 0.9870\n",
      "Epoch 45/50\n",
      "156/156 [==============================] - 2s 12ms/step - loss: 1.3832e-05 - accuracy: 1.0000 - val_loss: 0.0757 - val_accuracy: 0.9870\n",
      "Epoch 46/50\n",
      "156/156 [==============================] - 2s 12ms/step - loss: 1.2622e-05 - accuracy: 1.0000 - val_loss: 0.0779 - val_accuracy: 0.9876\n",
      "Epoch 47/50\n",
      "156/156 [==============================] - 2s 13ms/step - loss: 1.1477e-05 - accuracy: 1.0000 - val_loss: 0.0785 - val_accuracy: 0.9876\n",
      "Epoch 48/50\n",
      "156/156 [==============================] - 2s 13ms/step - loss: 1.0513e-05 - accuracy: 1.0000 - val_loss: 0.0777 - val_accuracy: 0.9870\n",
      "Epoch 49/50\n",
      "156/156 [==============================] - 2s 13ms/step - loss: 9.6537e-06 - accuracy: 1.0000 - val_loss: 0.0783 - val_accuracy: 0.9876\n",
      "Epoch 50/50\n",
      "156/156 [==============================] - 2s 13ms/step - loss: 8.7653e-06 - accuracy: 1.0000 - val_loss: 0.0792 - val_accuracy: 0.9876\n"
     ]
    }
   ],
   "source": [
    "if saved_model == 0:\n",
    "    # Train model\n",
    "    # Note that validation data is NOT used to train model at all\n",
    "    history = model.fit(train_data, train_label, validation_data=(test_data, test_label), callbacks = [callTensorboard], epochs=50, batch_size=32)\n",
    "    model.save('C:/Users/KOMPUTER/Documents/Jupyter Notebooks/MAFAULDA_SEP769-main/Models/CNN.h5')\n",
    "else:\n",
    "    # Load model from .h5 file\n",
    "    model = load_model('C:/Users/KOMPUTER/Documents/Jupyter Notebooks/MAFAULDA_SEP769-main/Models/CNN.h5')\n"
   ]
  },
  {
   "cell_type": "code",
   "execution_count": 13,
   "id": "7eae0b1d",
   "metadata": {
    "colab": {
     "base_uri": "https://localhost:8080/"
    },
    "id": "7eae0b1d",
    "outputId": "9c9096f1-7391-4509-ea31-3c32f7699e94"
   },
   "outputs": [
    {
     "name": "stdout",
     "output_type": "stream",
     "text": [
      "56/56 [==============================] - 0s 3ms/step - loss: 0.0792 - accuracy: 0.9876\n"
     ]
    }
   ],
   "source": [
    "# Evaluate model performance with test set\n",
    "test_accuracy = model.evaluate(test_data, test_label)\n"
   ]
  },
  {
   "cell_type": "code",
   "execution_count": 14,
   "id": "aec2bfab",
   "metadata": {
    "colab": {
     "base_uri": "https://localhost:8080/",
     "height": 295
    },
    "id": "aec2bfab",
    "outputId": "9b02f9a3-6d35-417a-f48b-cb16fbd0bafa"
   },
   "outputs": [
    {
     "data": {
      "image/png": "[encoded data removed]",
      "text/plain": [
       "<Figure size 432x288 with 1 Axes>"
      ]
     },
     "metadata": {
      "needs_background": "light"
     },
     "output_type": "display_data"
    }
   ],
   "source": [
    "# Plot model accuracy over epoch if trained\n",
    "#If you have chosen 'saved_model == 1', chart won't be presented.\n",
    "if saved_model == 0:\n",
    "    plt.plot(history.history['accuracy'])\n",
    "    plt.plot(history.history['val_accuracy'])\n",
    "    plt.title('Model Accuracy')\n",
    "    plt.ylabel('accuracy')\n",
    "    plt.xlabel('epoch')\n",
    "    plt.legend(['train', 'val'], loc='upper right')\n",
    "    plt.show()\n"
   ]
  },
  {
   "cell_type": "code",
   "execution_count": 15,
   "id": "ba66ad97",
   "metadata": {},
   "outputs": [
    {
     "data": {
      "image/png": "[encoded data removed]",
      "text/plain": [
       "<Figure size 432x288 with 1 Axes>"
      ]
     },
     "metadata": {
      "needs_background": "light"
     },
     "output_type": "display_data"
    }
   ],
   "source": [
    "if saved_model == 0:\n",
    "    plt.plot(history.history['loss'])\n",
    "    plt.plot(history.history['val_loss'])\n",
    "    plt.title('model loss')\n",
    "    plt.ylabel('loss')\n",
    "    plt.xlabel('epoch')\n",
    "    plt.legend(['train', 'val'], loc='upper left')\n",
    "    plt.show()"
   ]
  },
  {
   "cell_type": "code",
   "execution_count": 28,
   "id": "53cb864b",
   "metadata": {},
   "outputs": [],
   "source": [
    "preds = model.predict(test_data) # label scores \n",
    "\n",
    "classpreds = np.argmax(preds, axis=0) # predicted classes \n",
    "\n",
    "y_testclass = np.argmax(test_label, axis=0) # true classes\n",
    "\n",
    "n_classes=2 # number of classes"
   ]
  },
  {
   "cell_type": "code",
   "execution_count": 30,
   "id": "9dad97d0",
   "metadata": {},
   "outputs": [
    {
     "ename": "TypeError",
     "evalue": "Singleton array 910 cannot be considered a valid collection.",
     "output_type": "error",
     "traceback": [
      "\u001b[1;31m---------------------------------------------------------------------------\u001b[0m",
      "\u001b[1;31mTypeError\u001b[0m                                 Traceback (most recent call last)",
      "\u001b[1;32m<ipython-input-30-68cc870bf7d9>\u001b[0m in \u001b[0;36m<module>\u001b[1;34m\u001b[0m\n\u001b[0;32m      1\u001b[0m \u001b[1;32mfrom\u001b[0m \u001b[0msklearn\u001b[0m\u001b[1;33m.\u001b[0m\u001b[0mmetrics\u001b[0m \u001b[1;32mimport\u001b[0m \u001b[0mconfusion_matrix\u001b[0m\u001b[1;33m\u001b[0m\u001b[1;33m\u001b[0m\u001b[0m\n\u001b[1;32m----> 2\u001b[1;33m \u001b[0mconfusion\u001b[0m \u001b[1;33m=\u001b[0m \u001b[0mconfusion_matrix\u001b[0m\u001b[1;33m(\u001b[0m\u001b[0my_testclass\u001b[0m\u001b[1;33m,\u001b[0m \u001b[0mclasspreds\u001b[0m\u001b[1;33m)\u001b[0m\u001b[1;33m\u001b[0m\u001b[1;33m\u001b[0m\u001b[0m\n\u001b[0m\u001b[0;32m      3\u001b[0m \u001b[0mprint\u001b[0m\u001b[1;33m(\u001b[0m\u001b[1;34m'Confusion Matrix\\n'\u001b[0m\u001b[1;33m)\u001b[0m\u001b[1;33m\u001b[0m\u001b[1;33m\u001b[0m\u001b[0m\n\u001b[0;32m      4\u001b[0m \u001b[0mprint\u001b[0m\u001b[1;33m(\u001b[0m\u001b[0mconfusion\u001b[0m\u001b[1;33m)\u001b[0m\u001b[1;33m\u001b[0m\u001b[1;33m\u001b[0m\u001b[0m\n\u001b[0;32m      5\u001b[0m \u001b[1;33m\u001b[0m\u001b[0m\n",
      "\u001b[1;32m~\\anaconda3\\lib\\site-packages\\sklearn\\utils\\validation.py\u001b[0m in \u001b[0;36minner_f\u001b[1;34m(*args, **kwargs)\u001b[0m\n\u001b[0;32m     61\u001b[0m             \u001b[0mextra_args\u001b[0m \u001b[1;33m=\u001b[0m \u001b[0mlen\u001b[0m\u001b[1;33m(\u001b[0m\u001b[0margs\u001b[0m\u001b[1;33m)\u001b[0m \u001b[1;33m-\u001b[0m \u001b[0mlen\u001b[0m\u001b[1;33m(\u001b[0m\u001b[0mall_args\u001b[0m\u001b[1;33m)\u001b[0m\u001b[1;33m\u001b[0m\u001b[1;33m\u001b[0m\u001b[0m\n\u001b[0;32m     62\u001b[0m             \u001b[1;32mif\u001b[0m \u001b[0mextra_args\u001b[0m \u001b[1;33m<=\u001b[0m \u001b[1;36m0\u001b[0m\u001b[1;33m:\u001b[0m\u001b[1;33m\u001b[0m\u001b[1;33m\u001b[0m\u001b[0m\n\u001b[1;32m---> 63\u001b[1;33m                 \u001b[1;32mreturn\u001b[0m \u001b[0mf\u001b[0m\u001b[1;33m(\u001b[0m\u001b[1;33m*\u001b[0m\u001b[0margs\u001b[0m\u001b[1;33m,\u001b[0m \u001b[1;33m**\u001b[0m\u001b[0mkwargs\u001b[0m\u001b[1;33m)\u001b[0m\u001b[1;33m\u001b[0m\u001b[1;33m\u001b[0m\u001b[0m\n\u001b[0m\u001b[0;32m     64\u001b[0m \u001b[1;33m\u001b[0m\u001b[0m\n\u001b[0;32m     65\u001b[0m             \u001b[1;31m# extra_args > 0\u001b[0m\u001b[1;33m\u001b[0m\u001b[1;33m\u001b[0m\u001b[1;33m\u001b[0m\u001b[0m\n",
      "\u001b[1;32m~\\anaconda3\\lib\\site-packages\\sklearn\\metrics\\_classification.py\u001b[0m in \u001b[0;36mconfusion_matrix\u001b[1;34m(y_true, y_pred, labels, sample_weight, normalize)\u001b[0m\n\u001b[0;32m    294\u001b[0m \u001b[1;33m\u001b[0m\u001b[0m\n\u001b[0;32m    295\u001b[0m     \"\"\"\n\u001b[1;32m--> 296\u001b[1;33m     \u001b[0my_type\u001b[0m\u001b[1;33m,\u001b[0m \u001b[0my_true\u001b[0m\u001b[1;33m,\u001b[0m \u001b[0my_pred\u001b[0m \u001b[1;33m=\u001b[0m \u001b[0m_check_targets\u001b[0m\u001b[1;33m(\u001b[0m\u001b[0my_true\u001b[0m\u001b[1;33m,\u001b[0m \u001b[0my_pred\u001b[0m\u001b[1;33m)\u001b[0m\u001b[1;33m\u001b[0m\u001b[1;33m\u001b[0m\u001b[0m\n\u001b[0m\u001b[0;32m    297\u001b[0m     \u001b[1;32mif\u001b[0m \u001b[0my_type\u001b[0m \u001b[1;32mnot\u001b[0m \u001b[1;32min\u001b[0m \u001b[1;33m(\u001b[0m\u001b[1;34m\"binary\"\u001b[0m\u001b[1;33m,\u001b[0m \u001b[1;34m\"multiclass\"\u001b[0m\u001b[1;33m)\u001b[0m\u001b[1;33m:\u001b[0m\u001b[1;33m\u001b[0m\u001b[1;33m\u001b[0m\u001b[0m\n\u001b[0;32m    298\u001b[0m         \u001b[1;32mraise\u001b[0m \u001b[0mValueError\u001b[0m\u001b[1;33m(\u001b[0m\u001b[1;34m\"%s is not supported\"\u001b[0m \u001b[1;33m%\u001b[0m \u001b[0my_type\u001b[0m\u001b[1;33m)\u001b[0m\u001b[1;33m\u001b[0m\u001b[1;33m\u001b[0m\u001b[0m\n",
      "\u001b[1;32m~\\anaconda3\\lib\\site-packages\\sklearn\\metrics\\_classification.py\u001b[0m in \u001b[0;36m_check_targets\u001b[1;34m(y_true, y_pred)\u001b[0m\n\u001b[0;32m     81\u001b[0m     \u001b[0my_pred\u001b[0m \u001b[1;33m:\u001b[0m \u001b[0marray\u001b[0m \u001b[1;32mor\u001b[0m \u001b[0mindicator\u001b[0m \u001b[0mmatrix\u001b[0m\u001b[1;33m\u001b[0m\u001b[1;33m\u001b[0m\u001b[0m\n\u001b[0;32m     82\u001b[0m     \"\"\"\n\u001b[1;32m---> 83\u001b[1;33m     \u001b[0mcheck_consistent_length\u001b[0m\u001b[1;33m(\u001b[0m\u001b[0my_true\u001b[0m\u001b[1;33m,\u001b[0m \u001b[0my_pred\u001b[0m\u001b[1;33m)\u001b[0m\u001b[1;33m\u001b[0m\u001b[1;33m\u001b[0m\u001b[0m\n\u001b[0m\u001b[0;32m     84\u001b[0m     \u001b[0mtype_true\u001b[0m \u001b[1;33m=\u001b[0m \u001b[0mtype_of_target\u001b[0m\u001b[1;33m(\u001b[0m\u001b[0my_true\u001b[0m\u001b[1;33m)\u001b[0m\u001b[1;33m\u001b[0m\u001b[1;33m\u001b[0m\u001b[0m\n\u001b[0;32m     85\u001b[0m     \u001b[0mtype_pred\u001b[0m \u001b[1;33m=\u001b[0m \u001b[0mtype_of_target\u001b[0m\u001b[1;33m(\u001b[0m\u001b[0my_pred\u001b[0m\u001b[1;33m)\u001b[0m\u001b[1;33m\u001b[0m\u001b[1;33m\u001b[0m\u001b[0m\n",
      "\u001b[1;32m~\\anaconda3\\lib\\site-packages\\sklearn\\utils\\validation.py\u001b[0m in \u001b[0;36mcheck_consistent_length\u001b[1;34m(*arrays)\u001b[0m\n\u001b[0;32m    257\u001b[0m     \"\"\"\n\u001b[0;32m    258\u001b[0m \u001b[1;33m\u001b[0m\u001b[0m\n\u001b[1;32m--> 259\u001b[1;33m     \u001b[0mlengths\u001b[0m \u001b[1;33m=\u001b[0m \u001b[1;33m[\u001b[0m\u001b[0m_num_samples\u001b[0m\u001b[1;33m(\u001b[0m\u001b[0mX\u001b[0m\u001b[1;33m)\u001b[0m \u001b[1;32mfor\u001b[0m \u001b[0mX\u001b[0m \u001b[1;32min\u001b[0m \u001b[0marrays\u001b[0m \u001b[1;32mif\u001b[0m \u001b[0mX\u001b[0m \u001b[1;32mis\u001b[0m \u001b[1;32mnot\u001b[0m \u001b[1;32mNone\u001b[0m\u001b[1;33m]\u001b[0m\u001b[1;33m\u001b[0m\u001b[1;33m\u001b[0m\u001b[0m\n\u001b[0m\u001b[0;32m    260\u001b[0m     \u001b[0muniques\u001b[0m \u001b[1;33m=\u001b[0m \u001b[0mnp\u001b[0m\u001b[1;33m.\u001b[0m\u001b[0munique\u001b[0m\u001b[1;33m(\u001b[0m\u001b[0mlengths\u001b[0m\u001b[1;33m)\u001b[0m\u001b[1;33m\u001b[0m\u001b[1;33m\u001b[0m\u001b[0m\n\u001b[0;32m    261\u001b[0m     \u001b[1;32mif\u001b[0m \u001b[0mlen\u001b[0m\u001b[1;33m(\u001b[0m\u001b[0muniques\u001b[0m\u001b[1;33m)\u001b[0m \u001b[1;33m>\u001b[0m \u001b[1;36m1\u001b[0m\u001b[1;33m:\u001b[0m\u001b[1;33m\u001b[0m\u001b[1;33m\u001b[0m\u001b[0m\n",
      "\u001b[1;32m~\\anaconda3\\lib\\site-packages\\sklearn\\utils\\validation.py\u001b[0m in \u001b[0;36m<listcomp>\u001b[1;34m(.0)\u001b[0m\n\u001b[0;32m    257\u001b[0m     \"\"\"\n\u001b[0;32m    258\u001b[0m \u001b[1;33m\u001b[0m\u001b[0m\n\u001b[1;32m--> 259\u001b[1;33m     \u001b[0mlengths\u001b[0m \u001b[1;33m=\u001b[0m \u001b[1;33m[\u001b[0m\u001b[0m_num_samples\u001b[0m\u001b[1;33m(\u001b[0m\u001b[0mX\u001b[0m\u001b[1;33m)\u001b[0m \u001b[1;32mfor\u001b[0m \u001b[0mX\u001b[0m \u001b[1;32min\u001b[0m \u001b[0marrays\u001b[0m \u001b[1;32mif\u001b[0m \u001b[0mX\u001b[0m \u001b[1;32mis\u001b[0m \u001b[1;32mnot\u001b[0m \u001b[1;32mNone\u001b[0m\u001b[1;33m]\u001b[0m\u001b[1;33m\u001b[0m\u001b[1;33m\u001b[0m\u001b[0m\n\u001b[0m\u001b[0;32m    260\u001b[0m     \u001b[0muniques\u001b[0m \u001b[1;33m=\u001b[0m \u001b[0mnp\u001b[0m\u001b[1;33m.\u001b[0m\u001b[0munique\u001b[0m\u001b[1;33m(\u001b[0m\u001b[0mlengths\u001b[0m\u001b[1;33m)\u001b[0m\u001b[1;33m\u001b[0m\u001b[1;33m\u001b[0m\u001b[0m\n\u001b[0;32m    261\u001b[0m     \u001b[1;32mif\u001b[0m \u001b[0mlen\u001b[0m\u001b[1;33m(\u001b[0m\u001b[0muniques\u001b[0m\u001b[1;33m)\u001b[0m \u001b[1;33m>\u001b[0m \u001b[1;36m1\u001b[0m\u001b[1;33m:\u001b[0m\u001b[1;33m\u001b[0m\u001b[1;33m\u001b[0m\u001b[0m\n",
      "\u001b[1;32m~\\anaconda3\\lib\\site-packages\\sklearn\\utils\\validation.py\u001b[0m in \u001b[0;36m_num_samples\u001b[1;34m(x)\u001b[0m\n\u001b[0;32m    200\u001b[0m     \u001b[1;32mif\u001b[0m \u001b[0mhasattr\u001b[0m\u001b[1;33m(\u001b[0m\u001b[0mx\u001b[0m\u001b[1;33m,\u001b[0m \u001b[1;34m'shape'\u001b[0m\u001b[1;33m)\u001b[0m \u001b[1;32mand\u001b[0m \u001b[0mx\u001b[0m\u001b[1;33m.\u001b[0m\u001b[0mshape\u001b[0m \u001b[1;32mis\u001b[0m \u001b[1;32mnot\u001b[0m \u001b[1;32mNone\u001b[0m\u001b[1;33m:\u001b[0m\u001b[1;33m\u001b[0m\u001b[1;33m\u001b[0m\u001b[0m\n\u001b[0;32m    201\u001b[0m         \u001b[1;32mif\u001b[0m \u001b[0mlen\u001b[0m\u001b[1;33m(\u001b[0m\u001b[0mx\u001b[0m\u001b[1;33m.\u001b[0m\u001b[0mshape\u001b[0m\u001b[1;33m)\u001b[0m \u001b[1;33m==\u001b[0m \u001b[1;36m0\u001b[0m\u001b[1;33m:\u001b[0m\u001b[1;33m\u001b[0m\u001b[1;33m\u001b[0m\u001b[0m\n\u001b[1;32m--> 202\u001b[1;33m             raise TypeError(\"Singleton array %r cannot be considered\"\n\u001b[0m\u001b[0;32m    203\u001b[0m                             \" a valid collection.\" % x)\n\u001b[0;32m    204\u001b[0m         \u001b[1;31m# Check that shape is returning an integer or default to len\u001b[0m\u001b[1;33m\u001b[0m\u001b[1;33m\u001b[0m\u001b[1;33m\u001b[0m\u001b[0m\n",
      "\u001b[1;31mTypeError\u001b[0m: Singleton array 910 cannot be considered a valid collection."
     ]
    }
   ],
   "source": [
    "from sklearn.metrics import confusion_matrix\n",
    "confusion = confusion_matrix(y_testclass, classpreds)\n",
    "print('Confusion Matrix\\n')\n",
    "print(confusion)\n",
    "\n",
    "#importing accuracy_score, precision_score, recall_score, f1_score\n",
    "from sklearn.metrics import accuracy_score, precision_score, recall_score, f1_score\n",
    "print('\\nAccuracy: {:.2f}\\n'.format(accuracy_score(y_testclass, classpreds)))\n",
    "\n",
    "print('Micro Precision: {:.2f}'.format(precision_score(y_testclass, classpreds, average='micro')))\n",
    "print('Micro Recall: {:.2f}'.format(recall_score(y_testclass, classpreds, average='micro')))\n",
    "print('Micro F1-score: {:.2f}\\n'.format(f1_score(y_testclass, classpreds, average='micro')))\n",
    "\n",
    "print('Macro Precision: {:.2f}'.format(precision_score(y_testclass, classpreds, average='macro')))\n",
    "print('Macro Recall: {:.2f}'.format(recall_score(y_testclass, classpreds, average='macro')))\n",
    "print('Macro F1-score: {:.2f}\\n'.format(f1_score(y_testclass, classpreds, average='macro')))\n",
    "\n",
    "print('Weighted Precision: {:.2f}'.format(precision_score(y_testclass, classpreds, average='weighted')))\n",
    "print('Weighted Recall: {:.2f}'.format(recall_score(y_testclass, classpreds, average='weighted')))\n",
    "print('Weighted F1-score: {:.2f}'.format(f1_score(y_testclass, classpreds, average='weighted')))\n",
    "\n",
    "from sklearn.metrics import classification_report\n",
    "print('\\nClassification Report\\n')\n",
    "print(classification_report(y_testclass, classpreds, target_names=['normal', 'unbalance']))"
   ]
  },
  {
   "cell_type": "code",
   "execution_count": null,
   "id": "3ccdd8dd",
   "metadata": {
    "id": "3ccdd8dd"
   },
   "outputs": [],
   "source": [
    "#If you have chosen 'saved_model == 1', Tensorboard won't work.\n",
    "%tensorboard --logdir logs/fit\n"
   ]
  },
  {
   "cell_type": "code",
   "execution_count": null,
   "id": "2214e212",
   "metadata": {},
   "outputs": [],
   "source": []
  }
 ],
 "metadata": {
  "accelerator": "GPU",
  "colab": {
   "name": "CNN.ipynb",
   "provenance": []
  },
  "kernelspec": {
   "display_name": "Python 3",
   "language": "python",
   "name": "python3"
  },
  "language_info": {
   "codemirror_mode": {
    "name": "ipython",
    "version": 3
   },
   "file_extension": ".py",
   "mimetype": "text/x-python",
   "name": "python",
   "nbconvert_exporter": "python",
   "pygments_lexer": "ipython3",
   "version": "3.8.8"
  }
 },
 "nbformat": 4,
 "nbformat_minor": 5
}
