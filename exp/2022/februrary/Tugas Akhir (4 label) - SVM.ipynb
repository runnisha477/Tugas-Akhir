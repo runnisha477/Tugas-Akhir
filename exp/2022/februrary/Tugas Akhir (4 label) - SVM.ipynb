{
 "cells": [
  {
   "cell_type": "code",
   "execution_count": 1,
   "id": "70f9d9bf",
   "metadata": {},
   "outputs": [
    {
     "data": {
      "text/plain": [
       "'C:\\\\Users\\\\KOMPUTER\\\\Documents\\\\Jupyter Notebooks'"
      ]
     },
     "execution_count": 1,
     "metadata": {},
     "output_type": "execute_result"
    }
   ],
   "source": [
    "# mencari directory saat ini\n",
    "import os\n",
    "os.getcwd()"
   ]
  },
  {
   "cell_type": "code",
   "execution_count": 2,
   "id": "d6b76d74",
   "metadata": {},
   "outputs": [],
   "source": [
    "# Merubah directory\n",
    "os.chdir('D:\\\\ITS\\\\Tugas Akhir\\\\Source Code')\n",
    "# Merubah directory (beneran)\n",
    "os.chdir('D:/ITS/Tugas Akhir/Source Code')"
   ]
  },
  {
   "cell_type": "code",
   "execution_count": 3,
   "id": "2937d8a2",
   "metadata": {},
   "outputs": [],
   "source": [
    "import numpy as np\n",
    "import pandas as pd\n",
    "import glob "
   ]
  },
  {
   "cell_type": "code",
   "execution_count": 4,
   "id": "9ec9ac99",
   "metadata": {},
   "outputs": [],
   "source": [
    "cur_path = \"D:/ITS/Tugas Akhir/data/Endaq CSV/\""
   ]
  },
  {
   "cell_type": "code",
   "execution_count": 5,
   "id": "a10566ef",
   "metadata": {},
   "outputs": [],
   "source": [
    "normal_file_names = glob.glob(cur_path+'/normal/*.csv')\n",
    "imnormal_misalignment = glob.glob(cur_path+'/misalignment/*.csv')\n",
    "imnormal_unbalance = glob.glob(cur_path+'/unbalance/*.csv')\n",
    "imnormal_bearing = glob.glob(cur_path+'/bearing/*.csv')"
   ]
  },
  {
   "cell_type": "code",
   "execution_count": 6,
   "id": "3ccb27bd",
   "metadata": {},
   "outputs": [],
   "source": [
    "def dataReader(path_names):\n",
    "    data_n = pd.DataFrame()\n",
    "    for i in path_names:\n",
    "        low_data = pd.read_csv(i,header=None)\n",
    "        data_n = pd.concat([data_n,low_data],ignore_index=True)\n",
    "    return data_n"
   ]
  },
  {
   "cell_type": "code",
   "execution_count": 7,
   "id": "9c7f250f",
   "metadata": {},
   "outputs": [],
   "source": [
    "data_normal = dataReader(normal_file_names)\n",
    "data_misalignment = dataReader(imnormal_misalignment)\n",
    "data_unbalance = dataReader(imnormal_unbalance)\n",
    "data_bearing = dataReader(imnormal_bearing)"
   ]
  },
  {
   "cell_type": "code",
   "execution_count": 8,
   "id": "62b70f12",
   "metadata": {},
   "outputs": [],
   "source": [
    "# DOWN SAMPLING\n",
    "\n",
    "def downSampler(data,a,b):\n",
    "    \"\"\"\n",
    "    data = data\n",
    "    a = start index\n",
    "    b = sampling rate\n",
    "    \"\"\"\n",
    "    data_decreased = pd.DataFrame()\n",
    "    x = b\n",
    "    for i in range(int(len(data)/x)):\n",
    "        data_decreased = data_decreased.append(data.iloc[a:b,:].sum()/x,ignore_index=True)\n",
    "        a += x\n",
    "        b += x\n",
    "    return data_decreased"
   ]
  },
  {
   "cell_type": "code",
   "execution_count": 9,
   "id": "ae0de541",
   "metadata": {},
   "outputs": [],
   "source": [
    "data_normal = downSampler(data_normal, 0, 5000)\n",
    "data_misalignment = downSampler(data_misalignment, 0, 5000)\n",
    "data_unbalance = downSampler(data_unbalance, 0, 5000)\n",
    "data_bearing = downSampler(data_bearing, 0, 5000)"
   ]
  },
  {
   "cell_type": "code",
   "execution_count": 10,
   "id": "642a1a20",
   "metadata": {},
   "outputs": [
    {
     "data": {
      "text/html": [
       "<div>\n",
       "<style scoped>\n",
       "    .dataframe tbody tr th:only-of-type {\n",
       "        vertical-align: middle;\n",
       "    }\n",
       "\n",
       "    .dataframe tbody tr th {\n",
       "        vertical-align: top;\n",
       "    }\n",
       "\n",
       "    .dataframe thead th {\n",
       "        text-align: right;\n",
       "    }\n",
       "</style>\n",
       "<table border=\"1\" class=\"dataframe\">\n",
       "  <thead>\n",
       "    <tr style=\"text-align: right;\">\n",
       "      <th></th>\n",
       "      <th>0</th>\n",
       "      <th>1</th>\n",
       "      <th>2</th>\n",
       "      <th>3</th>\n",
       "    </tr>\n",
       "  </thead>\n",
       "  <tbody>\n",
       "    <tr>\n",
       "      <th>0</th>\n",
       "      <td>0.130474</td>\n",
       "      <td>0.012886</td>\n",
       "      <td>0.009876</td>\n",
       "      <td>-0.010109</td>\n",
       "    </tr>\n",
       "    <tr>\n",
       "      <th>1</th>\n",
       "      <td>0.380527</td>\n",
       "      <td>0.026833</td>\n",
       "      <td>0.028392</td>\n",
       "      <td>-0.016349</td>\n",
       "    </tr>\n",
       "    <tr>\n",
       "      <th>2</th>\n",
       "      <td>0.630527</td>\n",
       "      <td>-0.007332</td>\n",
       "      <td>-0.015320</td>\n",
       "      <td>-0.013292</td>\n",
       "    </tr>\n",
       "    <tr>\n",
       "      <th>3</th>\n",
       "      <td>0.880534</td>\n",
       "      <td>0.015834</td>\n",
       "      <td>0.023270</td>\n",
       "      <td>-0.004290</td>\n",
       "    </tr>\n",
       "    <tr>\n",
       "      <th>4</th>\n",
       "      <td>1.130533</td>\n",
       "      <td>-0.000268</td>\n",
       "      <td>0.000020</td>\n",
       "      <td>-0.005971</td>\n",
       "    </tr>\n",
       "    <tr>\n",
       "      <th>...</th>\n",
       "      <td>...</td>\n",
       "      <td>...</td>\n",
       "      <td>...</td>\n",
       "      <td>...</td>\n",
       "    </tr>\n",
       "    <tr>\n",
       "      <th>993</th>\n",
       "      <td>3.663596</td>\n",
       "      <td>0.005334</td>\n",
       "      <td>0.009432</td>\n",
       "      <td>-0.003525</td>\n",
       "    </tr>\n",
       "    <tr>\n",
       "      <th>994</th>\n",
       "      <td>3.913604</td>\n",
       "      <td>-0.006480</td>\n",
       "      <td>-0.014145</td>\n",
       "      <td>0.000059</td>\n",
       "    </tr>\n",
       "    <tr>\n",
       "      <th>995</th>\n",
       "      <td>4.163604</td>\n",
       "      <td>0.025339</td>\n",
       "      <td>0.029569</td>\n",
       "      <td>0.000994</td>\n",
       "    </tr>\n",
       "    <tr>\n",
       "      <th>996</th>\n",
       "      <td>4.413611</td>\n",
       "      <td>-0.007813</td>\n",
       "      <td>-0.020164</td>\n",
       "      <td>-0.000312</td>\n",
       "    </tr>\n",
       "    <tr>\n",
       "      <th>997</th>\n",
       "      <td>4.663608</td>\n",
       "      <td>0.012233</td>\n",
       "      <td>0.013349</td>\n",
       "      <td>0.013716</td>\n",
       "    </tr>\n",
       "  </tbody>\n",
       "</table>\n",
       "<p>998 rows × 4 columns</p>\n",
       "</div>"
      ],
      "text/plain": [
       "            0         1         2         3\n",
       "0    0.130474  0.012886  0.009876 -0.010109\n",
       "1    0.380527  0.026833  0.028392 -0.016349\n",
       "2    0.630527 -0.007332 -0.015320 -0.013292\n",
       "3    0.880534  0.015834  0.023270 -0.004290\n",
       "4    1.130533 -0.000268  0.000020 -0.005971\n",
       "..        ...       ...       ...       ...\n",
       "993  3.663596  0.005334  0.009432 -0.003525\n",
       "994  3.913604 -0.006480 -0.014145  0.000059\n",
       "995  4.163604  0.025339  0.029569  0.000994\n",
       "996  4.413611 -0.007813 -0.020164 -0.000312\n",
       "997  4.663608  0.012233  0.013349  0.013716\n",
       "\n",
       "[998 rows x 4 columns]"
      ]
     },
     "execution_count": 10,
     "metadata": {},
     "output_type": "execute_result"
    }
   ],
   "source": [
    "data_misalignment"
   ]
  },
  {
   "cell_type": "code",
   "execution_count": 11,
   "id": "badbc2bb",
   "metadata": {},
   "outputs": [
    {
     "data": {
      "text/plain": [
       "998"
      ]
     },
     "execution_count": 11,
     "metadata": {},
     "output_type": "execute_result"
    }
   ],
   "source": [
    "len(data_misalignment)"
   ]
  },
  {
   "cell_type": "code",
   "execution_count": 12,
   "id": "3e037667",
   "metadata": {},
   "outputs": [],
   "source": [
    "# Menghapus kolom 0 (time)\n",
    "data_normal.drop(data_normal.columns[[0]], axis=1, inplace=True)\n",
    "data_misalignment.drop(data_misalignment.columns[[0]], axis=1, inplace=True)\n",
    "data_unbalance.drop(data_unbalance.columns[[0]], axis=1, inplace=True)\n",
    "data_bearing.drop(data_bearing.columns[[0]], axis=1, inplace=True)"
   ]
  },
  {
   "cell_type": "code",
   "execution_count": 13,
   "id": "eaa3ae41",
   "metadata": {},
   "outputs": [
    {
     "data": {
      "text/html": [
       "<div>\n",
       "<style scoped>\n",
       "    .dataframe tbody tr th:only-of-type {\n",
       "        vertical-align: middle;\n",
       "    }\n",
       "\n",
       "    .dataframe tbody tr th {\n",
       "        vertical-align: top;\n",
       "    }\n",
       "\n",
       "    .dataframe thead th {\n",
       "        text-align: right;\n",
       "    }\n",
       "</style>\n",
       "<table border=\"1\" class=\"dataframe\">\n",
       "  <thead>\n",
       "    <tr style=\"text-align: right;\">\n",
       "      <th></th>\n",
       "      <th>1</th>\n",
       "      <th>2</th>\n",
       "      <th>3</th>\n",
       "    </tr>\n",
       "  </thead>\n",
       "  <tbody>\n",
       "    <tr>\n",
       "      <th>0</th>\n",
       "      <td>0.013848</td>\n",
       "      <td>0.018814</td>\n",
       "      <td>-0.015172</td>\n",
       "    </tr>\n",
       "    <tr>\n",
       "      <th>1</th>\n",
       "      <td>0.008430</td>\n",
       "      <td>0.011405</td>\n",
       "      <td>-0.009147</td>\n",
       "    </tr>\n",
       "    <tr>\n",
       "      <th>2</th>\n",
       "      <td>0.012435</td>\n",
       "      <td>0.012002</td>\n",
       "      <td>-0.014494</td>\n",
       "    </tr>\n",
       "    <tr>\n",
       "      <th>3</th>\n",
       "      <td>0.003324</td>\n",
       "      <td>0.009756</td>\n",
       "      <td>-0.003176</td>\n",
       "    </tr>\n",
       "    <tr>\n",
       "      <th>4</th>\n",
       "      <td>0.006343</td>\n",
       "      <td>0.006950</td>\n",
       "      <td>-0.007484</td>\n",
       "    </tr>\n",
       "    <tr>\n",
       "      <th>...</th>\n",
       "      <td>...</td>\n",
       "      <td>...</td>\n",
       "      <td>...</td>\n",
       "    </tr>\n",
       "    <tr>\n",
       "      <th>2009</th>\n",
       "      <td>0.004319</td>\n",
       "      <td>0.003327</td>\n",
       "      <td>0.003765</td>\n",
       "    </tr>\n",
       "    <tr>\n",
       "      <th>2010</th>\n",
       "      <td>0.009341</td>\n",
       "      <td>0.005612</td>\n",
       "      <td>-0.005087</td>\n",
       "    </tr>\n",
       "    <tr>\n",
       "      <th>2011</th>\n",
       "      <td>0.002934</td>\n",
       "      <td>0.003050</td>\n",
       "      <td>-0.002779</td>\n",
       "    </tr>\n",
       "    <tr>\n",
       "      <th>2012</th>\n",
       "      <td>0.002245</td>\n",
       "      <td>0.005527</td>\n",
       "      <td>-0.003519</td>\n",
       "    </tr>\n",
       "    <tr>\n",
       "      <th>2013</th>\n",
       "      <td>0.007130</td>\n",
       "      <td>0.002805</td>\n",
       "      <td>0.000086</td>\n",
       "    </tr>\n",
       "  </tbody>\n",
       "</table>\n",
       "<p>2014 rows × 3 columns</p>\n",
       "</div>"
      ],
      "text/plain": [
       "             1         2         3\n",
       "0     0.013848  0.018814 -0.015172\n",
       "1     0.008430  0.011405 -0.009147\n",
       "2     0.012435  0.012002 -0.014494\n",
       "3     0.003324  0.009756 -0.003176\n",
       "4     0.006343  0.006950 -0.007484\n",
       "...        ...       ...       ...\n",
       "2009  0.004319  0.003327  0.003765\n",
       "2010  0.009341  0.005612 -0.005087\n",
       "2011  0.002934  0.003050 -0.002779\n",
       "2012  0.002245  0.005527 -0.003519\n",
       "2013  0.007130  0.002805  0.000086\n",
       "\n",
       "[2014 rows x 3 columns]"
      ]
     },
     "execution_count": 13,
     "metadata": {},
     "output_type": "execute_result"
    }
   ],
   "source": [
    "data_normal"
   ]
  },
  {
   "cell_type": "code",
   "execution_count": 14,
   "id": "fd8ecd4e",
   "metadata": {},
   "outputs": [],
   "source": [
    "# FFT\n",
    "\n",
    "from scipy import signal\n",
    "def FFT(data):\n",
    "    autocorr = signal.fftconvolve(data,data[::-1],mode='full')\n",
    "    return pd.DataFrame(autocorr)"
   ]
  },
  {
   "cell_type": "code",
   "execution_count": 15,
   "id": "027cb766",
   "metadata": {},
   "outputs": [],
   "source": [
    "data_normal = FFT(data_normal)\n",
    "data_misalignment = FFT(data_misalignment)\n",
    "data_unbalance = FFT(data_unbalance)\n",
    "data_bearing = FFT(data_bearing)"
   ]
  },
  {
   "cell_type": "code",
   "execution_count": 16,
   "id": "f3ac8a54",
   "metadata": {},
   "outputs": [
    {
     "data": {
      "text/html": [
       "<div>\n",
       "<style scoped>\n",
       "    .dataframe tbody tr th:only-of-type {\n",
       "        vertical-align: middle;\n",
       "    }\n",
       "\n",
       "    .dataframe tbody tr th {\n",
       "        vertical-align: top;\n",
       "    }\n",
       "\n",
       "    .dataframe thead th {\n",
       "        text-align: right;\n",
       "    }\n",
       "</style>\n",
       "<table border=\"1\" class=\"dataframe\">\n",
       "  <thead>\n",
       "    <tr style=\"text-align: right;\">\n",
       "      <th></th>\n",
       "      <th>0</th>\n",
       "    </tr>\n",
       "  </thead>\n",
       "  <tbody>\n",
       "    <tr>\n",
       "      <th>0</th>\n",
       "      <td>0</td>\n",
       "    </tr>\n",
       "    <tr>\n",
       "      <th>1</th>\n",
       "      <td>0</td>\n",
       "    </tr>\n",
       "    <tr>\n",
       "      <th>2</th>\n",
       "      <td>0</td>\n",
       "    </tr>\n",
       "    <tr>\n",
       "      <th>3</th>\n",
       "      <td>0</td>\n",
       "    </tr>\n",
       "    <tr>\n",
       "      <th>4</th>\n",
       "      <td>0</td>\n",
       "    </tr>\n",
       "    <tr>\n",
       "      <th>...</th>\n",
       "      <td>...</td>\n",
       "    </tr>\n",
       "    <tr>\n",
       "      <th>2030</th>\n",
       "      <td>3</td>\n",
       "    </tr>\n",
       "    <tr>\n",
       "      <th>2031</th>\n",
       "      <td>3</td>\n",
       "    </tr>\n",
       "    <tr>\n",
       "      <th>2032</th>\n",
       "      <td>3</td>\n",
       "    </tr>\n",
       "    <tr>\n",
       "      <th>2033</th>\n",
       "      <td>3</td>\n",
       "    </tr>\n",
       "    <tr>\n",
       "      <th>2034</th>\n",
       "      <td>3</td>\n",
       "    </tr>\n",
       "  </tbody>\n",
       "</table>\n",
       "<p>12158 rows × 1 columns</p>\n",
       "</div>"
      ],
      "text/plain": [
       "      0\n",
       "0     0\n",
       "1     0\n",
       "2     0\n",
       "3     0\n",
       "4     0\n",
       "...  ..\n",
       "2030  3\n",
       "2031  3\n",
       "2032  3\n",
       "2033  3\n",
       "2034  3\n",
       "\n",
       "[12158 rows x 1 columns]"
      ]
     },
     "execution_count": 16,
     "metadata": {},
     "output_type": "execute_result"
    }
   ],
   "source": [
    "y_1 = pd.DataFrame(np.full((int(len(data_normal)),1),0))\n",
    "y_2 = pd.DataFrame(np.full((int(len(data_misalignment)),1),1))\n",
    "y_3 = pd.DataFrame(np.full((int(len(data_unbalance)),1),2))\n",
    "y_4 = pd.DataFrame(np.full((int(len(data_bearing)),1),3))\n",
    "y = pd.concat([y_1,y_2,y_3,y_4], ignore_index=False)\n",
    "y"
   ]
  },
  {
   "cell_type": "code",
   "execution_count": 17,
   "id": "fc7dcf7d",
   "metadata": {},
   "outputs": [
    {
     "data": {
      "text/html": [
       "<div>\n",
       "<style scoped>\n",
       "    .dataframe tbody tr th:only-of-type {\n",
       "        vertical-align: middle;\n",
       "    }\n",
       "\n",
       "    .dataframe tbody tr th {\n",
       "        vertical-align: top;\n",
       "    }\n",
       "\n",
       "    .dataframe thead th {\n",
       "        text-align: right;\n",
       "    }\n",
       "</style>\n",
       "<table border=\"1\" class=\"dataframe\">\n",
       "  <thead>\n",
       "    <tr style=\"text-align: right;\">\n",
       "      <th></th>\n",
       "      <th>0</th>\n",
       "      <th>1</th>\n",
       "      <th>2</th>\n",
       "      <th>3</th>\n",
       "      <th>4</th>\n",
       "    </tr>\n",
       "  </thead>\n",
       "  <tbody>\n",
       "    <tr>\n",
       "      <th>0</th>\n",
       "      <td>0.000099</td>\n",
       "      <td>0.000173</td>\n",
       "      <td>-0.000054</td>\n",
       "      <td>-0.000041</td>\n",
       "      <td>-0.000001</td>\n",
       "    </tr>\n",
       "    <tr>\n",
       "      <th>1</th>\n",
       "      <td>0.000091</td>\n",
       "      <td>0.000224</td>\n",
       "      <td>-0.000011</td>\n",
       "      <td>-0.000175</td>\n",
       "      <td>0.000053</td>\n",
       "    </tr>\n",
       "    <tr>\n",
       "      <th>2</th>\n",
       "      <td>0.000148</td>\n",
       "      <td>0.000290</td>\n",
       "      <td>-0.000081</td>\n",
       "      <td>-0.000229</td>\n",
       "      <td>0.000073</td>\n",
       "    </tr>\n",
       "    <tr>\n",
       "      <th>3</th>\n",
       "      <td>0.000206</td>\n",
       "      <td>0.000487</td>\n",
       "      <td>-0.000127</td>\n",
       "      <td>-0.000371</td>\n",
       "      <td>0.000153</td>\n",
       "    </tr>\n",
       "    <tr>\n",
       "      <th>4</th>\n",
       "      <td>0.000228</td>\n",
       "      <td>0.000462</td>\n",
       "      <td>-0.000054</td>\n",
       "      <td>-0.000239</td>\n",
       "      <td>0.000040</td>\n",
       "    </tr>\n",
       "    <tr>\n",
       "      <th>...</th>\n",
       "      <td>...</td>\n",
       "      <td>...</td>\n",
       "      <td>...</td>\n",
       "      <td>...</td>\n",
       "      <td>...</td>\n",
       "    </tr>\n",
       "    <tr>\n",
       "      <th>4022</th>\n",
       "      <td>0.000228</td>\n",
       "      <td>0.000462</td>\n",
       "      <td>-0.000054</td>\n",
       "      <td>-0.000239</td>\n",
       "      <td>0.000040</td>\n",
       "    </tr>\n",
       "    <tr>\n",
       "      <th>4023</th>\n",
       "      <td>0.000206</td>\n",
       "      <td>0.000487</td>\n",
       "      <td>-0.000127</td>\n",
       "      <td>-0.000371</td>\n",
       "      <td>0.000153</td>\n",
       "    </tr>\n",
       "    <tr>\n",
       "      <th>4024</th>\n",
       "      <td>0.000148</td>\n",
       "      <td>0.000290</td>\n",
       "      <td>-0.000081</td>\n",
       "      <td>-0.000229</td>\n",
       "      <td>0.000073</td>\n",
       "    </tr>\n",
       "    <tr>\n",
       "      <th>4025</th>\n",
       "      <td>0.000091</td>\n",
       "      <td>0.000224</td>\n",
       "      <td>-0.000011</td>\n",
       "      <td>-0.000175</td>\n",
       "      <td>0.000053</td>\n",
       "    </tr>\n",
       "    <tr>\n",
       "      <th>4026</th>\n",
       "      <td>0.000099</td>\n",
       "      <td>0.000173</td>\n",
       "      <td>-0.000054</td>\n",
       "      <td>-0.000041</td>\n",
       "      <td>-0.000001</td>\n",
       "    </tr>\n",
       "  </tbody>\n",
       "</table>\n",
       "<p>4027 rows × 5 columns</p>\n",
       "</div>"
      ],
      "text/plain": [
       "             0         1         2         3         4\n",
       "0     0.000099  0.000173 -0.000054 -0.000041 -0.000001\n",
       "1     0.000091  0.000224 -0.000011 -0.000175  0.000053\n",
       "2     0.000148  0.000290 -0.000081 -0.000229  0.000073\n",
       "3     0.000206  0.000487 -0.000127 -0.000371  0.000153\n",
       "4     0.000228  0.000462 -0.000054 -0.000239  0.000040\n",
       "...        ...       ...       ...       ...       ...\n",
       "4022  0.000228  0.000462 -0.000054 -0.000239  0.000040\n",
       "4023  0.000206  0.000487 -0.000127 -0.000371  0.000153\n",
       "4024  0.000148  0.000290 -0.000081 -0.000229  0.000073\n",
       "4025  0.000091  0.000224 -0.000011 -0.000175  0.000053\n",
       "4026  0.000099  0.000173 -0.000054 -0.000041 -0.000001\n",
       "\n",
       "[4027 rows x 5 columns]"
      ]
     },
     "execution_count": 17,
     "metadata": {},
     "output_type": "execute_result"
    }
   ],
   "source": [
    "data_normal"
   ]
  },
  {
   "cell_type": "code",
   "execution_count": 18,
   "id": "a46c66d1",
   "metadata": {},
   "outputs": [],
   "source": [
    "data = pd.concat([data_normal,data_misalignment,data_unbalance,data_bearing],ignore_index=True)"
   ]
  },
  {
   "cell_type": "code",
   "execution_count": 19,
   "id": "8902be1d",
   "metadata": {},
   "outputs": [
    {
     "data": {
      "text/html": [
       "<div>\n",
       "<style scoped>\n",
       "    .dataframe tbody tr th:only-of-type {\n",
       "        vertical-align: middle;\n",
       "    }\n",
       "\n",
       "    .dataframe tbody tr th {\n",
       "        vertical-align: top;\n",
       "    }\n",
       "\n",
       "    .dataframe thead th {\n",
       "        text-align: right;\n",
       "    }\n",
       "</style>\n",
       "<table border=\"1\" class=\"dataframe\">\n",
       "  <thead>\n",
       "    <tr style=\"text-align: right;\">\n",
       "      <th></th>\n",
       "      <th>0</th>\n",
       "      <th>1</th>\n",
       "      <th>2</th>\n",
       "      <th>3</th>\n",
       "      <th>4</th>\n",
       "    </tr>\n",
       "  </thead>\n",
       "  <tbody>\n",
       "    <tr>\n",
       "      <th>0</th>\n",
       "      <td>0.000099</td>\n",
       "      <td>0.000173</td>\n",
       "      <td>-0.000054</td>\n",
       "      <td>-4.094008e-05</td>\n",
       "      <td>-0.000001</td>\n",
       "    </tr>\n",
       "    <tr>\n",
       "      <th>1</th>\n",
       "      <td>0.000091</td>\n",
       "      <td>0.000224</td>\n",
       "      <td>-0.000011</td>\n",
       "      <td>-1.747493e-04</td>\n",
       "      <td>0.000053</td>\n",
       "    </tr>\n",
       "    <tr>\n",
       "      <th>2</th>\n",
       "      <td>0.000148</td>\n",
       "      <td>0.000290</td>\n",
       "      <td>-0.000081</td>\n",
       "      <td>-2.288879e-04</td>\n",
       "      <td>0.000073</td>\n",
       "    </tr>\n",
       "    <tr>\n",
       "      <th>3</th>\n",
       "      <td>0.000206</td>\n",
       "      <td>0.000487</td>\n",
       "      <td>-0.000127</td>\n",
       "      <td>-3.708794e-04</td>\n",
       "      <td>0.000153</td>\n",
       "    </tr>\n",
       "    <tr>\n",
       "      <th>4</th>\n",
       "      <td>0.000228</td>\n",
       "      <td>0.000462</td>\n",
       "      <td>-0.000054</td>\n",
       "      <td>-2.388535e-04</td>\n",
       "      <td>0.000040</td>\n",
       "    </tr>\n",
       "    <tr>\n",
       "      <th>...</th>\n",
       "      <td>...</td>\n",
       "      <td>...</td>\n",
       "      <td>...</td>\n",
       "      <td>...</td>\n",
       "      <td>...</td>\n",
       "    </tr>\n",
       "    <tr>\n",
       "      <th>12153</th>\n",
       "      <td>0.002694</td>\n",
       "      <td>0.002368</td>\n",
       "      <td>-0.002046</td>\n",
       "      <td>5.075879e-07</td>\n",
       "      <td>-0.000039</td>\n",
       "    </tr>\n",
       "    <tr>\n",
       "      <th>12154</th>\n",
       "      <td>0.002596</td>\n",
       "      <td>0.002350</td>\n",
       "      <td>-0.001052</td>\n",
       "      <td>1.433499e-04</td>\n",
       "      <td>-0.000063</td>\n",
       "    </tr>\n",
       "    <tr>\n",
       "      <th>12155</th>\n",
       "      <td>0.000036</td>\n",
       "      <td>-0.000085</td>\n",
       "      <td>0.000163</td>\n",
       "      <td>2.534752e-04</td>\n",
       "      <td>-0.000143</td>\n",
       "    </tr>\n",
       "    <tr>\n",
       "      <th>12156</th>\n",
       "      <td>-0.000368</td>\n",
       "      <td>-0.000466</td>\n",
       "      <td>0.000337</td>\n",
       "      <td>2.986973e-04</td>\n",
       "      <td>-0.000143</td>\n",
       "    </tr>\n",
       "    <tr>\n",
       "      <th>12157</th>\n",
       "      <td>-0.000174</td>\n",
       "      <td>-0.000232</td>\n",
       "      <td>0.000117</td>\n",
       "      <td>1.337272e-04</td>\n",
       "      <td>-0.000045</td>\n",
       "    </tr>\n",
       "  </tbody>\n",
       "</table>\n",
       "<p>12158 rows × 5 columns</p>\n",
       "</div>"
      ],
      "text/plain": [
       "              0         1         2             3         4\n",
       "0      0.000099  0.000173 -0.000054 -4.094008e-05 -0.000001\n",
       "1      0.000091  0.000224 -0.000011 -1.747493e-04  0.000053\n",
       "2      0.000148  0.000290 -0.000081 -2.288879e-04  0.000073\n",
       "3      0.000206  0.000487 -0.000127 -3.708794e-04  0.000153\n",
       "4      0.000228  0.000462 -0.000054 -2.388535e-04  0.000040\n",
       "...         ...       ...       ...           ...       ...\n",
       "12153  0.002694  0.002368 -0.002046  5.075879e-07 -0.000039\n",
       "12154  0.002596  0.002350 -0.001052  1.433499e-04 -0.000063\n",
       "12155  0.000036 -0.000085  0.000163  2.534752e-04 -0.000143\n",
       "12156 -0.000368 -0.000466  0.000337  2.986973e-04 -0.000143\n",
       "12157 -0.000174 -0.000232  0.000117  1.337272e-04 -0.000045\n",
       "\n",
       "[12158 rows x 5 columns]"
      ]
     },
     "execution_count": 19,
     "metadata": {},
     "output_type": "execute_result"
    }
   ],
   "source": [
    "data"
   ]
  },
  {
   "cell_type": "code",
   "execution_count": 20,
   "id": "a94cdeb3",
   "metadata": {},
   "outputs": [],
   "source": [
    "from sklearn.model_selection import train_test_split\n",
    "X_train, X_test, y_train, y_test = train_test_split(data, y, test_size=0.2, shuffle=True)"
   ]
  },
  {
   "cell_type": "code",
   "execution_count": 21,
   "id": "f13bc2e6",
   "metadata": {
    "scrolled": true
   },
   "outputs": [
    {
     "name": "stdout",
     "output_type": "stream",
     "text": [
      "Shape of Train Data : (9726, 5)\n",
      "Shape of Test Data : (2432, 5)\n"
     ]
    }
   ],
   "source": [
    "print(\"Shape of Train Data : {}\".format(X_train.shape))\n",
    "print(\"Shape of Test Data : {}\".format(X_test.shape))"
   ]
  },
  {
   "cell_type": "code",
   "execution_count": 22,
   "id": "e7feee97",
   "metadata": {},
   "outputs": [
    {
     "name": "stderr",
     "output_type": "stream",
     "text": [
      "C:\\Users\\KOMPUTER\\anaconda3\\lib\\site-packages\\sklearn\\utils\\validation.py:63: DataConversionWarning: A column-vector y was passed when a 1d array was expected. Please change the shape of y to (n_samples, ), for example using ravel().\n",
      "  return f(*args, **kwargs)\n"
     ]
    },
    {
     "name": "stdout",
     "output_type": "stream",
     "text": [
      "SVM accuracy is 0.8223318938926588 on Train Dataset\n",
      "SVM accuracy is 0.8227796052631579 on Test Dataset\n"
     ]
    }
   ],
   "source": [
    "## SVM Machine Learning\n",
    "\n",
    "from sklearn.svm import SVC\n",
    "svm = SVC(random_state = 1)\n",
    "#svm = SVC(kernel='linear', C=0.01)\n",
    "clf = svm.fit(X_train,y_train)\n",
    "print(\"SVM accuracy is {} on Train Dataset\".format(svm.score(X_train,y_train)))\n",
    "print(\"SVM accuracy is {} on Test Dataset\".format(svm.score(X_test,y_test)))"
   ]
  },
  {
   "cell_type": "code",
   "execution_count": 23,
   "id": "87bba85a",
   "metadata": {},
   "outputs": [
    {
     "data": {
      "image/png": "[encoded data removed]",
      "text/plain": [
       "<Figure size 432x288 with 2 Axes>"
      ]
     },
     "metadata": {
      "needs_background": "light"
     },
     "output_type": "display_data"
    },
    {
     "data": {
      "image/png": "[encoded data removed]",
      "text/plain": [
       "<Figure size 432x288 with 2 Axes>"
      ]
     },
     "metadata": {
      "needs_background": "light"
     },
     "output_type": "display_data"
    }
   ],
   "source": [
    "from matplotlib import pyplot as plt\n",
    "from sklearn import svm\n",
    "from sklearn.metrics import plot_confusion_matrix\n",
    "\n",
    "# Generate confusion matrix (normalization)\n",
    "class_names = ['Normal', 'Misalignment', 'Unbalance', 'Bearing']\n",
    "matrix_1 = plot_confusion_matrix(clf, X_test, y_test, display_labels=class_names, xticks_rotation=45,\n",
    "                                 cmap=plt.cm.Greens,\n",
    "                                 normalize='true')\n",
    "plt.title('Normalized Confusion Matrix')\n",
    "plt.show(matrix_1)\n",
    "\n",
    "matrix_2 = plot_confusion_matrix(clf, X_test, y_test, display_labels=class_names, xticks_rotation=45,\n",
    "                                 cmap=plt.cm.Greens,\n",
    "                                 normalize=None)\n",
    "plt.title('Confusion matrix, without normalization')\n",
    "plt.show(matrix_2)\n",
    "\n",
    "plt.show()"
   ]
  },
  {
   "cell_type": "code",
   "execution_count": 24,
   "id": "5c7c7831",
   "metadata": {},
   "outputs": [
    {
     "ename": "TypeError",
     "evalue": "Singleton array array(3, dtype=int64) cannot be considered a valid collection.",
     "output_type": "error",
     "traceback": [
      "\u001b[1;31m---------------------------------------------------------------------------\u001b[0m",
      "\u001b[1;31mTypeError\u001b[0m                                 Traceback (most recent call last)",
      "\u001b[1;32m<ipython-input-24-f09ef801fc8a>\u001b[0m in \u001b[0;36m<module>\u001b[1;34m\u001b[0m\n\u001b[0;32m      8\u001b[0m \u001b[1;31m#y_true = np.argmax(y_test, axis=0)\u001b[0m\u001b[1;33m\u001b[0m\u001b[1;33m\u001b[0m\u001b[1;33m\u001b[0m\u001b[0m\n\u001b[0;32m      9\u001b[0m \u001b[1;33m\u001b[0m\u001b[0m\n\u001b[1;32m---> 10\u001b[1;33m \u001b[0mroc_auc\u001b[0m \u001b[1;33m=\u001b[0m \u001b[0mroc_auc_score\u001b[0m\u001b[1;33m(\u001b[0m\u001b[0my_true\u001b[0m\u001b[1;33m=\u001b[0m\u001b[0my_test\u001b[0m\u001b[1;33m,\u001b[0m \u001b[0my_score\u001b[0m\u001b[1;33m=\u001b[0m\u001b[0my_predict\u001b[0m\u001b[1;33m,\u001b[0m \u001b[0maverage\u001b[0m\u001b[1;33m=\u001b[0m\u001b[1;34m'macro'\u001b[0m\u001b[1;33m,\u001b[0m \u001b[0msample_weight\u001b[0m\u001b[1;33m=\u001b[0m\u001b[1;32mNone\u001b[0m\u001b[1;33m,\u001b[0m \u001b[0mmax_fpr\u001b[0m\u001b[1;33m=\u001b[0m\u001b[1;32mNone\u001b[0m\u001b[1;33m,\u001b[0m \u001b[0mmulti_class\u001b[0m\u001b[1;33m=\u001b[0m\u001b[1;34m'ovo'\u001b[0m\u001b[1;33m,\u001b[0m \u001b[0mlabels\u001b[0m\u001b[1;33m=\u001b[0m\u001b[1;32mNone\u001b[0m\u001b[1;33m)\u001b[0m\u001b[1;33m\u001b[0m\u001b[1;33m\u001b[0m\u001b[0m\n\u001b[0m\u001b[0;32m     11\u001b[0m \u001b[1;31m#roc_auc = roc_auc_score(y_test, y_predict, multi_class='ovr')\u001b[0m\u001b[1;33m\u001b[0m\u001b[1;33m\u001b[0m\u001b[1;33m\u001b[0m\u001b[0m\n\u001b[0;32m     12\u001b[0m \u001b[0mroc_auc\u001b[0m\u001b[1;33m\u001b[0m\u001b[1;33m\u001b[0m\u001b[0m\n",
      "\u001b[1;32m~\\anaconda3\\lib\\site-packages\\sklearn\\utils\\validation.py\u001b[0m in \u001b[0;36minner_f\u001b[1;34m(*args, **kwargs)\u001b[0m\n\u001b[0;32m     61\u001b[0m             \u001b[0mextra_args\u001b[0m \u001b[1;33m=\u001b[0m \u001b[0mlen\u001b[0m\u001b[1;33m(\u001b[0m\u001b[0margs\u001b[0m\u001b[1;33m)\u001b[0m \u001b[1;33m-\u001b[0m \u001b[0mlen\u001b[0m\u001b[1;33m(\u001b[0m\u001b[0mall_args\u001b[0m\u001b[1;33m)\u001b[0m\u001b[1;33m\u001b[0m\u001b[1;33m\u001b[0m\u001b[0m\n\u001b[0;32m     62\u001b[0m             \u001b[1;32mif\u001b[0m \u001b[0mextra_args\u001b[0m \u001b[1;33m<=\u001b[0m \u001b[1;36m0\u001b[0m\u001b[1;33m:\u001b[0m\u001b[1;33m\u001b[0m\u001b[1;33m\u001b[0m\u001b[0m\n\u001b[1;32m---> 63\u001b[1;33m                 \u001b[1;32mreturn\u001b[0m \u001b[0mf\u001b[0m\u001b[1;33m(\u001b[0m\u001b[1;33m*\u001b[0m\u001b[0margs\u001b[0m\u001b[1;33m,\u001b[0m \u001b[1;33m**\u001b[0m\u001b[0mkwargs\u001b[0m\u001b[1;33m)\u001b[0m\u001b[1;33m\u001b[0m\u001b[1;33m\u001b[0m\u001b[0m\n\u001b[0m\u001b[0;32m     64\u001b[0m \u001b[1;33m\u001b[0m\u001b[0m\n\u001b[0;32m     65\u001b[0m             \u001b[1;31m# extra_args > 0\u001b[0m\u001b[1;33m\u001b[0m\u001b[1;33m\u001b[0m\u001b[1;33m\u001b[0m\u001b[0m\n",
      "\u001b[1;32m~\\anaconda3\\lib\\site-packages\\sklearn\\metrics\\_ranking.py\u001b[0m in \u001b[0;36mroc_auc_score\u001b[1;34m(y_true, y_score, average, sample_weight, max_fpr, multi_class, labels)\u001b[0m\n\u001b[0;32m    522\u001b[0m     \u001b[0my_type\u001b[0m \u001b[1;33m=\u001b[0m \u001b[0mtype_of_target\u001b[0m\u001b[1;33m(\u001b[0m\u001b[0my_true\u001b[0m\u001b[1;33m)\u001b[0m\u001b[1;33m\u001b[0m\u001b[1;33m\u001b[0m\u001b[0m\n\u001b[0;32m    523\u001b[0m     \u001b[0my_true\u001b[0m \u001b[1;33m=\u001b[0m \u001b[0mcheck_array\u001b[0m\u001b[1;33m(\u001b[0m\u001b[0my_true\u001b[0m\u001b[1;33m,\u001b[0m \u001b[0mensure_2d\u001b[0m\u001b[1;33m=\u001b[0m\u001b[1;32mFalse\u001b[0m\u001b[1;33m,\u001b[0m \u001b[0mdtype\u001b[0m\u001b[1;33m=\u001b[0m\u001b[1;32mNone\u001b[0m\u001b[1;33m)\u001b[0m\u001b[1;33m\u001b[0m\u001b[1;33m\u001b[0m\u001b[0m\n\u001b[1;32m--> 524\u001b[1;33m     \u001b[0my_score\u001b[0m \u001b[1;33m=\u001b[0m \u001b[0mcheck_array\u001b[0m\u001b[1;33m(\u001b[0m\u001b[0my_score\u001b[0m\u001b[1;33m,\u001b[0m \u001b[0mensure_2d\u001b[0m\u001b[1;33m=\u001b[0m\u001b[1;32mFalse\u001b[0m\u001b[1;33m)\u001b[0m\u001b[1;33m\u001b[0m\u001b[1;33m\u001b[0m\u001b[0m\n\u001b[0m\u001b[0;32m    525\u001b[0m \u001b[1;33m\u001b[0m\u001b[0m\n\u001b[0;32m    526\u001b[0m     if y_type == \"multiclass\" or (y_type == \"binary\" and\n",
      "\u001b[1;32m~\\anaconda3\\lib\\site-packages\\sklearn\\utils\\validation.py\u001b[0m in \u001b[0;36minner_f\u001b[1;34m(*args, **kwargs)\u001b[0m\n\u001b[0;32m     61\u001b[0m             \u001b[0mextra_args\u001b[0m \u001b[1;33m=\u001b[0m \u001b[0mlen\u001b[0m\u001b[1;33m(\u001b[0m\u001b[0margs\u001b[0m\u001b[1;33m)\u001b[0m \u001b[1;33m-\u001b[0m \u001b[0mlen\u001b[0m\u001b[1;33m(\u001b[0m\u001b[0mall_args\u001b[0m\u001b[1;33m)\u001b[0m\u001b[1;33m\u001b[0m\u001b[1;33m\u001b[0m\u001b[0m\n\u001b[0;32m     62\u001b[0m             \u001b[1;32mif\u001b[0m \u001b[0mextra_args\u001b[0m \u001b[1;33m<=\u001b[0m \u001b[1;36m0\u001b[0m\u001b[1;33m:\u001b[0m\u001b[1;33m\u001b[0m\u001b[1;33m\u001b[0m\u001b[0m\n\u001b[1;32m---> 63\u001b[1;33m                 \u001b[1;32mreturn\u001b[0m \u001b[0mf\u001b[0m\u001b[1;33m(\u001b[0m\u001b[1;33m*\u001b[0m\u001b[0margs\u001b[0m\u001b[1;33m,\u001b[0m \u001b[1;33m**\u001b[0m\u001b[0mkwargs\u001b[0m\u001b[1;33m)\u001b[0m\u001b[1;33m\u001b[0m\u001b[1;33m\u001b[0m\u001b[0m\n\u001b[0m\u001b[0;32m     64\u001b[0m \u001b[1;33m\u001b[0m\u001b[0m\n\u001b[0;32m     65\u001b[0m             \u001b[1;31m# extra_args > 0\u001b[0m\u001b[1;33m\u001b[0m\u001b[1;33m\u001b[0m\u001b[1;33m\u001b[0m\u001b[0m\n",
      "\u001b[1;32m~\\anaconda3\\lib\\site-packages\\sklearn\\utils\\validation.py\u001b[0m in \u001b[0;36mcheck_array\u001b[1;34m(array, accept_sparse, accept_large_sparse, dtype, order, copy, force_all_finite, ensure_2d, allow_nd, ensure_min_samples, ensure_min_features, estimator)\u001b[0m\n\u001b[0;32m    665\u001b[0m \u001b[1;33m\u001b[0m\u001b[0m\n\u001b[0;32m    666\u001b[0m     \u001b[1;32mif\u001b[0m \u001b[0mensure_min_samples\u001b[0m \u001b[1;33m>\u001b[0m \u001b[1;36m0\u001b[0m\u001b[1;33m:\u001b[0m\u001b[1;33m\u001b[0m\u001b[1;33m\u001b[0m\u001b[0m\n\u001b[1;32m--> 667\u001b[1;33m         \u001b[0mn_samples\u001b[0m \u001b[1;33m=\u001b[0m \u001b[0m_num_samples\u001b[0m\u001b[1;33m(\u001b[0m\u001b[0marray\u001b[0m\u001b[1;33m)\u001b[0m\u001b[1;33m\u001b[0m\u001b[1;33m\u001b[0m\u001b[0m\n\u001b[0m\u001b[0;32m    668\u001b[0m         \u001b[1;32mif\u001b[0m \u001b[0mn_samples\u001b[0m \u001b[1;33m<\u001b[0m \u001b[0mensure_min_samples\u001b[0m\u001b[1;33m:\u001b[0m\u001b[1;33m\u001b[0m\u001b[1;33m\u001b[0m\u001b[0m\n\u001b[0;32m    669\u001b[0m             raise ValueError(\"Found array with %d sample(s) (shape=%s) while a\"\n",
      "\u001b[1;32m~\\anaconda3\\lib\\site-packages\\sklearn\\utils\\validation.py\u001b[0m in \u001b[0;36m_num_samples\u001b[1;34m(x)\u001b[0m\n\u001b[0;32m    200\u001b[0m     \u001b[1;32mif\u001b[0m \u001b[0mhasattr\u001b[0m\u001b[1;33m(\u001b[0m\u001b[0mx\u001b[0m\u001b[1;33m,\u001b[0m \u001b[1;34m'shape'\u001b[0m\u001b[1;33m)\u001b[0m \u001b[1;32mand\u001b[0m \u001b[0mx\u001b[0m\u001b[1;33m.\u001b[0m\u001b[0mshape\u001b[0m \u001b[1;32mis\u001b[0m \u001b[1;32mnot\u001b[0m \u001b[1;32mNone\u001b[0m\u001b[1;33m:\u001b[0m\u001b[1;33m\u001b[0m\u001b[1;33m\u001b[0m\u001b[0m\n\u001b[0;32m    201\u001b[0m         \u001b[1;32mif\u001b[0m \u001b[0mlen\u001b[0m\u001b[1;33m(\u001b[0m\u001b[0mx\u001b[0m\u001b[1;33m.\u001b[0m\u001b[0mshape\u001b[0m\u001b[1;33m)\u001b[0m \u001b[1;33m==\u001b[0m \u001b[1;36m0\u001b[0m\u001b[1;33m:\u001b[0m\u001b[1;33m\u001b[0m\u001b[1;33m\u001b[0m\u001b[0m\n\u001b[1;32m--> 202\u001b[1;33m             raise TypeError(\"Singleton array %r cannot be considered\"\n\u001b[0m\u001b[0;32m    203\u001b[0m                             \" a valid collection.\" % x)\n\u001b[0;32m    204\u001b[0m         \u001b[1;31m# Check that shape is returning an integer or default to len\u001b[0m\u001b[1;33m\u001b[0m\u001b[1;33m\u001b[0m\u001b[1;33m\u001b[0m\u001b[0m\n",
      "\u001b[1;31mTypeError\u001b[0m: Singleton array array(3, dtype=int64) cannot be considered a valid collection."
     ]
    }
   ],
   "source": [
    "from sklearn.metrics import roc_auc_score\n",
    "\n",
    "preds = clf.predict(X_test) # label scores \n",
    "y_predict = np.argmax(preds, axis=0) # predicted classes \n",
    "y_true  = np.argmax(y_test, axis=1) # true classes\n",
    "\n",
    "#y_predict=clf.predict(X_test)\n",
    "#y_true = np.argmax(y_test, axis=0)\n",
    "\n",
    "roc_auc = roc_auc_score(y_true=y_test, y_score=y_predict, average='macro', sample_weight=None, max_fpr=None, multi_class='ovo', labels=None)\n",
    "#roc_auc = roc_auc_score(y_test, y_predict, multi_class='ovr')\n",
    "roc_auc"
   ]
  },
  {
   "cell_type": "code",
   "execution_count": null,
   "id": "33fd9c2e",
   "metadata": {},
   "outputs": [],
   "source": [
    "from sklearn.metrics import roc_curve\n",
    "import matplotlib.pyplot as plt \n",
    "fpr, tpr, thresholds = roc_curve(y_test, decision.predict_proba(X_test)[:,1])\n",
    "plt.figure()\n",
    "plt.plot(fpr, tpr, color='darkorange', label='Decision Tree (area = %0.2f)' % roc_auc)\n",
    "plt.plot([0, 1], [0, 1], color='navy', lw=2, linestyle='--')\n",
    "plt.xlim([0.0, 1.0])\n",
    "plt.ylim([0.0, 1.05])\n",
    "plt.xlabel('False Positive Rate')\n",
    "plt.ylabel('True Positive Rate')\n",
    "plt.title('Receiver Operating Characteristic')\n",
    "plt.legend(loc=\"lower right\")\n",
    "plt.show()"
   ]
  },
  {
   "cell_type": "code",
   "execution_count": null,
   "id": "d907c49e",
   "metadata": {},
   "outputs": [],
   "source": [
    "# save the model to disk\n",
    "filename = 'finalized_model.sav'\n",
    "\n",
    "pickle.dump(clf, open(filename, 'wb'))\n",
    "\n",
    "#load the model from disk\n",
    "loaded_model = pickle.load(open(filename, 'rb'))\n",
    "result = loaded_model.score(X_test, y_test)\n",
    "result"
   ]
  }
 ],
 "metadata": {
  "kernelspec": {
   "display_name": "Python 3",
   "language": "python",
   "name": "python3"
  },
  "language_info": {
   "codemirror_mode": {
    "name": "ipython",
    "version": 3
   },
   "file_extension": ".py",
   "mimetype": "text/x-python",
   "name": "python",
   "nbconvert_exporter": "python",
   "pygments_lexer": "ipython3",
   "version": "3.8.8"
  }
 },
 "nbformat": 4,
 "nbformat_minor": 5
}
