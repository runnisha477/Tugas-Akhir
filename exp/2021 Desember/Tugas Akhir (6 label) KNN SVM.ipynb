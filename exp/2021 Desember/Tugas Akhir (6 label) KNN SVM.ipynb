{
 "cells": [
  {
   "cell_type": "code",
   "execution_count": 1,
   "id": "70f9d9bf",
   "metadata": {},
   "outputs": [
    {
     "data": {
      "text/plain": [
       "'C:\\\\Users\\\\KOMPUTER\\\\Documents\\\\Jupyter Notebooks'"
      ]
     },
     "execution_count": 1,
     "metadata": {},
     "output_type": "execute_result"
    }
   ],
   "source": [
    "# mencari directory saat ini\n",
    "import os\n",
    "os.getcwd()"
   ]
  },
  {
   "cell_type": "code",
   "execution_count": 2,
   "id": "d6b76d74",
   "metadata": {},
   "outputs": [],
   "source": [
    "# Merubah directory\n",
    "os.chdir('D:\\\\ITS\\\\Tugas Akhir\\\\Source Code')\n",
    "# Merubah directory (beneran)\n",
    "os.chdir('D:/ITS/Tugas Akhir/Source Code')"
   ]
  },
  {
   "cell_type": "code",
   "execution_count": 3,
   "id": "2937d8a2",
   "metadata": {},
   "outputs": [],
   "source": [
    "import numpy as np\n",
    "import pandas as pd\n",
    "import glob "
   ]
  },
  {
   "cell_type": "code",
   "execution_count": 4,
   "id": "9ec9ac99",
   "metadata": {},
   "outputs": [],
   "source": [
    "cur_path = \"D:/ITS/Tugas Akhir/Source Code/Dataset/\""
   ]
  },
  {
   "cell_type": "code",
   "execution_count": 5,
   "id": "a10566ef",
   "metadata": {},
   "outputs": [],
   "source": [
    "normal_file_names = glob.glob(cur_path+'/normal/*.csv')\n",
    "imnormal_horizontal_misalignment = glob.glob(cur_path+'/horizontal-misalignment/*.csv')\n",
    "imnormal_imbalance = glob.glob(cur_path+'/imbalance/*.csv')\n",
    "imnormal_overhang = glob.glob(cur_path+'/overhang/*.csv')\n",
    "imnormal_underhang = glob.glob(cur_path+'/underhang/*.csv')\n",
    "imnormal_vertical_misalignment = glob.glob(cur_path+'/vertical-misalignment/*.csv')"
   ]
  },
  {
   "cell_type": "code",
   "execution_count": 6,
   "id": "3ccb27bd",
   "metadata": {},
   "outputs": [],
   "source": [
    "def dataReader(path_names):\n",
    "    data_n = pd.DataFrame()\n",
    "    for i in path_names:\n",
    "        low_data = pd.read_csv(i,header=None)\n",
    "        data_n = pd.concat([data_n,low_data],ignore_index=True)\n",
    "    return data_n"
   ]
  },
  {
   "cell_type": "code",
   "execution_count": 7,
   "id": "9c7f250f",
   "metadata": {},
   "outputs": [],
   "source": [
    "data_normal = dataReader(normal_file_names)\n",
    "data_horizontal_misalignment = dataReader(imnormal_horizontal_misalignment)\n",
    "data_imbalance = dataReader(imnormal_imbalance)\n",
    "data_overhang = dataReader(imnormal_overhang)\n",
    "data_underhang = dataReader(imnormal_underhang)\n",
    "data_vertical_misalignment = dataReader(imnormal_vertical_misalignment)"
   ]
  },
  {
   "cell_type": "code",
   "execution_count": 8,
   "id": "62b70f12",
   "metadata": {},
   "outputs": [],
   "source": [
    "# DOWN SAMPLING\n",
    "\n",
    "def downSampler(data,a,b):\n",
    "    \"\"\"\n",
    "    data = data\n",
    "    a = start index\n",
    "    b = sampling rate\n",
    "    \"\"\"\n",
    "    data_decreased = pd.DataFrame()\n",
    "    x = b\n",
    "    for i in range(int(len(data)/x)):\n",
    "        data_decreased = data_decreased.append(data.iloc[a:b,:].sum()/x,ignore_index=True)\n",
    "        a += x\n",
    "        b += x\n",
    "    return data_decreased"
   ]
  },
  {
   "cell_type": "code",
   "execution_count": 9,
   "id": "ae0de541",
   "metadata": {},
   "outputs": [],
   "source": [
    "data_normal = downSampler(data_normal, 0, 5000)\n",
    "data_horizontal_misalignment = downSampler(data_horizontal_misalignment, 0, 5000)\n",
    "data_imbalance = downSampler(data_imbalance, 0, 5000)\n",
    "data_overhang = downSampler(data_overhang, 0, 5000)\n",
    "data_underhang = downSampler(data_underhang, 0, 5000)\n",
    "data_vertical_misalignment = downSampler(data_vertical_misalignment, 0, 5000)"
   ]
  },
  {
   "cell_type": "code",
   "execution_count": 10,
   "id": "642a1a20",
   "metadata": {},
   "outputs": [
    {
     "data": {
      "text/html": [
       "<div>\n",
       "<style scoped>\n",
       "    .dataframe tbody tr th:only-of-type {\n",
       "        vertical-align: middle;\n",
       "    }\n",
       "\n",
       "    .dataframe tbody tr th {\n",
       "        vertical-align: top;\n",
       "    }\n",
       "\n",
       "    .dataframe thead th {\n",
       "        text-align: right;\n",
       "    }\n",
       "</style>\n",
       "<table border=\"1\" class=\"dataframe\">\n",
       "  <thead>\n",
       "    <tr style=\"text-align: right;\">\n",
       "      <th></th>\n",
       "      <th>0</th>\n",
       "      <th>1</th>\n",
       "      <th>2</th>\n",
       "      <th>3</th>\n",
       "      <th>4</th>\n",
       "      <th>5</th>\n",
       "      <th>6</th>\n",
       "      <th>7</th>\n",
       "    </tr>\n",
       "  </thead>\n",
       "  <tbody>\n",
       "    <tr>\n",
       "      <th>0</th>\n",
       "      <td>0.238683</td>\n",
       "      <td>0.040645</td>\n",
       "      <td>0.029216</td>\n",
       "      <td>0.005529</td>\n",
       "      <td>0.182794</td>\n",
       "      <td>-0.009161</td>\n",
       "      <td>0.068958</td>\n",
       "      <td>0.009503</td>\n",
       "    </tr>\n",
       "    <tr>\n",
       "      <th>1</th>\n",
       "      <td>-0.190134</td>\n",
       "      <td>0.016455</td>\n",
       "      <td>-0.014548</td>\n",
       "      <td>-0.000583</td>\n",
       "      <td>-0.910306</td>\n",
       "      <td>-0.017664</td>\n",
       "      <td>-0.165307</td>\n",
       "      <td>0.042894</td>\n",
       "    </tr>\n",
       "    <tr>\n",
       "      <th>2</th>\n",
       "      <td>-0.164461</td>\n",
       "      <td>0.042454</td>\n",
       "      <td>0.008994</td>\n",
       "      <td>0.003852</td>\n",
       "      <td>-0.033204</td>\n",
       "      <td>0.019210</td>\n",
       "      <td>-0.028226</td>\n",
       "      <td>-0.016421</td>\n",
       "    </tr>\n",
       "    <tr>\n",
       "      <th>3</th>\n",
       "      <td>0.231968</td>\n",
       "      <td>0.007944</td>\n",
       "      <td>-0.013105</td>\n",
       "      <td>-0.001158</td>\n",
       "      <td>0.421318</td>\n",
       "      <td>0.012364</td>\n",
       "      <td>0.054324</td>\n",
       "      <td>0.049591</td>\n",
       "    </tr>\n",
       "    <tr>\n",
       "      <th>4</th>\n",
       "      <td>-0.158552</td>\n",
       "      <td>0.005222</td>\n",
       "      <td>0.021708</td>\n",
       "      <td>0.004271</td>\n",
       "      <td>-0.888084</td>\n",
       "      <td>-0.017232</td>\n",
       "      <td>-0.142622</td>\n",
       "      <td>0.004031</td>\n",
       "    </tr>\n",
       "    <tr>\n",
       "      <th>...</th>\n",
       "      <td>...</td>\n",
       "      <td>...</td>\n",
       "      <td>...</td>\n",
       "      <td>...</td>\n",
       "      <td>...</td>\n",
       "      <td>...</td>\n",
       "      <td>...</td>\n",
       "      <td>...</td>\n",
       "    </tr>\n",
       "    <tr>\n",
       "      <th>2495</th>\n",
       "      <td>0.086365</td>\n",
       "      <td>0.027052</td>\n",
       "      <td>0.022299</td>\n",
       "      <td>0.004368</td>\n",
       "      <td>-0.025866</td>\n",
       "      <td>-0.003139</td>\n",
       "      <td>-0.697790</td>\n",
       "      <td>0.009832</td>\n",
       "    </tr>\n",
       "    <tr>\n",
       "      <th>2496</th>\n",
       "      <td>-0.037415</td>\n",
       "      <td>-0.012096</td>\n",
       "      <td>-0.009728</td>\n",
       "      <td>-0.007549</td>\n",
       "      <td>0.056508</td>\n",
       "      <td>0.014329</td>\n",
       "      <td>-0.226426</td>\n",
       "      <td>0.014492</td>\n",
       "    </tr>\n",
       "    <tr>\n",
       "      <th>2497</th>\n",
       "      <td>-0.043064</td>\n",
       "      <td>0.019605</td>\n",
       "      <td>-0.006078</td>\n",
       "      <td>0.001259</td>\n",
       "      <td>-0.083126</td>\n",
       "      <td>-0.015022</td>\n",
       "      <td>-0.566022</td>\n",
       "      <td>0.010978</td>\n",
       "    </tr>\n",
       "    <tr>\n",
       "      <th>2498</th>\n",
       "      <td>0.059385</td>\n",
       "      <td>-0.001419</td>\n",
       "      <td>0.007981</td>\n",
       "      <td>-0.000108</td>\n",
       "      <td>-0.001524</td>\n",
       "      <td>0.004681</td>\n",
       "      <td>-0.568967</td>\n",
       "      <td>0.009568</td>\n",
       "    </tr>\n",
       "    <tr>\n",
       "      <th>2499</th>\n",
       "      <td>-0.014656</td>\n",
       "      <td>-0.008357</td>\n",
       "      <td>-0.003186</td>\n",
       "      <td>-0.007643</td>\n",
       "      <td>0.055561</td>\n",
       "      <td>0.009960</td>\n",
       "      <td>-0.150686</td>\n",
       "      <td>0.011884</td>\n",
       "    </tr>\n",
       "  </tbody>\n",
       "</table>\n",
       "<p>2500 rows × 8 columns</p>\n",
       "</div>"
      ],
      "text/plain": [
       "             0         1         2         3         4         5         6  \\\n",
       "0     0.238683  0.040645  0.029216  0.005529  0.182794 -0.009161  0.068958   \n",
       "1    -0.190134  0.016455 -0.014548 -0.000583 -0.910306 -0.017664 -0.165307   \n",
       "2    -0.164461  0.042454  0.008994  0.003852 -0.033204  0.019210 -0.028226   \n",
       "3     0.231968  0.007944 -0.013105 -0.001158  0.421318  0.012364  0.054324   \n",
       "4    -0.158552  0.005222  0.021708  0.004271 -0.888084 -0.017232 -0.142622   \n",
       "...        ...       ...       ...       ...       ...       ...       ...   \n",
       "2495  0.086365  0.027052  0.022299  0.004368 -0.025866 -0.003139 -0.697790   \n",
       "2496 -0.037415 -0.012096 -0.009728 -0.007549  0.056508  0.014329 -0.226426   \n",
       "2497 -0.043064  0.019605 -0.006078  0.001259 -0.083126 -0.015022 -0.566022   \n",
       "2498  0.059385 -0.001419  0.007981 -0.000108 -0.001524  0.004681 -0.568967   \n",
       "2499 -0.014656 -0.008357 -0.003186 -0.007643  0.055561  0.009960 -0.150686   \n",
       "\n",
       "             7  \n",
       "0     0.009503  \n",
       "1     0.042894  \n",
       "2    -0.016421  \n",
       "3     0.049591  \n",
       "4     0.004031  \n",
       "...        ...  \n",
       "2495  0.009832  \n",
       "2496  0.014492  \n",
       "2497  0.010978  \n",
       "2498  0.009568  \n",
       "2499  0.011884  \n",
       "\n",
       "[2500 rows x 8 columns]"
      ]
     },
     "execution_count": 10,
     "metadata": {},
     "output_type": "execute_result"
    }
   ],
   "source": [
    "data_horizontal_misalignment"
   ]
  },
  {
   "cell_type": "code",
   "execution_count": 11,
   "id": "badbc2bb",
   "metadata": {},
   "outputs": [
    {
     "data": {
      "text/plain": [
       "2500"
      ]
     },
     "execution_count": 11,
     "metadata": {},
     "output_type": "execute_result"
    }
   ],
   "source": [
    "len(data_horizontal_misalignment)"
   ]
  },
  {
   "cell_type": "code",
   "execution_count": 12,
   "id": "fd8ecd4e",
   "metadata": {},
   "outputs": [],
   "source": [
    "# FFT\n",
    "\n",
    "from scipy import signal\n",
    "def FFT(data):\n",
    "    autocorr = signal.fftconvolve(data,data[::-1],mode='full')\n",
    "    return pd.DataFrame(autocorr)"
   ]
  },
  {
   "cell_type": "code",
   "execution_count": 13,
   "id": "027cb766",
   "metadata": {},
   "outputs": [],
   "source": [
    "data_normal = FFT(data_normal)\n",
    "data_horizontal_misalignment = FFT(data_horizontal_misalignment)\n",
    "data_imbalance = FFT(data_imbalance)\n",
    "data_overhang = FFT(data_overhang)\n",
    "data_underhang = FFT(data_underhang)\n",
    "data_vertical_misalignment = FFT(data_vertical_misalignment)"
   ]
  },
  {
   "cell_type": "code",
   "execution_count": 14,
   "id": "f3ac8a54",
   "metadata": {},
   "outputs": [
    {
     "data": {
      "text/html": [
       "<div>\n",
       "<style scoped>\n",
       "    .dataframe tbody tr th:only-of-type {\n",
       "        vertical-align: middle;\n",
       "    }\n",
       "\n",
       "    .dataframe tbody tr th {\n",
       "        vertical-align: top;\n",
       "    }\n",
       "\n",
       "    .dataframe thead th {\n",
       "        text-align: right;\n",
       "    }\n",
       "</style>\n",
       "<table border=\"1\" class=\"dataframe\">\n",
       "  <thead>\n",
       "    <tr style=\"text-align: right;\">\n",
       "      <th></th>\n",
       "      <th>0</th>\n",
       "    </tr>\n",
       "  </thead>\n",
       "  <tbody>\n",
       "    <tr>\n",
       "      <th>0</th>\n",
       "      <td>1</td>\n",
       "    </tr>\n",
       "    <tr>\n",
       "      <th>1</th>\n",
       "      <td>1</td>\n",
       "    </tr>\n",
       "    <tr>\n",
       "      <th>2</th>\n",
       "      <td>1</td>\n",
       "    </tr>\n",
       "    <tr>\n",
       "      <th>3</th>\n",
       "      <td>1</td>\n",
       "    </tr>\n",
       "    <tr>\n",
       "      <th>4</th>\n",
       "      <td>1</td>\n",
       "    </tr>\n",
       "    <tr>\n",
       "      <th>...</th>\n",
       "      <td>...</td>\n",
       "    </tr>\n",
       "    <tr>\n",
       "      <th>29889</th>\n",
       "      <td>5</td>\n",
       "    </tr>\n",
       "    <tr>\n",
       "      <th>29890</th>\n",
       "      <td>5</td>\n",
       "    </tr>\n",
       "    <tr>\n",
       "      <th>29891</th>\n",
       "      <td>5</td>\n",
       "    </tr>\n",
       "    <tr>\n",
       "      <th>29892</th>\n",
       "      <td>5</td>\n",
       "    </tr>\n",
       "    <tr>\n",
       "      <th>29893</th>\n",
       "      <td>5</td>\n",
       "    </tr>\n",
       "  </tbody>\n",
       "</table>\n",
       "<p>29894 rows × 1 columns</p>\n",
       "</div>"
      ],
      "text/plain": [
       "       0\n",
       "0      1\n",
       "1      1\n",
       "2      1\n",
       "3      1\n",
       "4      1\n",
       "...   ..\n",
       "29889  5\n",
       "29890  5\n",
       "29891  5\n",
       "29892  5\n",
       "29893  5\n",
       "\n",
       "[29894 rows x 1 columns]"
      ]
     },
     "execution_count": 14,
     "metadata": {},
     "output_type": "execute_result"
    }
   ],
   "source": [
    "y_1 = pd.DataFrame(np.ones(int(len(data_normal)),dtype=int))\n",
    "y_2 = pd.DataFrame(np.zeros(int(len(data_horizontal_misalignment)),dtype=int))\n",
    "y_3 = pd.DataFrame(np.full((int(len(data_imbalance)),1),2))\n",
    "y_4 = pd.DataFrame(np.full((int(len(data_overhang)),1),3))\n",
    "y_5 = pd.DataFrame(np.full((int(len(data_underhang)),1),4))\n",
    "y_6 = pd.DataFrame(np.full((int(len(data_vertical_misalignment)),1),5))\n",
    "y = pd.concat([y_1,y_2,y_3,y_4,y_5,y_6], ignore_index=True)\n",
    "y"
   ]
  },
  {
   "cell_type": "code",
   "execution_count": 15,
   "id": "a46c66d1",
   "metadata": {},
   "outputs": [],
   "source": [
    "data = pd.concat([data_normal,data_horizontal_misalignment,data_imbalance,data_overhang,data_underhang,data_vertical_misalignment],ignore_index=True)"
   ]
  },
  {
   "cell_type": "code",
   "execution_count": 16,
   "id": "8902be1d",
   "metadata": {},
   "outputs": [
    {
     "data": {
      "text/html": [
       "<div>\n",
       "<style scoped>\n",
       "    .dataframe tbody tr th:only-of-type {\n",
       "        vertical-align: middle;\n",
       "    }\n",
       "\n",
       "    .dataframe tbody tr th {\n",
       "        vertical-align: top;\n",
       "    }\n",
       "\n",
       "    .dataframe thead th {\n",
       "        text-align: right;\n",
       "    }\n",
       "</style>\n",
       "<table border=\"1\" class=\"dataframe\">\n",
       "  <thead>\n",
       "    <tr style=\"text-align: right;\">\n",
       "      <th></th>\n",
       "      <th>0</th>\n",
       "      <th>1</th>\n",
       "      <th>2</th>\n",
       "      <th>3</th>\n",
       "      <th>4</th>\n",
       "      <th>5</th>\n",
       "      <th>6</th>\n",
       "      <th>7</th>\n",
       "      <th>8</th>\n",
       "      <th>9</th>\n",
       "      <th>10</th>\n",
       "      <th>11</th>\n",
       "      <th>12</th>\n",
       "      <th>13</th>\n",
       "      <th>14</th>\n",
       "    </tr>\n",
       "  </thead>\n",
       "  <tbody>\n",
       "    <tr>\n",
       "      <th>0</th>\n",
       "      <td>0.004542</td>\n",
       "      <td>0.004043</td>\n",
       "      <td>-0.000508</td>\n",
       "      <td>0.000439</td>\n",
       "      <td>-0.041326</td>\n",
       "      <td>-0.000943</td>\n",
       "      <td>-0.242164</td>\n",
       "      <td>0.017308</td>\n",
       "      <td>-0.040689</td>\n",
       "      <td>-0.007365</td>\n",
       "      <td>-0.214495</td>\n",
       "      <td>-0.004942</td>\n",
       "      <td>-0.004875</td>\n",
       "      <td>-0.008725</td>\n",
       "      <td>0.000094</td>\n",
       "    </tr>\n",
       "    <tr>\n",
       "      <th>1</th>\n",
       "      <td>-0.000463</td>\n",
       "      <td>-0.006171</td>\n",
       "      <td>-0.000274</td>\n",
       "      <td>-0.000107</td>\n",
       "      <td>0.025107</td>\n",
       "      <td>0.006428</td>\n",
       "      <td>-0.016934</td>\n",
       "      <td>0.055042</td>\n",
       "      <td>0.048654</td>\n",
       "      <td>0.008708</td>\n",
       "      <td>0.079617</td>\n",
       "      <td>-0.003387</td>\n",
       "      <td>-0.005380</td>\n",
       "      <td>-0.017382</td>\n",
       "      <td>0.000242</td>\n",
       "    </tr>\n",
       "    <tr>\n",
       "      <th>2</th>\n",
       "      <td>-0.003077</td>\n",
       "      <td>-0.001114</td>\n",
       "      <td>-0.000477</td>\n",
       "      <td>-0.000260</td>\n",
       "      <td>-0.003856</td>\n",
       "      <td>0.002246</td>\n",
       "      <td>-0.020680</td>\n",
       "      <td>0.034375</td>\n",
       "      <td>-0.011763</td>\n",
       "      <td>-0.003181</td>\n",
       "      <td>-0.010646</td>\n",
       "      <td>-0.005665</td>\n",
       "      <td>0.072528</td>\n",
       "      <td>-0.018492</td>\n",
       "      <td>0.000295</td>\n",
       "    </tr>\n",
       "    <tr>\n",
       "      <th>3</th>\n",
       "      <td>-0.006516</td>\n",
       "      <td>0.000796</td>\n",
       "      <td>0.001759</td>\n",
       "      <td>-0.000036</td>\n",
       "      <td>-0.000266</td>\n",
       "      <td>-0.002963</td>\n",
       "      <td>0.106971</td>\n",
       "      <td>-0.016764</td>\n",
       "      <td>-0.046561</td>\n",
       "      <td>-0.009971</td>\n",
       "      <td>-0.140352</td>\n",
       "      <td>-0.006682</td>\n",
       "      <td>0.049748</td>\n",
       "      <td>-0.020924</td>\n",
       "      <td>0.000353</td>\n",
       "    </tr>\n",
       "    <tr>\n",
       "      <th>4</th>\n",
       "      <td>0.006138</td>\n",
       "      <td>0.010242</td>\n",
       "      <td>-0.000674</td>\n",
       "      <td>0.001107</td>\n",
       "      <td>-0.060055</td>\n",
       "      <td>0.006426</td>\n",
       "      <td>-0.147358</td>\n",
       "      <td>0.028066</td>\n",
       "      <td>-0.051482</td>\n",
       "      <td>-0.011185</td>\n",
       "      <td>-0.326531</td>\n",
       "      <td>-0.011004</td>\n",
       "      <td>-0.026181</td>\n",
       "      <td>-0.018649</td>\n",
       "      <td>0.000435</td>\n",
       "    </tr>\n",
       "    <tr>\n",
       "      <th>...</th>\n",
       "      <td>...</td>\n",
       "      <td>...</td>\n",
       "      <td>...</td>\n",
       "      <td>...</td>\n",
       "      <td>...</td>\n",
       "      <td>...</td>\n",
       "      <td>...</td>\n",
       "      <td>...</td>\n",
       "      <td>...</td>\n",
       "      <td>...</td>\n",
       "      <td>...</td>\n",
       "      <td>...</td>\n",
       "      <td>...</td>\n",
       "      <td>...</td>\n",
       "      <td>...</td>\n",
       "    </tr>\n",
       "    <tr>\n",
       "      <th>29889</th>\n",
       "      <td>-0.029224</td>\n",
       "      <td>-0.000226</td>\n",
       "      <td>0.003633</td>\n",
       "      <td>0.001663</td>\n",
       "      <td>0.002900</td>\n",
       "      <td>0.001405</td>\n",
       "      <td>0.063125</td>\n",
       "      <td>0.020152</td>\n",
       "      <td>0.001345</td>\n",
       "      <td>0.000532</td>\n",
       "      <td>-0.020506</td>\n",
       "      <td>-0.001883</td>\n",
       "      <td>-0.079566</td>\n",
       "      <td>-0.002879</td>\n",
       "      <td>0.000751</td>\n",
       "    </tr>\n",
       "    <tr>\n",
       "      <th>29890</th>\n",
       "      <td>0.019075</td>\n",
       "      <td>-0.005153</td>\n",
       "      <td>-0.003448</td>\n",
       "      <td>-0.001551</td>\n",
       "      <td>-0.010146</td>\n",
       "      <td>-0.001645</td>\n",
       "      <td>-0.035378</td>\n",
       "      <td>-0.002168</td>\n",
       "      <td>0.000296</td>\n",
       "      <td>0.000267</td>\n",
       "      <td>-0.015576</td>\n",
       "      <td>-0.003808</td>\n",
       "      <td>-0.065268</td>\n",
       "      <td>-0.001350</td>\n",
       "      <td>0.000594</td>\n",
       "    </tr>\n",
       "    <tr>\n",
       "      <th>29891</th>\n",
       "      <td>0.022809</td>\n",
       "      <td>0.009418</td>\n",
       "      <td>0.003130</td>\n",
       "      <td>0.000732</td>\n",
       "      <td>0.000419</td>\n",
       "      <td>-0.001405</td>\n",
       "      <td>0.004503</td>\n",
       "      <td>-0.011716</td>\n",
       "      <td>-0.004550</td>\n",
       "      <td>-0.000865</td>\n",
       "      <td>-0.005601</td>\n",
       "      <td>0.000042</td>\n",
       "      <td>-0.033492</td>\n",
       "      <td>0.003051</td>\n",
       "      <td>0.000456</td>\n",
       "    </tr>\n",
       "    <tr>\n",
       "      <th>29892</th>\n",
       "      <td>-0.027277</td>\n",
       "      <td>-0.008474</td>\n",
       "      <td>-0.003293</td>\n",
       "      <td>-0.001010</td>\n",
       "      <td>0.007513</td>\n",
       "      <td>0.002006</td>\n",
       "      <td>0.049156</td>\n",
       "      <td>0.011372</td>\n",
       "      <td>0.004556</td>\n",
       "      <td>0.001147</td>\n",
       "      <td>0.004237</td>\n",
       "      <td>0.002143</td>\n",
       "      <td>0.019069</td>\n",
       "      <td>0.006350</td>\n",
       "      <td>0.000330</td>\n",
       "    </tr>\n",
       "    <tr>\n",
       "      <th>29893</th>\n",
       "      <td>0.001885</td>\n",
       "      <td>-0.004331</td>\n",
       "      <td>-0.002230</td>\n",
       "      <td>-0.000592</td>\n",
       "      <td>-0.004313</td>\n",
       "      <td>-0.000523</td>\n",
       "      <td>-0.039882</td>\n",
       "      <td>-0.007759</td>\n",
       "      <td>-0.000784</td>\n",
       "      <td>-0.000096</td>\n",
       "      <td>0.014715</td>\n",
       "      <td>0.004026</td>\n",
       "      <td>0.037794</td>\n",
       "      <td>0.004918</td>\n",
       "      <td>0.000160</td>\n",
       "    </tr>\n",
       "  </tbody>\n",
       "</table>\n",
       "<p>29894 rows × 15 columns</p>\n",
       "</div>"
      ],
      "text/plain": [
       "             0         1         2         3         4         5         6   \\\n",
       "0      0.004542  0.004043 -0.000508  0.000439 -0.041326 -0.000943 -0.242164   \n",
       "1     -0.000463 -0.006171 -0.000274 -0.000107  0.025107  0.006428 -0.016934   \n",
       "2     -0.003077 -0.001114 -0.000477 -0.000260 -0.003856  0.002246 -0.020680   \n",
       "3     -0.006516  0.000796  0.001759 -0.000036 -0.000266 -0.002963  0.106971   \n",
       "4      0.006138  0.010242 -0.000674  0.001107 -0.060055  0.006426 -0.147358   \n",
       "...         ...       ...       ...       ...       ...       ...       ...   \n",
       "29889 -0.029224 -0.000226  0.003633  0.001663  0.002900  0.001405  0.063125   \n",
       "29890  0.019075 -0.005153 -0.003448 -0.001551 -0.010146 -0.001645 -0.035378   \n",
       "29891  0.022809  0.009418  0.003130  0.000732  0.000419 -0.001405  0.004503   \n",
       "29892 -0.027277 -0.008474 -0.003293 -0.001010  0.007513  0.002006  0.049156   \n",
       "29893  0.001885 -0.004331 -0.002230 -0.000592 -0.004313 -0.000523 -0.039882   \n",
       "\n",
       "             7         8         9         10        11        12        13  \\\n",
       "0      0.017308 -0.040689 -0.007365 -0.214495 -0.004942 -0.004875 -0.008725   \n",
       "1      0.055042  0.048654  0.008708  0.079617 -0.003387 -0.005380 -0.017382   \n",
       "2      0.034375 -0.011763 -0.003181 -0.010646 -0.005665  0.072528 -0.018492   \n",
       "3     -0.016764 -0.046561 -0.009971 -0.140352 -0.006682  0.049748 -0.020924   \n",
       "4      0.028066 -0.051482 -0.011185 -0.326531 -0.011004 -0.026181 -0.018649   \n",
       "...         ...       ...       ...       ...       ...       ...       ...   \n",
       "29889  0.020152  0.001345  0.000532 -0.020506 -0.001883 -0.079566 -0.002879   \n",
       "29890 -0.002168  0.000296  0.000267 -0.015576 -0.003808 -0.065268 -0.001350   \n",
       "29891 -0.011716 -0.004550 -0.000865 -0.005601  0.000042 -0.033492  0.003051   \n",
       "29892  0.011372  0.004556  0.001147  0.004237  0.002143  0.019069  0.006350   \n",
       "29893 -0.007759 -0.000784 -0.000096  0.014715  0.004026  0.037794  0.004918   \n",
       "\n",
       "             14  \n",
       "0      0.000094  \n",
       "1      0.000242  \n",
       "2      0.000295  \n",
       "3      0.000353  \n",
       "4      0.000435  \n",
       "...         ...  \n",
       "29889  0.000751  \n",
       "29890  0.000594  \n",
       "29891  0.000456  \n",
       "29892  0.000330  \n",
       "29893  0.000160  \n",
       "\n",
       "[29894 rows x 15 columns]"
      ]
     },
     "execution_count": 16,
     "metadata": {},
     "output_type": "execute_result"
    }
   ],
   "source": [
    "data"
   ]
  },
  {
   "cell_type": "code",
   "execution_count": 17,
   "id": "a94cdeb3",
   "metadata": {},
   "outputs": [],
   "source": [
    "from sklearn.model_selection import train_test_split\n",
    "X_train, X_test, y_train, y_test = train_test_split(data, y, test_size=0.2, shuffle=True)"
   ]
  },
  {
   "cell_type": "code",
   "execution_count": 18,
   "id": "f13bc2e6",
   "metadata": {
    "scrolled": true
   },
   "outputs": [
    {
     "name": "stdout",
     "output_type": "stream",
     "text": [
      "Shape of Train Data : (23915, 15)\n",
      "Shape of Test Data : (5979, 15)\n"
     ]
    }
   ],
   "source": [
    "print(\"Shape of Train Data : {}\".format(X_train.shape))\n",
    "print(\"Shape of Test Data : {}\".format(X_test.shape))"
   ]
  },
  {
   "cell_type": "code",
   "execution_count": 19,
   "id": "bf4abe08",
   "metadata": {},
   "outputs": [
    {
     "name": "stderr",
     "output_type": "stream",
     "text": [
      "C:\\Users\\KOMPUTER\\anaconda3\\lib\\site-packages\\sklearn\\neighbors\\_classification.py:179: DataConversionWarning: A column-vector y was passed when a 1d array was expected. Please change the shape of y to (n_samples,), for example using ravel().\n",
      "  return self._fit(X, y)\n"
     ]
    },
    {
     "name": "stdout",
     "output_type": "stream",
     "text": [
      "k=3NN Accuracy on Train Data: 0.9587706460380514\n",
      "k=3NN Accuracy on Test Data: 0.7877571500250878\n"
     ]
    }
   ],
   "source": [
    "## kNN Machine Learning\n",
    "\n",
    "from sklearn.neighbors import KNeighborsClassifier\n",
    "knn = KNeighborsClassifier(n_neighbors = 3) #n_neighbors = k\n",
    "outknn = knn.fit(X_train,y_train)\n",
    "print(\"k={}NN Accuracy on Train Data: {}\".format(3,knn.score(X_train,y_train)))\n",
    "print(\"k={}NN Accuracy on Test Data: {}\".format(3,knn.score(X_test,y_test)))"
   ]
  },
  {
   "cell_type": "code",
   "execution_count": 20,
   "id": "9b6b8f46",
   "metadata": {},
   "outputs": [
    {
     "data": {
      "image/png": "[encoded data removed]",
      "text/plain": [
       "<Figure size 432x288 with 2 Axes>"
      ]
     },
     "metadata": {
      "needs_background": "light"
     },
     "output_type": "display_data"
    }
   ],
   "source": [
    "from matplotlib import pyplot as plt\n",
    "from sklearn import svm\n",
    "from sklearn.metrics import plot_confusion_matrix\n",
    "\n",
    "# Generate confusion matrix\n",
    "matrix = plot_confusion_matrix(outknn, X_test, y_test,\n",
    "                                 cmap=plt.cm.Blues,\n",
    "                                 normalize='true')\n",
    "plt.title('Confusion matrix for our classifier')\n",
    "plt.show(matrix)\n",
    "plt.show()"
   ]
  },
  {
   "cell_type": "code",
   "execution_count": 21,
   "id": "d0640451",
   "metadata": {},
   "outputs": [
    {
     "name": "stderr",
     "output_type": "stream",
     "text": [
      "C:\\Users\\KOMPUTER\\anaconda3\\lib\\site-packages\\sklearn\\utils\\validation.py:63: DataConversionWarning: A column-vector y was passed when a 1d array was expected. Please change the shape of y to (n_samples, ), for example using ravel().\n",
      "  return f(*args, **kwargs)\n"
     ]
    },
    {
     "name": "stdout",
     "output_type": "stream",
     "text": [
      "SVM accuracy is 0.8025507003972402 on Train Dataset\n",
      "SVM accuracy is 0.8011373139320956 on Test Dataset\n"
     ]
    }
   ],
   "source": [
    "## SVM Machine Learning\n",
    "\n",
    "from sklearn.svm import SVC\n",
    "svm = SVC(random_state = 1)\n",
    "clf = svm.fit(X_train,y_train)\n",
    "print(\"SVM accuracy is {} on Train Dataset\".format(svm.score(X_train,y_train)))\n",
    "print(\"SVM accuracy is {} on Test Dataset\".format(svm.score(X_test,y_test)))"
   ]
  },
  {
   "cell_type": "code",
   "execution_count": 22,
   "id": "db6a31c9",
   "metadata": {},
   "outputs": [
    {
     "data": {
      "image/png": "[encoded data removed]",
      "text/plain": [
       "<Figure size 432x288 with 2 Axes>"
      ]
     },
     "metadata": {
      "needs_background": "light"
     },
     "output_type": "display_data"
    }
   ],
   "source": [
    "from sklearn import svm\n",
    "from sklearn.metrics import plot_confusion_matrix\n",
    "\n",
    "# Generate confusion matrix\n",
    "matrix = plot_confusion_matrix(clf, X_test, y_test,\n",
    "                                 cmap=plt.cm.Blues,\n",
    "                                 normalize='true')\n",
    "plt.title('Confusion matrix for our classifier')\n",
    "plt.show(matrix)\n",
    "plt.show()"
   ]
  },
  {
   "cell_type": "code",
   "execution_count": 23,
   "id": "cc9bfc0b",
   "metadata": {},
   "outputs": [
    {
     "name": "stderr",
     "output_type": "stream",
     "text": [
      "C:\\Users\\KOMPUTER\\anaconda3\\lib\\site-packages\\sklearn\\utils\\validation.py:63: DataConversionWarning: A column-vector y was passed when a 1d array was expected. Please change the shape of y to (n_samples, ), for example using ravel().\n",
      "  return f(*args, **kwargs)\n"
     ]
    }
   ],
   "source": [
    "from sklearn.svm import SVC\n",
    "import pickle\n",
    "svm = SVC(random_state = 1)\n",
    "clf = svm.fit(X_train,y_train)\n",
    "# save the model to disk\n",
    "filename = 'finalized_model.sav'\n",
    "\n",
    "pickle.dump(clf, open(filename, 'wb'))"
   ]
  },
  {
   "cell_type": "code",
   "execution_count": 24,
   "id": "08e8e82e",
   "metadata": {},
   "outputs": [
    {
     "data": {
      "text/plain": [
       "0.8011373139320956"
      ]
     },
     "execution_count": 24,
     "metadata": {},
     "output_type": "execute_result"
    }
   ],
   "source": [
    "#load the model from disk\n",
    "loaded_model = pickle.load(open(filename, 'rb'))\n",
    "result = loaded_model.score(X_test, y_test)\n",
    "result"
   ]
  },
  {
   "cell_type": "code",
   "execution_count": 25,
   "id": "5bd4a9a3",
   "metadata": {},
   "outputs": [
    {
     "name": "stderr",
     "output_type": "stream",
     "text": [
      "C:\\Users\\KOMPUTER\\anaconda3\\lib\\site-packages\\sklearn\\neighbors\\_classification.py:179: DataConversionWarning: A column-vector y was passed when a 1d array was expected. Please change the shape of y to (n_samples,), for example using ravel().\n",
      "  return self._fit(X, y)\n"
     ]
    }
   ],
   "source": [
    "from sklearn.neighbors import KNeighborsClassifier\n",
    "import pickle\n",
    "knn = KNeighborsClassifier(n_neighbors = 3) #n_neighbors = k\n",
    "outknn = knn.fit(X_train,y_train)\n",
    "# save the model to disk\n",
    "filename = 'KNN_model.sav'\n",
    "\n",
    "pickle.dump(outknn, open(filename, 'wb'))"
   ]
  },
  {
   "cell_type": "code",
   "execution_count": 26,
   "id": "7f2635a1",
   "metadata": {},
   "outputs": [
    {
     "data": {
      "text/plain": [
       "0.7877571500250878"
      ]
     },
     "execution_count": 26,
     "metadata": {},
     "output_type": "execute_result"
    }
   ],
   "source": [
    "#load the model from disk\n",
    "loaded_model = pickle.load(open(filename, 'rb'))\n",
    "result = loaded_model.score(X_test, y_test)\n",
    "result"
   ]
  },
  {
   "cell_type": "code",
   "execution_count": 27,
   "id": "c5260fec",
   "metadata": {},
   "outputs": [],
   "source": [
    "# output dibuat prediksi sampel datanya\n",
    "# data vibrasi saja yg di excel"
   ]
  },
  {
   "cell_type": "code",
   "execution_count": 74,
   "id": "e50a6f5a",
   "metadata": {},
   "outputs": [
    {
     "name": "stderr",
     "output_type": "stream",
     "text": [
      "C:\\Users\\KOMPUTER\\anaconda3\\lib\\site-packages\\sklearn\\neighbors\\_classification.py:179: DataConversionWarning: A column-vector y was passed when a 1d array was expected. Please change the shape of y to (n_samples,), for example using ravel().\n",
      "  return self._fit(X, y)\n"
     ]
    }
   ],
   "source": [
    "knn = KNeighborsClassifier(n_neighbors = 3)\n",
    "knn.fit(X_train,y_train)\n",
    "pred = knn.predict(X_test)\n",
    "pred_prob = knn.predict_proba(X_test)"
   ]
  },
  {
   "cell_type": "code",
   "execution_count": 78,
   "id": "8f2dbc3f",
   "metadata": {},
   "outputs": [
    {
     "data": {
      "text/html": [
       "<div>\n",
       "<style scoped>\n",
       "    .dataframe tbody tr th:only-of-type {\n",
       "        vertical-align: middle;\n",
       "    }\n",
       "\n",
       "    .dataframe tbody tr th {\n",
       "        vertical-align: top;\n",
       "    }\n",
       "\n",
       "    .dataframe thead th {\n",
       "        text-align: right;\n",
       "    }\n",
       "</style>\n",
       "<table border=\"1\" class=\"dataframe\">\n",
       "  <thead>\n",
       "    <tr style=\"text-align: right;\">\n",
       "      <th></th>\n",
       "      <th>0</th>\n",
       "      <th>1</th>\n",
       "      <th>2</th>\n",
       "      <th>3</th>\n",
       "      <th>4</th>\n",
       "      <th>5</th>\n",
       "      <th>6</th>\n",
       "      <th>7</th>\n",
       "      <th>8</th>\n",
       "      <th>9</th>\n",
       "      <th>10</th>\n",
       "      <th>11</th>\n",
       "      <th>12</th>\n",
       "      <th>13</th>\n",
       "      <th>14</th>\n",
       "    </tr>\n",
       "  </thead>\n",
       "  <tbody>\n",
       "    <tr>\n",
       "      <th>2490</th>\n",
       "      <td>-0.026426</td>\n",
       "      <td>0.038069</td>\n",
       "      <td>0.348592</td>\n",
       "      <td>0.006748</td>\n",
       "      <td>3.061005</td>\n",
       "      <td>0.305219</td>\n",
       "      <td>2.124139</td>\n",
       "      <td>-0.036670</td>\n",
       "      <td>44.270976</td>\n",
       "      <td>0.426127</td>\n",
       "      <td>37.945610</td>\n",
       "      <td>1.428725</td>\n",
       "      <td>9.954850</td>\n",
       "      <td>1.101694</td>\n",
       "      <td>0.369654</td>\n",
       "    </tr>\n",
       "    <tr>\n",
       "      <th>4418</th>\n",
       "      <td>0.024939</td>\n",
       "      <td>0.077655</td>\n",
       "      <td>0.035581</td>\n",
       "      <td>0.004501</td>\n",
       "      <td>0.384070</td>\n",
       "      <td>0.200445</td>\n",
       "      <td>-0.015425</td>\n",
       "      <td>0.547853</td>\n",
       "      <td>1.274836</td>\n",
       "      <td>0.303538</td>\n",
       "      <td>-10.289026</td>\n",
       "      <td>0.234862</td>\n",
       "      <td>-3.102850</td>\n",
       "      <td>0.329215</td>\n",
       "      <td>0.070116</td>\n",
       "    </tr>\n",
       "    <tr>\n",
       "      <th>19080</th>\n",
       "      <td>0.237369</td>\n",
       "      <td>0.039684</td>\n",
       "      <td>0.269279</td>\n",
       "      <td>-0.012198</td>\n",
       "      <td>-2.495538</td>\n",
       "      <td>0.296811</td>\n",
       "      <td>-0.401867</td>\n",
       "      <td>0.076002</td>\n",
       "      <td>-4.617438</td>\n",
       "      <td>-0.022784</td>\n",
       "      <td>-3.759163</td>\n",
       "      <td>0.579413</td>\n",
       "      <td>-0.688212</td>\n",
       "      <td>0.168950</td>\n",
       "      <td>0.182073</td>\n",
       "    </tr>\n",
       "    <tr>\n",
       "      <th>17092</th>\n",
       "      <td>0.650843</td>\n",
       "      <td>-0.645155</td>\n",
       "      <td>0.557425</td>\n",
       "      <td>0.013997</td>\n",
       "      <td>4.916371</td>\n",
       "      <td>3.693565</td>\n",
       "      <td>1.728728</td>\n",
       "      <td>1.126507</td>\n",
       "      <td>7.590753</td>\n",
       "      <td>0.087959</td>\n",
       "      <td>4.062207</td>\n",
       "      <td>1.927144</td>\n",
       "      <td>0.846758</td>\n",
       "      <td>0.515357</td>\n",
       "      <td>0.511143</td>\n",
       "    </tr>\n",
       "    <tr>\n",
       "      <th>937</th>\n",
       "      <td>0.073501</td>\n",
       "      <td>-0.050380</td>\n",
       "      <td>0.099539</td>\n",
       "      <td>-0.022625</td>\n",
       "      <td>0.330057</td>\n",
       "      <td>-0.121507</td>\n",
       "      <td>0.096136</td>\n",
       "      <td>0.310405</td>\n",
       "      <td>5.002988</td>\n",
       "      <td>0.244743</td>\n",
       "      <td>-6.211039</td>\n",
       "      <td>0.359481</td>\n",
       "      <td>-5.231482</td>\n",
       "      <td>0.524672</td>\n",
       "      <td>0.139752</td>\n",
       "    </tr>\n",
       "    <tr>\n",
       "      <th>...</th>\n",
       "      <td>...</td>\n",
       "      <td>...</td>\n",
       "      <td>...</td>\n",
       "      <td>...</td>\n",
       "      <td>...</td>\n",
       "      <td>...</td>\n",
       "      <td>...</td>\n",
       "      <td>...</td>\n",
       "      <td>...</td>\n",
       "      <td>...</td>\n",
       "      <td>...</td>\n",
       "      <td>...</td>\n",
       "      <td>...</td>\n",
       "      <td>...</td>\n",
       "      <td>...</td>\n",
       "    </tr>\n",
       "    <tr>\n",
       "      <th>7809</th>\n",
       "      <td>0.598413</td>\n",
       "      <td>0.089092</td>\n",
       "      <td>0.319474</td>\n",
       "      <td>-0.007799</td>\n",
       "      <td>0.474019</td>\n",
       "      <td>0.577842</td>\n",
       "      <td>0.979397</td>\n",
       "      <td>0.354327</td>\n",
       "      <td>-0.953226</td>\n",
       "      <td>-0.181763</td>\n",
       "      <td>-1.236176</td>\n",
       "      <td>0.077530</td>\n",
       "      <td>-3.772324</td>\n",
       "      <td>0.111397</td>\n",
       "      <td>0.359350</td>\n",
       "    </tr>\n",
       "    <tr>\n",
       "      <th>29811</th>\n",
       "      <td>0.107203</td>\n",
       "      <td>-0.012341</td>\n",
       "      <td>-0.004511</td>\n",
       "      <td>-0.010014</td>\n",
       "      <td>-0.003490</td>\n",
       "      <td>0.001401</td>\n",
       "      <td>0.225330</td>\n",
       "      <td>-0.147827</td>\n",
       "      <td>-0.000200</td>\n",
       "      <td>0.002332</td>\n",
       "      <td>-0.070379</td>\n",
       "      <td>-0.010654</td>\n",
       "      <td>-2.168009</td>\n",
       "      <td>0.000158</td>\n",
       "      <td>0.011792</td>\n",
       "    </tr>\n",
       "    <tr>\n",
       "      <th>2724</th>\n",
       "      <td>-0.111850</td>\n",
       "      <td>-0.082941</td>\n",
       "      <td>0.060930</td>\n",
       "      <td>-0.004526</td>\n",
       "      <td>0.779890</td>\n",
       "      <td>0.493287</td>\n",
       "      <td>0.700907</td>\n",
       "      <td>0.496599</td>\n",
       "      <td>-3.239635</td>\n",
       "      <td>0.175275</td>\n",
       "      <td>-3.159724</td>\n",
       "      <td>0.999015</td>\n",
       "      <td>-2.174744</td>\n",
       "      <td>0.972511</td>\n",
       "      <td>0.329608</td>\n",
       "    </tr>\n",
       "    <tr>\n",
       "      <th>22220</th>\n",
       "      <td>0.560872</td>\n",
       "      <td>0.763494</td>\n",
       "      <td>0.534106</td>\n",
       "      <td>0.060002</td>\n",
       "      <td>-2.770522</td>\n",
       "      <td>1.180804</td>\n",
       "      <td>-0.196445</td>\n",
       "      <td>0.793446</td>\n",
       "      <td>4.765006</td>\n",
       "      <td>-1.025628</td>\n",
       "      <td>1.672721</td>\n",
       "      <td>0.966006</td>\n",
       "      <td>0.193770</td>\n",
       "      <td>0.661794</td>\n",
       "      <td>0.502876</td>\n",
       "    </tr>\n",
       "    <tr>\n",
       "      <th>23583</th>\n",
       "      <td>-0.286661</td>\n",
       "      <td>-0.068188</td>\n",
       "      <td>0.351446</td>\n",
       "      <td>0.006288</td>\n",
       "      <td>1.658261</td>\n",
       "      <td>0.465423</td>\n",
       "      <td>-0.524991</td>\n",
       "      <td>0.344086</td>\n",
       "      <td>-4.157391</td>\n",
       "      <td>-1.565326</td>\n",
       "      <td>-3.280796</td>\n",
       "      <td>0.123329</td>\n",
       "      <td>-0.582827</td>\n",
       "      <td>0.311980</td>\n",
       "      <td>0.285600</td>\n",
       "    </tr>\n",
       "  </tbody>\n",
       "</table>\n",
       "<p>5979 rows × 15 columns</p>\n",
       "</div>"
      ],
      "text/plain": [
       "             0         1         2         3         4         5         6   \\\n",
       "2490  -0.026426  0.038069  0.348592  0.006748  3.061005  0.305219  2.124139   \n",
       "4418   0.024939  0.077655  0.035581  0.004501  0.384070  0.200445 -0.015425   \n",
       "19080  0.237369  0.039684  0.269279 -0.012198 -2.495538  0.296811 -0.401867   \n",
       "17092  0.650843 -0.645155  0.557425  0.013997  4.916371  3.693565  1.728728   \n",
       "937    0.073501 -0.050380  0.099539 -0.022625  0.330057 -0.121507  0.096136   \n",
       "...         ...       ...       ...       ...       ...       ...       ...   \n",
       "7809   0.598413  0.089092  0.319474 -0.007799  0.474019  0.577842  0.979397   \n",
       "29811  0.107203 -0.012341 -0.004511 -0.010014 -0.003490  0.001401  0.225330   \n",
       "2724  -0.111850 -0.082941  0.060930 -0.004526  0.779890  0.493287  0.700907   \n",
       "22220  0.560872  0.763494  0.534106  0.060002 -2.770522  1.180804 -0.196445   \n",
       "23583 -0.286661 -0.068188  0.351446  0.006288  1.658261  0.465423 -0.524991   \n",
       "\n",
       "             7          8         9          10        11        12        13  \\\n",
       "2490  -0.036670  44.270976  0.426127  37.945610  1.428725  9.954850  1.101694   \n",
       "4418   0.547853   1.274836  0.303538 -10.289026  0.234862 -3.102850  0.329215   \n",
       "19080  0.076002  -4.617438 -0.022784  -3.759163  0.579413 -0.688212  0.168950   \n",
       "17092  1.126507   7.590753  0.087959   4.062207  1.927144  0.846758  0.515357   \n",
       "937    0.310405   5.002988  0.244743  -6.211039  0.359481 -5.231482  0.524672   \n",
       "...         ...        ...       ...        ...       ...       ...       ...   \n",
       "7809   0.354327  -0.953226 -0.181763  -1.236176  0.077530 -3.772324  0.111397   \n",
       "29811 -0.147827  -0.000200  0.002332  -0.070379 -0.010654 -2.168009  0.000158   \n",
       "2724   0.496599  -3.239635  0.175275  -3.159724  0.999015 -2.174744  0.972511   \n",
       "22220  0.793446   4.765006 -1.025628   1.672721  0.966006  0.193770  0.661794   \n",
       "23583  0.344086  -4.157391 -1.565326  -3.280796  0.123329 -0.582827  0.311980   \n",
       "\n",
       "             14  \n",
       "2490   0.369654  \n",
       "4418   0.070116  \n",
       "19080  0.182073  \n",
       "17092  0.511143  \n",
       "937    0.139752  \n",
       "...         ...  \n",
       "7809   0.359350  \n",
       "29811  0.011792  \n",
       "2724   0.329608  \n",
       "22220  0.502876  \n",
       "23583  0.285600  \n",
       "\n",
       "[5979 rows x 15 columns]"
      ]
     },
     "execution_count": 78,
     "metadata": {},
     "output_type": "execute_result"
    }
   ],
   "source": [
    "X_test"
   ]
  },
  {
   "cell_type": "code",
   "execution_count": 75,
   "id": "110a9631",
   "metadata": {},
   "outputs": [
    {
     "data": {
      "text/plain": [
       "array([1, 1, 3, ..., 1, 4, 4])"
      ]
     },
     "execution_count": 75,
     "metadata": {},
     "output_type": "execute_result"
    }
   ],
   "source": [
    "pred"
   ]
  },
  {
   "cell_type": "code",
   "execution_count": 76,
   "id": "4e4c6586",
   "metadata": {},
   "outputs": [
    {
     "data": {
      "text/plain": [
       "array([[0., 1., 0., 0., 0., 0.],\n",
       "       [0., 1., 0., 0., 0., 0.],\n",
       "       [0., 0., 0., 1., 0., 0.],\n",
       "       ...,\n",
       "       [0., 1., 0., 0., 0., 0.],\n",
       "       [0., 0., 0., 0., 1., 0.],\n",
       "       [0., 0., 0., 0., 1., 0.]])"
      ]
     },
     "execution_count": 76,
     "metadata": {},
     "output_type": "execute_result"
    }
   ],
   "source": [
    "pred_prob"
   ]
  },
  {
   "cell_type": "code",
   "execution_count": 77,
   "id": "c2dd270a",
   "metadata": {},
   "outputs": [
    {
     "data": {
      "text/plain": [
       "'horizontal_misalignment'"
      ]
     },
     "execution_count": 77,
     "metadata": {},
     "output_type": "execute_result"
    }
   ],
   "source": [
    "np.argmax(pred_prob)\n",
    "label_dict = {0:'normal', 1:'horizontal_misalignment', 2:'imbalance', 3:'overhang', 4:'underhang', 5:'vertical_misalignment'}\n",
    "label_dict[np.argmax(pred_prob)]"
   ]
  },
  {
   "cell_type": "code",
   "execution_count": null,
   "id": "4d26e782",
   "metadata": {},
   "outputs": [],
   "source": []
  }
 ],
 "metadata": {
  "kernelspec": {
   "display_name": "Python 3",
   "language": "python",
   "name": "python3"
  },
  "language_info": {
   "codemirror_mode": {
    "name": "ipython",
    "version": 3
   },
   "file_extension": ".py",
   "mimetype": "text/x-python",
   "name": "python",
   "nbconvert_exporter": "python",
   "pygments_lexer": "ipython3",
   "version": "3.8.8"
  }
 },
 "nbformat": 4,
 "nbformat_minor": 5
}
